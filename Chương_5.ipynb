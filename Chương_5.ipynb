{
  "nbformat": 4,
  "nbformat_minor": 0,
  "metadata": {
    "colab": {
      "name": "Chương 5.ipynb",
      "provenance": [],
      "authorship_tag": "ABX9TyMONQsUSM1GqyVbmCYHpuNY",
      "include_colab_link": true
    },
    "kernelspec": {
      "name": "python3",
      "display_name": "Python 3"
    },
    "language_info": {
      "name": "python"
    }
  },
  "cells": [
    {
      "cell_type": "markdown",
      "metadata": {
        "id": "view-in-github",
        "colab_type": "text"
      },
      "source": [
        "<a href=\"https://colab.research.google.com/github/ThyAnhhh/ThuchanhToanCC/blob/main/Ch%C6%B0%C6%A1ng_5.ipynb\" target=\"_parent\"><img src=\"https://colab.research.google.com/assets/colab-badge.svg\" alt=\"Open In Colab\"/></a>"
      ]
    },
    {
      "cell_type": "markdown",
      "source": [
        "Thực hành 1"
      ],
      "metadata": {
        "id": "EnAEGJXMdkWi"
      }
    },
    {
      "cell_type": "code",
      "source": [
        "x = 3\n",
        "print(x)"
      ],
      "metadata": {
        "colab": {
          "base_uri": "https://localhost:8080/"
        },
        "id": "lhHVpNT6eEab",
        "outputId": "e1cea925-23ff-4fdc-92a2-c7359ae4ed51"
      },
      "execution_count": 1,
      "outputs": [
        {
          "output_type": "stream",
          "name": "stdout",
          "text": [
            "3\n"
          ]
        }
      ]
    },
    {
      "cell_type": "code",
      "source": [
        "import math\n",
        "x = math.sqrt(1+x)\n",
        "print(x)"
      ],
      "metadata": {
        "colab": {
          "base_uri": "https://localhost:8080/"
        },
        "id": "_VO6evHpeGrJ",
        "outputId": "92a8e755-3163-4e88-f05d-100a04401289"
      },
      "execution_count": 2,
      "outputs": [
        {
          "output_type": "stream",
          "name": "stdout",
          "text": [
            "2.0\n"
          ]
        }
      ]
    },
    {
      "cell_type": "code",
      "source": [
        "import math\n",
        "x = math.sqrt(1+x)\n",
        "print(x)"
      ],
      "metadata": {
        "colab": {
          "base_uri": "https://localhost:8080/"
        },
        "id": "dLXwMXQZeI0E",
        "outputId": "41fe95a8-1a59-4355-882d-4533efbb22dc"
      },
      "execution_count": 3,
      "outputs": [
        {
          "output_type": "stream",
          "name": "stdout",
          "text": [
            "1.7320508075688772\n"
          ]
        }
      ]
    },
    {
      "cell_type": "code",
      "source": [
        "import math\n",
        "x = math.sqrt(1+x)\n",
        "print(x)"
      ],
      "metadata": {
        "colab": {
          "base_uri": "https://localhost:8080/"
        },
        "id": "fgn7xY1GeLdo",
        "outputId": "d6f3f6d6-3c53-4e25-ecb5-37a1da9fcc83"
      },
      "execution_count": 4,
      "outputs": [
        {
          "output_type": "stream",
          "name": "stdout",
          "text": [
            "1.6528916502810695\n"
          ]
        }
      ]
    },
    {
      "cell_type": "code",
      "source": [
        "import math\n",
        "x = math.sqrt(x)\n",
        "print(x)"
      ],
      "metadata": {
        "colab": {
          "base_uri": "https://localhost:8080/"
        },
        "id": "7x7qc3jOeNmM",
        "outputId": "4a179755-d512-46a6-90a6-d33816812448"
      },
      "execution_count": 5,
      "outputs": [
        {
          "output_type": "stream",
          "name": "stdout",
          "text": [
            "1.2856483384973783\n"
          ]
        }
      ]
    },
    {
      "cell_type": "markdown",
      "source": [
        "Thực hành 2"
      ],
      "metadata": {
        "id": "HHETY07deQPw"
      }
    },
    {
      "cell_type": "code",
      "source": [
        "import math\n",
        "x = 3\n",
        "lap = 1\n",
        "while (x != math.sqrt(x + 1)):\n",
        "  x = math.sqrt(x + 1)\n",
        "  lap += 1\n",
        "x"
      ],
      "metadata": {
        "colab": {
          "base_uri": "https://localhost:8080/"
        },
        "id": "TaPZ4UHueRbp",
        "outputId": "188104c2-c428-4458-865d-a4bdd6cf1ea8"
      },
      "execution_count": 6,
      "outputs": [
        {
          "output_type": "execute_result",
          "data": {
            "text/plain": [
              "1.618033988749895"
            ]
          },
          "metadata": {},
          "execution_count": 6
        }
      ]
    },
    {
      "cell_type": "code",
      "source": [
        "lap"
      ],
      "metadata": {
        "colab": {
          "base_uri": "https://localhost:8080/"
        },
        "id": "SVRCdT7ReUEV",
        "outputId": "0063becd-7cbb-4204-f38c-b0726157bb87"
      },
      "execution_count": 7,
      "outputs": [
        {
          "output_type": "execute_result",
          "data": {
            "text/plain": [
              "32"
            ]
          },
          "metadata": {},
          "execution_count": 7
        }
      ]
    },
    {
      "cell_type": "markdown",
      "source": [
        "Thực hành 3"
      ],
      "metadata": {
        "id": "jzskmpRPeWry"
      }
    },
    {
      "cell_type": "code",
      "source": [
        "import sympy as sp\n",
        "from sympy import Symbol\n",
        "x = Symbol('x')\n",
        "sp.solve(x-sp.sqrt(1 + x), x)"
      ],
      "metadata": {
        "colab": {
          "base_uri": "https://localhost:8080/"
        },
        "id": "rnvyWoWbeX-I",
        "outputId": "4c63a5db-86ff-4d17-e38f-7f4f8aa015b6"
      },
      "execution_count": 8,
      "outputs": [
        {
          "output_type": "execute_result",
          "data": {
            "text/plain": [
              "[1/2 + sqrt(5)/2]"
            ]
          },
          "metadata": {},
          "execution_count": 8
        }
      ]
    },
    {
      "cell_type": "markdown",
      "source": [
        "Thực hành 4"
      ],
      "metadata": {
        "id": "TWHqjhVkeayj"
      }
    },
    {
      "cell_type": "code",
      "source": [
        "import numpy as np\n",
        "v1 = np.array([1.,2.,3.]) # tao vector 3 chieu\n",
        "v2 = np.array([2.,1.,0.])\n",
        "v3 = v1 + v2 # cong vector\n",
        "v3"
      ],
      "metadata": {
        "colab": {
          "base_uri": "https://localhost:8080/"
        },
        "id": "UKet82_wefat",
        "outputId": "e62ed255-8432-44c0-e862-522887a96a15"
      },
      "execution_count": 9,
      "outputs": [
        {
          "output_type": "execute_result",
          "data": {
            "text/plain": [
              "array([3., 3., 3.])"
            ]
          },
          "metadata": {},
          "execution_count": 9
        }
      ]
    },
    {
      "cell_type": "code",
      "source": [
        "3*v1 + 2*v2"
      ],
      "metadata": {
        "colab": {
          "base_uri": "https://localhost:8080/"
        },
        "id": "MCaBlKU-ejyI",
        "outputId": "55a79dbe-5240-444b-a4e3-bdeb3fc1a9f0"
      },
      "execution_count": 10,
      "outputs": [
        {
          "output_type": "execute_result",
          "data": {
            "text/plain": [
              "array([7., 8., 9.])"
            ]
          },
          "metadata": {},
          "execution_count": 10
        }
      ]
    },
    {
      "cell_type": "code",
      "source": [
        "[1,2,3] + [2,1,0]"
      ],
      "metadata": {
        "colab": {
          "base_uri": "https://localhost:8080/"
        },
        "id": "G33H9LjiemT6",
        "outputId": "bf12edb1-5f2f-4a3c-8c5d-5a3fa5305449"
      },
      "execution_count": 11,
      "outputs": [
        {
          "output_type": "execute_result",
          "data": {
            "text/plain": [
              "[1, 2, 3, 2, 1, 0]"
            ]
          },
          "metadata": {},
          "execution_count": 11
        }
      ]
    },
    {
      "cell_type": "code",
      "source": [
        "3*[1,2,3] + 2*[2,1,0]"
      ],
      "metadata": {
        "colab": {
          "base_uri": "https://localhost:8080/"
        },
        "id": "wl5LIhgZeov3",
        "outputId": "421b1fa8-a55f-495a-b4f4-7e9ba9c5da43"
      },
      "execution_count": 12,
      "outputs": [
        {
          "output_type": "execute_result",
          "data": {
            "text/plain": [
              "[1, 2, 3, 1, 2, 3, 1, 2, 3, 2, 1, 0, 2, 1, 0]"
            ]
          },
          "metadata": {},
          "execution_count": 12
        }
      ]
    },
    {
      "cell_type": "code",
      "source": [
        "v4 = np.hstack([v1, v2])\n",
        "v4"
      ],
      "metadata": {
        "colab": {
          "base_uri": "https://localhost:8080/"
        },
        "id": "LmpDsGjzet66",
        "outputId": "2a0e9d30-5e10-4536-875e-9c5576c03b53"
      },
      "execution_count": 13,
      "outputs": [
        {
          "output_type": "execute_result",
          "data": {
            "text/plain": [
              "array([1., 2., 3., 2., 1., 0.])"
            ]
          },
          "metadata": {},
          "execution_count": 13
        }
      ]
    },
    {
      "cell_type": "code",
      "source": [
        "np.dot(v1,v2)"
      ],
      "metadata": {
        "colab": {
          "base_uri": "https://localhost:8080/"
        },
        "id": "hBIe3nGXevGS",
        "outputId": "643cbfe8-3c42-4af4-d9e2-f67b35ac5e38"
      },
      "execution_count": 14,
      "outputs": [
        {
          "output_type": "execute_result",
          "data": {
            "text/plain": [
              "4.0"
            ]
          },
          "metadata": {},
          "execution_count": 14
        }
      ]
    },
    {
      "cell_type": "code",
      "source": [
        "angles = np.linspace(0, np.pi/2, 5)\n",
        "angles"
      ],
      "metadata": {
        "colab": {
          "base_uri": "https://localhost:8080/"
        },
        "id": "IpYYxFd4ey6z",
        "outputId": "18751f31-4e70-4f93-f408-48a07930fe79"
      },
      "execution_count": 15,
      "outputs": [
        {
          "output_type": "execute_result",
          "data": {
            "text/plain": [
              "array([0.        , 0.39269908, 0.78539816, 1.17809725, 1.57079633])"
            ]
          },
          "metadata": {},
          "execution_count": 15
        }
      ]
    },
    {
      "cell_type": "markdown",
      "source": [
        "Thực hành 5"
      ],
      "metadata": {
        "id": "EoCg_jyKjulx"
      }
    },
    {
      "cell_type": "code",
      "source": [
        "import numpy as np\n",
        "goc = np.pi/3\n",
        "A = np.array([ [np.cos(goc), -np.sin(goc)], [np.sin(goc), np.cos(goc)] ])\n",
        "V = np.array([1., 0.])\n",
        "Y = np.dot(A, V)\n",
        "Y"
      ],
      "metadata": {
        "colab": {
          "base_uri": "https://localhost:8080/"
        },
        "id": "QY5cofXMjwFa",
        "outputId": "135c5e84-60d6-43a9-925b-bd4852b03b45"
      },
      "execution_count": 16,
      "outputs": [
        {
          "output_type": "execute_result",
          "data": {
            "text/plain": [
              "array([0.5      , 0.8660254])"
            ]
          },
          "metadata": {},
          "execution_count": 16
        }
      ]
    },
    {
      "cell_type": "markdown",
      "source": [
        "Thực hành 6"
      ],
      "metadata": {
        "id": "ap5A3403j5VW"
      }
    },
    {
      "cell_type": "code",
      "source": [
        "from numpy import diff\n",
        "dx = 0.1\n",
        "y = [1, 2, 3, 4, 4, 5, 6]\n",
        "dy = diff(y)/dx\n",
        "dy"
      ],
      "metadata": {
        "colab": {
          "base_uri": "https://localhost:8080/"
        },
        "id": "77cuWRl-j6_C",
        "outputId": "b26b029c-279a-4913-8594-467476863ae4"
      },
      "execution_count": 17,
      "outputs": [
        {
          "output_type": "execute_result",
          "data": {
            "text/plain": [
              "array([10., 10., 10.,  0., 10., 10.])"
            ]
          },
          "metadata": {},
          "execution_count": 17
        }
      ]
    },
    {
      "cell_type": "code",
      "source": [
        "z = np.array([1,2,3,4,4,5,6])\n",
        "dz = diff(z)/dx\n",
        "dz"
      ],
      "metadata": {
        "colab": {
          "base_uri": "https://localhost:8080/"
        },
        "id": "TdDU8SQ-j-Cz",
        "outputId": "44e9e1eb-f4d9-409d-ccb5-fb50d78bab7e"
      },
      "execution_count": 18,
      "outputs": [
        {
          "output_type": "execute_result",
          "data": {
            "text/plain": [
              "array([10., 10., 10.,  0., 10., 10.])"
            ]
          },
          "metadata": {},
          "execution_count": 18
        }
      ]
    },
    {
      "cell_type": "code",
      "source": [
        "from numpy import diff\n",
        "x = [.1, .2, .5, .6, .7, .8, .9]\n",
        "y = [1,2,3,4,4,5,6]\n",
        "dydx = diff(y)/diff(x)\n",
        "print(dydx)"
      ],
      "metadata": {
        "colab": {
          "base_uri": "https://localhost:8080/"
        },
        "id": "KACQgB3PkAFD",
        "outputId": "721ed57e-e6d2-40ba-c995-22179b44d88e"
      },
      "execution_count": 19,
      "outputs": [
        {
          "output_type": "stream",
          "name": "stdout",
          "text": [
            "[10.          3.33333333 10.          0.         10.         10.        ]\n"
          ]
        }
      ]
    },
    {
      "cell_type": "markdown",
      "source": [
        "Thực hành 7"
      ],
      "metadata": {
        "id": "7eFbHabpkDe-"
      }
    },
    {
      "cell_type": "code",
      "source": [
        "from sympy.geometry import *"
      ],
      "metadata": {
        "id": "gTsgT8kVkE4C"
      },
      "execution_count": 20,
      "outputs": []
    },
    {
      "cell_type": "code",
      "source": [
        "P1 = Point(0,0)\n",
        "P2 = Point(3,4)\n",
        "P3 = Point(2,-1)\n",
        "P4 = Point(-1,-5)"
      ],
      "metadata": {
        "id": "tYlu6cdbkJai"
      },
      "execution_count": 22,
      "outputs": []
    },
    {
      "cell_type": "code",
      "source": [
        "S1 = Segment(P1,P2)\n",
        "S2 = Segment(P3,P4)"
      ],
      "metadata": {
        "id": "wRo2hxNgkNVF"
      },
      "execution_count": 23,
      "outputs": []
    },
    {
      "cell_type": "code",
      "source": [
        "Point.is_collinear(P1,P2,P3)"
      ],
      "metadata": {
        "colab": {
          "base_uri": "https://localhost:8080/"
        },
        "id": "Og62VQTzkTrm",
        "outputId": "5547fe6b-b2df-4080-8a91-20eadb75f074"
      },
      "execution_count": 24,
      "outputs": [
        {
          "output_type": "execute_result",
          "data": {
            "text/plain": [
              "False"
            ]
          },
          "metadata": {},
          "execution_count": 24
        }
      ]
    },
    {
      "cell_type": "code",
      "source": [
        "S1.length"
      ],
      "metadata": {
        "colab": {
          "base_uri": "https://localhost:8080/",
          "height": 37
        },
        "id": "ykS5Bj-7kXQc",
        "outputId": "d747c71f-bc8c-4085-b378-fe1f11455b81"
      },
      "execution_count": 25,
      "outputs": [
        {
          "output_type": "execute_result",
          "data": {
            "text/latex": "$\\displaystyle 5$",
            "text/plain": [
              "5"
            ]
          },
          "metadata": {},
          "execution_count": 25
        }
      ]
    },
    {
      "cell_type": "code",
      "source": [
        "S2.midpoint"
      ],
      "metadata": {
        "colab": {
          "base_uri": "https://localhost:8080/",
          "height": 58
        },
        "id": "GqrkYgEekZnC",
        "outputId": "7f5f5efa-7ce2-4cf0-ad92-76264c1f94dc"
      },
      "execution_count": 26,
      "outputs": [
        {
          "output_type": "execute_result",
          "data": {
            "text/latex": "$\\displaystyle Point2D\\left(\\frac{1}{2}, -3\\right)$",
            "text/plain": [
              "Point2D(1/2, -3)"
            ]
          },
          "metadata": {},
          "execution_count": 26
        }
      ]
    },
    {
      "cell_type": "code",
      "source": [
        "S1.slope"
      ],
      "metadata": {
        "colab": {
          "base_uri": "https://localhost:8080/",
          "height": 52
        },
        "id": "ntp-cF-2kc8S",
        "outputId": "c3529ca0-50f0-4f76-822b-08d71feb9a19"
      },
      "execution_count": 27,
      "outputs": [
        {
          "output_type": "execute_result",
          "data": {
            "text/latex": "$\\displaystyle \\frac{4}{3}$",
            "text/plain": [
              "4/3"
            ]
          },
          "metadata": {},
          "execution_count": 27
        }
      ]
    },
    {
      "cell_type": "code",
      "source": [
        "S1.intersection(S2)"
      ],
      "metadata": {
        "colab": {
          "base_uri": "https://localhost:8080/"
        },
        "id": "5QllQ2zxkgjR",
        "outputId": "60fddac5-5872-4585-fdac-d3cc985195f8"
      },
      "execution_count": 28,
      "outputs": [
        {
          "output_type": "execute_result",
          "data": {
            "text/plain": [
              "[]"
            ]
          },
          "metadata": {},
          "execution_count": 28
        }
      ]
    },
    {
      "cell_type": "code",
      "source": [
        "Segment.angle_between(S1,S2)"
      ],
      "metadata": {
        "colab": {
          "base_uri": "https://localhost:8080/",
          "height": 38
        },
        "id": "HtGWxQSlkjKG",
        "outputId": "33180d62-b2c3-47b5-b78a-871c77b4956d"
      },
      "execution_count": 29,
      "outputs": [
        {
          "output_type": "execute_result",
          "data": {
            "text/latex": "$\\displaystyle \\pi$",
            "text/plain": [
              "pi"
            ]
          },
          "metadata": {},
          "execution_count": 29
        }
      ]
    },
    {
      "cell_type": "code",
      "source": [
        "S1.contains(P3)"
      ],
      "metadata": {
        "colab": {
          "base_uri": "https://localhost:8080/"
        },
        "id": "D2biAUcUkl0D",
        "outputId": "0b43640b-acda-4acf-c94c-1bf66709e0cf"
      },
      "execution_count": 30,
      "outputs": [
        {
          "output_type": "execute_result",
          "data": {
            "text/plain": [
              "False"
            ]
          },
          "metadata": {},
          "execution_count": 30
        }
      ]
    },
    {
      "cell_type": "code",
      "source": [
        "L1 = Line(P1,P2)\n",
        "L1.equation()"
      ],
      "metadata": {
        "colab": {
          "base_uri": "https://localhost:8080/",
          "height": 38
        },
        "id": "lPyLvL9okocd",
        "outputId": "6948f0d3-3977-48d0-d6cf-c2fe5825dc70"
      },
      "execution_count": 31,
      "outputs": [
        {
          "output_type": "execute_result",
          "data": {
            "text/latex": "$\\displaystyle - 4 x + 3 y$",
            "text/plain": [
              "-4*x + 3*y"
            ]
          },
          "metadata": {},
          "execution_count": 31
        }
      ]
    },
    {
      "cell_type": "code",
      "source": [
        "L1.is_parallel(S1)"
      ],
      "metadata": {
        "colab": {
          "base_uri": "https://localhost:8080/"
        },
        "id": "KpEAxdp3krTJ",
        "outputId": "e0d76e02-f8c3-4a05-d0c8-24d6a7af498b"
      },
      "execution_count": 32,
      "outputs": [
        {
          "output_type": "execute_result",
          "data": {
            "text/plain": [
              "True"
            ]
          },
          "metadata": {},
          "execution_count": 32
        }
      ]
    },
    {
      "cell_type": "code",
      "source": [
        "L1.is_parallel(S2)"
      ],
      "metadata": {
        "colab": {
          "base_uri": "https://localhost:8080/"
        },
        "id": "ecjc__eLkufY",
        "outputId": "92048527-8af2-485d-9e6a-769a71ecdfa5"
      },
      "execution_count": 33,
      "outputs": [
        {
          "output_type": "execute_result",
          "data": {
            "text/plain": [
              "True"
            ]
          },
          "metadata": {},
          "execution_count": 33
        }
      ]
    },
    {
      "cell_type": "markdown",
      "source": [
        "Thực hành 8"
      ],
      "metadata": {
        "id": "sp4pNjm-kw8F"
      }
    },
    {
      "cell_type": "code",
      "source": [
        ""
      ],
      "metadata": {
        "id": "Q_qwpeEUkyb7"
      },
      "execution_count": null,
      "outputs": []
    }
  ]
}