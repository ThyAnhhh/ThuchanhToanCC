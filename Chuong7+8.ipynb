{
  "nbformat": 4,
  "nbformat_minor": 0,
  "metadata": {
    "colab": {
      "provenance": [],
      "authorship_tag": "ABX9TyN0WOwavvskL62NqxM8uHuI",
      "include_colab_link": true
    },
    "kernelspec": {
      "name": "python3",
      "display_name": "Python 3"
    },
    "language_info": {
      "name": "python"
    }
  },
  "cells": [
    {
      "cell_type": "markdown",
      "metadata": {
        "id": "view-in-github",
        "colab_type": "text"
      },
      "source": [
        "<a href=\"https://colab.research.google.com/github/ThyAnhhh/ThuchanhToanCC/blob/main/Chuong7%2B8.ipynb\" target=\"_parent\"><img src=\"https://colab.research.google.com/assets/colab-badge.svg\" alt=\"Open In Colab\"/></a>"
      ]
    },
    {
      "cell_type": "code",
      "execution_count": null,
      "metadata": {
        "id": "m7mslkgOVm3s"
      },
      "outputs": [],
      "source": [
        "#MSSV: 2174802010828  \n",
        "#Họ và tên: Tạ Huỳnh Thy Anh\n",
        "#Chương 7 + 8"
      ]
    },
    {
      "cell_type": "code",
      "source": [
        "#Chương 7\n",
        "#1. Giới thiệu một số ứng dụng của tích vector (dot product)"
      ],
      "metadata": {
        "id": "BoztFRKJWB7Q"
      },
      "execution_count": null,
      "outputs": []
    },
    {
      "cell_type": "code",
      "source": [
        "import numpy as np\n",
        "signals = np.array([[1,2],[3,4],[10,0]])\n",
        "sample = np.array([3,-1])\n",
        "np.inner(signals, sample)"
      ],
      "metadata": {
        "colab": {
          "base_uri": "https://localhost:8080/"
        },
        "id": "SHObbrHeXPfc",
        "outputId": "bf1ea697-eab9-4c68-ad35-0c9556cee02f"
      },
      "execution_count": 1,
      "outputs": [
        {
          "output_type": "execute_result",
          "data": {
            "text/plain": [
              "array([ 1,  5, 30])"
            ]
          },
          "metadata": {},
          "execution_count": 1
        }
      ]
    },
    {
      "cell_type": "code",
      "source": [
        "#1.1 Ứng dụng 1 – Nguyên lý tìm nốt nhạc trong chuỗi âm thanh \n",
        "#Ví dụ 1\n",
        "import numpy as np\n",
        "A = np.array([0,0,-1,2,3,-1,0,1,-1,-1]) \n",
        "search_vector = np.array([0,1,-1])\n",
        "len(A), len(search_vector)"
      ],
      "metadata": {
        "colab": {
          "base_uri": "https://localhost:8080/"
        },
        "id": "AxsWAs7zXGg5",
        "outputId": "ea37344d-a902-4412-b2a3-5bc8a252c3fa"
      },
      "execution_count": 2,
      "outputs": [
        {
          "output_type": "execute_result",
          "data": {
            "text/plain": [
              "(10, 3)"
            ]
          },
          "metadata": {},
          "execution_count": 2
        }
      ]
    },
    {
      "cell_type": "code",
      "source": [
        "B = np.array([1])\n",
        "B = np.resize(B, (len(A)-len(search_vector)+1, len(search_vector)))\n",
        "B = np.asmatrix(B)\n",
        "for i in range(len(A)-len(search_vector)+1): # so dong\n",
        "  for j in range(len(search_vector)): # so cot \n",
        "    B[i,j] = A[i+j]"
      ],
      "metadata": {
        "id": "eobbLsboXfW5"
      },
      "execution_count": 6,
      "outputs": []
    },
    {
      "cell_type": "code",
      "source": [
        "C = np.inner(B, search_vector)\n",
        "for i in range(len(A)-len(search_vector)+1): \n",
        "  if ( C[0,i] == np.inner(search_vector, search_vector) ): \n",
        "    print (i, B[i])"
      ],
      "metadata": {
        "colab": {
          "base_uri": "https://localhost:8080/"
        },
        "id": "X9EINMipYMuC",
        "outputId": "df32b445-a0ee-4a9b-9d76-8f6a0302a3ce"
      },
      "execution_count": 7,
      "outputs": [
        {
          "output_type": "stream",
          "name": "stdout",
          "text": [
            "6 [[ 0  1 -1]]\n"
          ]
        }
      ]
    },
    {
      "cell_type": "code",
      "source": [
        "#2.1.Đơn giản hóa thuật toán Pagerank"
      ],
      "metadata": {
        "id": "wr0qkVfRaQf1"
      },
      "execution_count": null,
      "outputs": []
    },
    {
      "cell_type": "code",
      "source": [
        "import numpy as np\n",
        "A = np.array([[0,0,1.0/2, 1.0/2],\n",
        "              [1.0/3,0,0,0], \n",
        "              [1.0/3,0,0,1.0/2], \n",
        "              [1.0/3,1.0,1.0/2,0]])\n",
        "x = np.array([1,1,1,1])"
      ],
      "metadata": {
        "id": "aLA2t8l3bg87"
      },
      "execution_count": 14,
      "outputs": []
    },
    {
      "cell_type": "code",
      "source": [
        "x = np.dot(A, x) \n",
        "print (x)"
      ],
      "metadata": {
        "colab": {
          "base_uri": "https://localhost:8080/"
        },
        "id": "LJZ_XJYJboK_",
        "outputId": "f7d6481a-2891-4daa-e676-88d9cf6a6ed1"
      },
      "execution_count": 16,
      "outputs": [
        {
          "output_type": "stream",
          "name": "stdout",
          "text": [
            "[1.33333333 0.33333333 1.25       1.08333333]\n"
          ]
        }
      ]
    },
    {
      "cell_type": "code",
      "source": [
        "x = np.array([1.0, 1.0, 1.0, 1.0]) \n",
        "for i in range(10):\n",
        "  x = np.dot(A, x)\n",
        "  print (i+1, x)"
      ],
      "metadata": {
        "colab": {
          "base_uri": "https://localhost:8080/"
        },
        "id": "Uq5Zqj3Zbwg4",
        "outputId": "af323d65-b89b-4991-a875-990c1caf1b77"
      },
      "execution_count": 19,
      "outputs": [
        {
          "output_type": "stream",
          "name": "stdout",
          "text": [
            "1 [1.         0.33333333 0.83333333 1.83333333]\n",
            "2 [1.33333333 0.33333333 1.25       1.08333333]\n",
            "3 [1.16666667 0.44444444 0.98611111 1.40277778]\n",
            "4 [1.19444444 0.38888889 1.09027778 1.32638889]\n",
            "5 [1.20833333 0.39814815 1.06134259 1.33217593]\n",
            "6 [1.19675926 0.40277778 1.06886574 1.33159722]\n",
            "7 [1.20023148 0.39891975 1.06471836 1.3361304 ]\n",
            "8 [1.20042438 0.40007716 1.06814236 1.3313561 ]\n",
            "9 [1.19974923 0.40014146 1.06581951 1.3342898 ]\n",
            "10 [1.20005466 0.39991641 1.06706131 1.33296762]\n"
          ]
        }
      ]
    },
    {
      "cell_type": "code",
      "source": [
        "#Chương 8\n",
        "#2.2.Bài toán ứng dụng: Ma trận biến đổi (ảnh/font chữ/...)"
      ],
      "metadata": {
        "id": "tseibbSdcBk8"
      },
      "execution_count": null,
      "outputs": []
    },
    {
      "cell_type": "code",
      "source": [
        "import numpy as np\n",
        "P = np.array([[0,0,3,3,1,1,2,2,1,1],[0,5,5,4,4,3,3,2,2,0]])\n",
        "vecdelta = np.array([4,2])\n",
        "P_caua = (P.T + vecdelta).T \n",
        "print (P_caua)"
      ],
      "metadata": {
        "colab": {
          "base_uri": "https://localhost:8080/"
        },
        "id": "Ze6xZF5LcD6W",
        "outputId": "9c27eeb9-487f-45fe-f5b1-3d0fd21f93b3"
      },
      "execution_count": 20,
      "outputs": [
        {
          "output_type": "stream",
          "name": "stdout",
          "text": [
            "[[4 4 7 7 5 5 6 6 5 5]\n",
            " [2 7 7 6 6 5 5 4 4 2]]\n"
          ]
        }
      ]
    },
    {
      "cell_type": "code",
      "source": [
        "import numpy as np\n",
        "P = np.array([[0,0,3,3,1,1,2,2,1,1],[0,5,5,4,4,3,3,2,2,0]]) \n",
        "vecdelta = np.array([4,-2])\n",
        "matran_biendoi = np.array([[1.0, 0.0],\n",
        "                           [0.0, 2.0]])\n",
        "P_caub = (P.T @ matran_biendoi + vecdelta).T\n",
        "print (P_caub)"
      ],
      "metadata": {
        "colab": {
          "base_uri": "https://localhost:8080/"
        },
        "id": "MZZf5e1KcPnd",
        "outputId": "34f41c70-dc2f-4cdd-ccc9-8820e3adb7e9"
      },
      "execution_count": 21,
      "outputs": [
        {
          "output_type": "stream",
          "name": "stdout",
          "text": [
            "[[ 4.  4.  7.  7.  5.  5.  6.  6.  5.  5.]\n",
            " [-2.  8.  8.  6.  6.  4.  4.  2.  2. -2.]]\n"
          ]
        }
      ]
    },
    {
      "cell_type": "code",
      "source": [
        "import numpy as np\n",
        "P = np.array([[0,0,3,3,1,1,2,2,1,1],[0,5,5,4,4,3,3,2,2,0]])\n",
        "vecdelta = np.array([-1,2])\n",
        "P_cauc = (P.T + vecdelta).T \n",
        "print (P_cauc)"
      ],
      "metadata": {
        "colab": {
          "base_uri": "https://localhost:8080/"
        },
        "id": "ExHU0xYFcZkw",
        "outputId": "4d837e04-c0d4-44dc-cfb0-d42146537586"
      },
      "execution_count": 22,
      "outputs": [
        {
          "output_type": "stream",
          "name": "stdout",
          "text": [
            "[[-1 -1  2  2  0  0  1  1  0  0]\n",
            " [ 2  7  7  6  6  5  5  4  4  2]]\n"
          ]
        }
      ]
    },
    {
      "cell_type": "code",
      "source": [
        "import numpy as np\n",
        "P = np.array([[0,0,3,3,1,1,2,2,1,1],[0,5,5,4,4,3,3,2,2,0]]) \n",
        "vecdelta = np.array([1,2])\n",
        "P_caud = (P.T @ matran_biendoi + vecdelta).T\n",
        "print (P_caud)"
      ],
      "metadata": {
        "colab": {
          "base_uri": "https://localhost:8080/"
        },
        "id": "G3tI7xRDecDi",
        "outputId": "1180899f-cc16-482c-e318-1a3d40570ce4"
      },
      "execution_count": 27,
      "outputs": [
        {
          "output_type": "stream",
          "name": "stdout",
          "text": [
            "[[1. 1. 4. 4. 2. 2. 3. 3. 2. 2.]\n",
            " [2. 7. 7. 6. 6. 5. 5. 4. 4. 2.]]\n"
          ]
        }
      ]
    }
  ]
}