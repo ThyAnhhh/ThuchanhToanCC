{
  "nbformat": 4,
  "nbformat_minor": 0,
  "metadata": {
    "colab": {
      "provenance": [],
      "authorship_tag": "ABX9TyMCvZoF+qHuRrl/DxSmJxvw",
      "include_colab_link": true
    },
    "kernelspec": {
      "name": "python3",
      "display_name": "Python 3"
    },
    "language_info": {
      "name": "python"
    }
  },
  "cells": [
    {
      "cell_type": "markdown",
      "metadata": {
        "id": "view-in-github",
        "colab_type": "text"
      },
      "source": [
        "<a href=\"https://colab.research.google.com/github/ThyAnhhh/ThuchanhToanCC/blob/main/Ch%C6%B0%C6%A1ng_2.ipynb\" target=\"_parent\"><img src=\"https://colab.research.google.com/assets/colab-badge.svg\" alt=\"Open In Colab\"/></a>"
      ]
    },
    {
      "cell_type": "code",
      "source": [
        "#Họ tên: Tạ Huỳnh Thy Anh\n",
        "#MSSV: 2174802010828\n",
        "#CHUONG 2: Ma trận và hệ phương trình tuyến tính"
      ],
      "metadata": {
        "id": "4IeNMsii99tY"
      },
      "execution_count": null,
      "outputs": []
    },
    {
      "cell_type": "code",
      "source": [
        "#1. Dẫn nhập - một số hàm về xử lý vector với python"
      ],
      "metadata": {
        "id": "vlpv0Jkf-aHU"
      },
      "execution_count": null,
      "outputs": []
    },
    {
      "cell_type": "code",
      "source": [
        "def scale(a,v):\n",
        "  return [a*vi for vi in v]\n",
        "v = [3,5,7]\n",
        "scale(10,v)"
      ],
      "metadata": {
        "colab": {
          "base_uri": "https://localhost:8080/"
        },
        "id": "QAryUFQ2-p4D",
        "outputId": "db7668d4-a6eb-4468-df93-7aba23f12a65"
      },
      "execution_count": 3,
      "outputs": [
        {
          "output_type": "execute_result",
          "data": {
            "text/plain": [
              "[30, 50, 70]"
            ]
          },
          "metadata": {},
          "execution_count": 3
        }
      ]
    },
    {
      "cell_type": "code",
      "source": [
        "def sumvector(v,w):\n",
        "  return [vi+wi for (vi,wi) in zip(v,w)]\n",
        "v = [3,5,7]\n",
        "w = [2,4,6] \n",
        "sumvector(v,w)"
      ],
      "metadata": {
        "colab": {
          "base_uri": "https://localhost:8080/"
        },
        "id": "Wlb3UfSXBBcy",
        "outputId": "d2d7e4a8-b9f7-4575-930f-b976a5ec3428"
      },
      "execution_count": 5,
      "outputs": [
        {
          "output_type": "execute_result",
          "data": {
            "text/plain": [
              "[5, 9, 13]"
            ]
          },
          "metadata": {},
          "execution_count": 5
        }
      ]
    },
    {
      "cell_type": "code",
      "source": [
        "def dotvector(v,w):\n",
        "  return sum([vi*wi for (vi,wi) in zip(v,w)])\n",
        "dotvector(v,w)"
      ],
      "metadata": {
        "colab": {
          "base_uri": "https://localhost:8080/"
        },
        "id": "8rYl9QIFBaby",
        "outputId": "7a91d10a-a1b7-40fd-d5f7-ac128df79ac6"
      },
      "execution_count": 6,
      "outputs": [
        {
          "output_type": "execute_result",
          "data": {
            "text/plain": [
              "68"
            ]
          },
          "metadata": {},
          "execution_count": 6
        }
      ]
    },
    {
      "cell_type": "code",
      "source": [
        "def lenvector(v):\n",
        "  return dotvector(v,v)\n",
        "lenvector(w)"
      ],
      "metadata": {
        "colab": {
          "base_uri": "https://localhost:8080/"
        },
        "id": "jl0kA0M2ByeZ",
        "outputId": "ab46a589-7905-4aac-c325-a81ff34e13f2"
      },
      "execution_count": 7,
      "outputs": [
        {
          "output_type": "execute_result",
          "data": {
            "text/plain": [
              "56"
            ]
          },
          "metadata": {},
          "execution_count": 7
        }
      ]
    },
    {
      "cell_type": "code",
      "source": [
        "#2. Bai toan ung dung 1 - Phan loai tuyen tinh"
      ],
      "metadata": {
        "id": "M8CvW6FNB6jn"
      },
      "execution_count": null,
      "outputs": []
    },
    {
      "cell_type": "code",
      "source": [
        "import numpy as np"
      ],
      "metadata": {
        "id": "Hijn4xFaB_4T"
      },
      "execution_count": 8,
      "outputs": []
    },
    {
      "cell_type": "code",
      "source": [
        "scores = np.array([-1,1,2,-3,5,-4])"
      ],
      "metadata": {
        "id": "WFItdU3PCDNL"
      },
      "execution_count": 11,
      "outputs": []
    },
    {
      "cell_type": "code",
      "source": [
        "scores >= 0"
      ],
      "metadata": {
        "colab": {
          "base_uri": "https://localhost:8080/"
        },
        "id": "0tY6FD9SCLy_",
        "outputId": "66e8de8b-844d-460b-ca17-0655fc9385e7"
      },
      "execution_count": 12,
      "outputs": [
        {
          "output_type": "execute_result",
          "data": {
            "text/plain": [
              "array([False,  True,  True, False,  True, False])"
            ]
          },
          "metadata": {},
          "execution_count": 12
        }
      ]
    },
    {
      "cell_type": "code",
      "source": [
        "scores < 0"
      ],
      "metadata": {
        "colab": {
          "base_uri": "https://localhost:8080/"
        },
        "id": "zwgIlU0yCT3f",
        "outputId": "55f50f11-0e48-41b7-861c-b3982a7e8c2d"
      },
      "execution_count": 13,
      "outputs": [
        {
          "output_type": "execute_result",
          "data": {
            "text/plain": [
              "array([ True, False, False,  True, False,  True])"
            ]
          },
          "metadata": {},
          "execution_count": 13
        }
      ]
    },
    {
      "cell_type": "code",
      "source": [
        "np.select ([scores >= 0, scores <0], ['so duong', 'so am'])"
      ],
      "metadata": {
        "colab": {
          "base_uri": "https://localhost:8080/"
        },
        "id": "O6g3ywMfCXdz",
        "outputId": "d8dfa6d4-4ebc-4aea-a561-988188655879"
      },
      "execution_count": 14,
      "outputs": [
        {
          "output_type": "execute_result",
          "data": {
            "text/plain": [
              "array(['so am', 'so duong', 'so duong', 'so am', 'so duong', 'so am'],\n",
              "      dtype='<U8')"
            ]
          },
          "metadata": {},
          "execution_count": 14
        }
      ]
    },
    {
      "cell_type": "code",
      "source": [
        "scores = np.array([-1,1,2,0,-3,5,0,-4])\n",
        "np.select([scores >0, scores ==0, scores <0],['so duong','so 0', 'so am'])"
      ],
      "metadata": {
        "colab": {
          "base_uri": "https://localhost:8080/"
        },
        "id": "rVjnr7JzCiDW",
        "outputId": "352d5674-bc2d-445c-b812-e2032f733a41"
      },
      "execution_count": 15,
      "outputs": [
        {
          "output_type": "execute_result",
          "data": {
            "text/plain": [
              "array(['so am', 'so duong', 'so duong', 'so 0', 'so am', 'so duong',\n",
              "       'so 0', 'so am'], dtype='<U8')"
            ]
          },
          "metadata": {},
          "execution_count": 15
        }
      ]
    },
    {
      "cell_type": "code",
      "source": [
        "#3. Thuc hanh xu ly ma tran\n",
        "#3.1. Co ban ve xu ly ma tran"
      ],
      "metadata": {
        "id": "V-oGOFOeDAYR"
      },
      "execution_count": null,
      "outputs": []
    },
    {
      "cell_type": "code",
      "source": [
        "import numpy as np\n",
        "from scipy import linalg, sparse"
      ],
      "metadata": {
        "id": "wbbVNI5UDHY5"
      },
      "execution_count": 16,
      "outputs": []
    },
    {
      "cell_type": "code",
      "source": [
        "D = np.mat([[3,4],[5,6]])\n",
        "print(D)"
      ],
      "metadata": {
        "colab": {
          "base_uri": "https://localhost:8080/"
        },
        "id": "DVkTHaVUDVZO",
        "outputId": "e2984edf-23f0-40f7-b7e9-1147a8285be7"
      },
      "execution_count": 19,
      "outputs": [
        {
          "output_type": "stream",
          "name": "stdout",
          "text": [
            "[[3 4]\n",
            " [5 6]]\n"
          ]
        }
      ]
    },
    {
      "cell_type": "code",
      "source": [
        "C = np.mat(np.random.random((5,7)))\n",
        "print(C)"
      ],
      "metadata": {
        "colab": {
          "base_uri": "https://localhost:8080/"
        },
        "id": "kmJ1AD47DfIW",
        "outputId": "e07f1e42-bbfe-41ec-b434-dc10c23ee5bd"
      },
      "execution_count": 21,
      "outputs": [
        {
          "output_type": "stream",
          "name": "stdout",
          "text": [
            "[[0.98579937 0.18646229 0.88890494 0.99648737 0.32611248 0.09677251\n",
            "  0.66101981]\n",
            " [0.29932775 0.26617851 0.34872563 0.54630996 0.33100842 0.26642591\n",
            "  0.89354984]\n",
            " [0.1641845  0.46219085 0.87854013 0.00274174 0.75444647 0.13521533\n",
            "  0.46473456]\n",
            " [0.69449427 0.24844971 0.57334038 0.06653516 0.58865043 0.89439292\n",
            "  0.15081279]\n",
            " [0.91609192 0.78149853 0.30361242 0.57027768 0.72414314 0.35475505\n",
            "  0.05154593]]\n"
          ]
        }
      ]
    },
    {
      "cell_type": "code",
      "source": [
        "A = np.mat(np.random.random((2,2)))\n",
        "print(A)"
      ],
      "metadata": {
        "colab": {
          "base_uri": "https://localhost:8080/"
        },
        "id": "Gx7VZLR5DuPS",
        "outputId": "e5e67a78-6ce3-4179-acce-d6ebcbe06cab"
      },
      "execution_count": 22,
      "outputs": [
        {
          "output_type": "stream",
          "name": "stdout",
          "text": [
            "[[0.66005303 0.77059013]\n",
            " [0.43324318 0.38749674]]\n"
          ]
        }
      ]
    },
    {
      "cell_type": "code",
      "source": [
        "b = np.array([1+5j, 2j, 3j,(4,5,6)])\n",
        "B = np.asmatrix(b)\n",
        "print(b)\n",
        "print(B)"
      ],
      "metadata": {
        "colab": {
          "base_uri": "https://localhost:8080/"
        },
        "id": "t6Gu945ND1Os",
        "outputId": "04a5db47-b060-4abf-a010-0da15465befc"
      },
      "execution_count": 23,
      "outputs": [
        {
          "output_type": "stream",
          "name": "stdout",
          "text": [
            "[(1+5j) 2j 3j (4, 5, 6)]\n",
            "[[(1+5j) 2j 3j (4, 5, 6)]]\n"
          ]
        },
        {
          "output_type": "stream",
          "name": "stderr",
          "text": [
            "/usr/local/lib/python3.7/dist-packages/ipykernel_launcher.py:1: VisibleDeprecationWarning: Creating an ndarray from ragged nested sequences (which is a list-or-tuple of lists-or-tuples-or ndarrays with different lengths or shapes) is deprecated. If you meant to do this, you must specify 'dtype=object' when creating the ndarray.\n",
            "  \"\"\"Entry point for launching an IPython kernel.\n"
          ]
        }
      ]
    },
    {
      "cell_type": "code",
      "source": [
        "A.T"
      ],
      "metadata": {
        "colab": {
          "base_uri": "https://localhost:8080/"
        },
        "id": "p1IBZHGHEGAL",
        "outputId": "8329ffa8-c813-4afb-9d6c-463d5653a2a0"
      },
      "execution_count": 24,
      "outputs": [
        {
          "output_type": "execute_result",
          "data": {
            "text/plain": [
              "matrix([[0.66005303, 0.43324318],\n",
              "        [0.77059013, 0.38749674]])"
            ]
          },
          "metadata": {},
          "execution_count": 24
        }
      ]
    },
    {
      "cell_type": "code",
      "source": [
        "A.I"
      ],
      "metadata": {
        "colab": {
          "base_uri": "https://localhost:8080/"
        },
        "id": "5EVkYQCiEIEX",
        "outputId": "36eaa352-779c-43bf-dcf4-b976ac8e01f8"
      },
      "execution_count": 25,
      "outputs": [
        {
          "output_type": "execute_result",
          "data": {
            "text/plain": [
              "matrix([[-4.96252938,  9.86866668],\n",
              "        [ 5.54838736, -8.45305833]])"
            ]
          },
          "metadata": {},
          "execution_count": 25
        }
      ]
    },
    {
      "cell_type": "code",
      "source": [
        "linalg.inv(A)\n",
        "M = np.array([[-1,3,2],[0,-2,1],[1,5,-2]])\n",
        "M_lower = np.tril(M)\n",
        "print(M_lower)"
      ],
      "metadata": {
        "colab": {
          "base_uri": "https://localhost:8080/"
        },
        "id": "FVtAJ5sDELP6",
        "outputId": "0d97987f-fb1c-4488-893d-b03c45fb8e06"
      },
      "execution_count": 26,
      "outputs": [
        {
          "output_type": "stream",
          "name": "stdout",
          "text": [
            "[[-1  0  0]\n",
            " [ 0 -2  0]\n",
            " [ 1  5 -2]]\n"
          ]
        }
      ]
    },
    {
      "cell_type": "code",
      "source": [
        "M = np.array([[-1,3,2],[0,-2,1],[1,5,-2]])\n",
        "M_upper = np.triu(M)\n",
        "print(M_upper)"
      ],
      "metadata": {
        "colab": {
          "base_uri": "https://localhost:8080/"
        },
        "id": "FwLeL1euEb8N",
        "outputId": "8dd5b453-9400-43d6-8bef-0cb3d7edd310"
      },
      "execution_count": 27,
      "outputs": [
        {
          "output_type": "stream",
          "name": "stdout",
          "text": [
            "[[-1  3  2]\n",
            " [ 0 -2  1]\n",
            " [ 0  0 -2]]\n"
          ]
        }
      ]
    },
    {
      "cell_type": "code",
      "source": [
        "M = np.array([[-1,3,2],[0,-2,1], [1,5,-2]])\n",
        "v_diag = np.diag(M)\n",
        "print(v_diag)\n",
        "M_diag = np.diag(v_diag)\n",
        "print(M_diag)"
      ],
      "metadata": {
        "colab": {
          "base_uri": "https://localhost:8080/"
        },
        "id": "KRzgGAd6FBSF",
        "outputId": "4c5117b0-e716-432d-abe9-196fb8a91512"
      },
      "execution_count": 29,
      "outputs": [
        {
          "output_type": "stream",
          "name": "stdout",
          "text": [
            "[-1 -2 -2]\n",
            "[[-1  0  0]\n",
            " [ 0 -2  0]\n",
            " [ 0  0 -2]]\n"
          ]
        }
      ]
    },
    {
      "cell_type": "code",
      "source": [
        "import sympy as sp\n",
        "x = sp.Symbol('x')\n",
        "y = sp.Symbol('y')\n",
        "z = sp.Symbol('z')\n",
        "sp.solve([x*x+2-6, y-1-6, x+z-1, 2*x*x-8, z*z+4-5, y-z-8], [x,y,z])"
      ],
      "metadata": {
        "colab": {
          "base_uri": "https://localhost:8080/"
        },
        "id": "Z9Yno5sCFTgU",
        "outputId": "ee120cee-6427-4f96-cc91-2a3b16d4eccf"
      },
      "execution_count": 30,
      "outputs": [
        {
          "output_type": "execute_result",
          "data": {
            "text/plain": [
              "[(2, 7, -1)]"
            ]
          },
          "metadata": {},
          "execution_count": 30
        }
      ]
    },
    {
      "cell_type": "code",
      "source": [
        "x = [1,2,3]\n",
        "y = [1,2,3]\n",
        "print(all([x[i]==y[i] for i in range(len(x))]))"
      ],
      "metadata": {
        "colab": {
          "base_uri": "https://localhost:8080/"
        },
        "id": "FcYGJgn4GP3N",
        "outputId": "c8d9c692-f935-4755-9d7b-bf946bf839b6"
      },
      "execution_count": 34,
      "outputs": [
        {
          "output_type": "stream",
          "name": "stdout",
          "text": [
            "True\n"
          ]
        }
      ]
    },
    {
      "cell_type": "code",
      "source": [
        "y = [1,2,4]\n",
        "print(all([x[i]==y[i] for i in range(len(x))]))"
      ],
      "metadata": {
        "colab": {
          "base_uri": "https://localhost:8080/"
        },
        "id": "zf0Q6y4FGfJd",
        "outputId": "e4ed017d-8d57-4542-acf1-194394bb6467"
      },
      "execution_count": 35,
      "outputs": [
        {
          "output_type": "stream",
          "name": "stdout",
          "text": [
            "False\n"
          ]
        }
      ]
    },
    {
      "cell_type": "code",
      "source": [
        "import numpy as np\n",
        "np.array_equal([1,2], [1,2])"
      ],
      "metadata": {
        "colab": {
          "base_uri": "https://localhost:8080/"
        },
        "id": "mWOz_sErG1WP",
        "outputId": "adaf6e79-7ea9-4459-960e-ecc30c35ccd9"
      },
      "execution_count": 36,
      "outputs": [
        {
          "output_type": "execute_result",
          "data": {
            "text/plain": [
              "True"
            ]
          },
          "metadata": {},
          "execution_count": 36
        }
      ]
    },
    {
      "cell_type": "code",
      "source": [
        "np.array_equal(np.array([1,2]), np.array([1,2]))"
      ],
      "metadata": {
        "colab": {
          "base_uri": "https://localhost:8080/"
        },
        "id": "2lnWfEyUG86k",
        "outputId": "d10fb7e8-7168-4aac-be0f-302887a63289"
      },
      "execution_count": 37,
      "outputs": [
        {
          "output_type": "execute_result",
          "data": {
            "text/plain": [
              "True"
            ]
          },
          "metadata": {},
          "execution_count": 37
        }
      ]
    },
    {
      "cell_type": "code",
      "source": [
        "#3.2 cac phep bien doi so cap tren ma tran"
      ],
      "metadata": {
        "id": "z4knyxtDHFyL"
      },
      "execution_count": null,
      "outputs": []
    },
    {
      "cell_type": "code",
      "source": [
        "A = np.reshape(np.arange(36.0), (6,6))\n",
        "print(A)"
      ],
      "metadata": {
        "colab": {
          "base_uri": "https://localhost:8080/"
        },
        "id": "S_Jm03A0HJw9",
        "outputId": "e4e67afb-49d1-44b3-d56b-77e5f8257e2e"
      },
      "execution_count": 39,
      "outputs": [
        {
          "output_type": "stream",
          "name": "stdout",
          "text": [
            "[[ 0.  1.  2.  3.  4.  5.]\n",
            " [ 6.  7.  8.  9. 10. 11.]\n",
            " [12. 13. 14. 15. 16. 17.]\n",
            " [18. 19. 20. 21. 22. 23.]\n",
            " [24. 25. 26. 27. 28. 29.]\n",
            " [30. 31. 32. 33. 34. 35.]]\n"
          ]
        }
      ]
    },
    {
      "cell_type": "code",
      "source": [
        "I6 = np.identity(6)\n",
        "print(I6)"
      ],
      "metadata": {
        "colab": {
          "base_uri": "https://localhost:8080/"
        },
        "id": "i5oq-BtwHh5O",
        "outputId": "35bcc036-116d-4e10-c471-060caad72f1e"
      },
      "execution_count": 40,
      "outputs": [
        {
          "output_type": "stream",
          "name": "stdout",
          "text": [
            "[[1. 0. 0. 0. 0. 0.]\n",
            " [0. 1. 0. 0. 0. 0.]\n",
            " [0. 0. 1. 0. 0. 0.]\n",
            " [0. 0. 0. 1. 0. 0.]\n",
            " [0. 0. 0. 0. 1. 0.]\n",
            " [0. 0. 0. 0. 0. 1.]]\n"
          ]
        }
      ]
    },
    {
      "cell_type": "code",
      "source": [
        "A.size"
      ],
      "metadata": {
        "colab": {
          "base_uri": "https://localhost:8080/"
        },
        "id": "SM_IHJ-tHm2h",
        "outputId": "baa4c853-914c-4391-c3b6-0964ffea8b9a"
      },
      "execution_count": 41,
      "outputs": [
        {
          "output_type": "execute_result",
          "data": {
            "text/plain": [
              "36"
            ]
          },
          "metadata": {},
          "execution_count": 41
        }
      ]
    },
    {
      "cell_type": "code",
      "source": [
        "np.matrix.diagonal(A)"
      ],
      "metadata": {
        "colab": {
          "base_uri": "https://localhost:8080/"
        },
        "id": "U3aMsIKEHo9v",
        "outputId": "f43710a1-0e6f-4e80-c0bb-843b41769686"
      },
      "execution_count": 42,
      "outputs": [
        {
          "output_type": "execute_result",
          "data": {
            "text/plain": [
              "array([ 0.,  7., 14., 21., 28., 35.])"
            ]
          },
          "metadata": {},
          "execution_count": 42
        }
      ]
    },
    {
      "cell_type": "code",
      "source": [
        "A = A + I6\n",
        "print(A)"
      ],
      "metadata": {
        "colab": {
          "base_uri": "https://localhost:8080/"
        },
        "id": "Y5c7sWz-HtP4",
        "outputId": "96103194-200f-4015-b19e-15975cade43f"
      },
      "execution_count": 43,
      "outputs": [
        {
          "output_type": "stream",
          "name": "stdout",
          "text": [
            "[[ 1.  1.  2.  3.  4.  5.]\n",
            " [ 6.  8.  8.  9. 10. 11.]\n",
            " [12. 13. 15. 15. 16. 17.]\n",
            " [18. 19. 20. 22. 22. 23.]\n",
            " [24. 25. 26. 27. 29. 29.]\n",
            " [30. 31. 32. 33. 34. 36.]]\n"
          ]
        }
      ]
    },
    {
      "cell_type": "code",
      "source": [
        "vecB = np.array([1.,2.,3.,4.,5.,6.])\n",
        "C = A.dot(vecB)\n",
        "print(C)"
      ],
      "metadata": {
        "colab": {
          "base_uri": "https://localhost:8080/"
        },
        "id": "gIvNSjy9HxTA",
        "outputId": "78d4207e-4fa7-4a9d-9cd4-296e35bc5757"
      },
      "execution_count": 44,
      "outputs": [
        {
          "output_type": "stream",
          "name": "stdout",
          "text": [
            "[ 71. 198. 325. 452. 579. 706.]\n"
          ]
        }
      ]
    },
    {
      "cell_type": "code",
      "source": [
        "D = np.array([[1.,2.,3.,4.,5.,6.],[1.,0.,1.,0.,1.,0.]])\n",
        "print(D)"
      ],
      "metadata": {
        "colab": {
          "base_uri": "https://localhost:8080/"
        },
        "id": "xdRVdD5DH7CF",
        "outputId": "9b577e09-eab6-4ad2-a20b-91ffd5569534"
      },
      "execution_count": 48,
      "outputs": [
        {
          "output_type": "stream",
          "name": "stdout",
          "text": [
            "[[1. 2. 3. 4. 5. 6.]\n",
            " [1. 0. 1. 0. 1. 0.]]\n"
          ]
        }
      ]
    },
    {
      "cell_type": "code",
      "source": [
        "E = D.dot(A)\n",
        "print(E)"
      ],
      "metadata": {
        "colab": {
          "base_uri": "https://localhost:8080/"
        },
        "id": "9lI0a5I3IG3h",
        "outputId": "b63a9b0a-9ad4-497f-b75c-20c3c47ffaca"
      },
      "execution_count": 52,
      "outputs": [
        {
          "output_type": "stream",
          "name": "stdout",
          "text": [
            "[[421. 443. 465. 487. 509. 531.]\n",
            " [ 37.  39.  43.  45.  49.  51.]]\n"
          ]
        }
      ]
    },
    {
      "cell_type": "code",
      "source": [
        "F = np.array([[1.,1.],[2.,0.],[3.,1.],[4.,0],[5.,1],[6.,0.]])\n",
        "G = A.dot(F)\n",
        "print(F)"
      ],
      "metadata": {
        "colab": {
          "base_uri": "https://localhost:8080/"
        },
        "id": "wuRBeaxTIf31",
        "outputId": "e42ddcd4-ca72-4258-adcd-cabe0ddff24d"
      },
      "execution_count": 53,
      "outputs": [
        {
          "output_type": "stream",
          "name": "stdout",
          "text": [
            "[[1. 1.]\n",
            " [2. 0.]\n",
            " [3. 1.]\n",
            " [4. 0.]\n",
            " [5. 1.]\n",
            " [6. 0.]]\n"
          ]
        }
      ]
    },
    {
      "cell_type": "code",
      "source": [
        "print(G)"
      ],
      "metadata": {
        "colab": {
          "base_uri": "https://localhost:8080/"
        },
        "id": "6ZOGY8tzO9k_",
        "outputId": "60c0c5a7-5c1c-49d8-af51-809ca52a5ce4"
      },
      "execution_count": 54,
      "outputs": [
        {
          "output_type": "stream",
          "name": "stdout",
          "text": [
            "[[ 71.   7.]\n",
            " [198.  24.]\n",
            " [325.  43.]\n",
            " [452.  60.]\n",
            " [579.  79.]\n",
            " [706.  96.]]\n"
          ]
        }
      ]
    },
    {
      "cell_type": "code",
      "source": [
        "np.linalg.inv(A)"
      ],
      "metadata": {
        "colab": {
          "base_uri": "https://localhost:8080/"
        },
        "id": "i97LH_ijO_uD",
        "outputId": "c54419dd-de4d-4b75-f559-d221f4261b38"
      },
      "execution_count": 55,
      "outputs": [
        {
          "output_type": "execute_result",
          "data": {
            "text/plain": [
              "array([[ 0.37022901, -0.45610687, -0.28244275, -0.10877863,  0.0648855 ,\n",
              "         0.23854962],\n",
              "       [-0.44656489,  0.65839695, -0.23664122, -0.13167939, -0.02671756,\n",
              "         0.07824427],\n",
              "       [-0.26335878, -0.22709924,  0.80916031, -0.15458015, -0.11832061,\n",
              "        -0.08206107],\n",
              "       [-0.08015267, -0.11259542, -0.14503817,  0.82251908, -0.20992366,\n",
              "        -0.24236641],\n",
              "       [ 0.10305344,  0.0019084 , -0.09923664, -0.20038168,  0.69847328,\n",
              "        -0.40267176],\n",
              "       [ 0.28625954,  0.11641221, -0.05343511, -0.22328244, -0.39312977,\n",
              "         0.4370229 ]])"
            ]
          },
          "metadata": {},
          "execution_count": 55
        }
      ]
    },
    {
      "cell_type": "code",
      "source": [
        "np.linalg.inv(np.linalg.inv(A))"
      ],
      "metadata": {
        "colab": {
          "base_uri": "https://localhost:8080/"
        },
        "id": "qW4PAK3APEAq",
        "outputId": "84907167-ce73-4119-eeee-34dcf3ff6ac0"
      },
      "execution_count": 56,
      "outputs": [
        {
          "output_type": "execute_result",
          "data": {
            "text/plain": [
              "array([[ 1.,  1.,  2.,  3.,  4.,  5.],\n",
              "       [ 6.,  8.,  8.,  9., 10., 11.],\n",
              "       [12., 13., 15., 15., 16., 17.],\n",
              "       [18., 19., 20., 22., 22., 23.],\n",
              "       [24., 25., 26., 27., 29., 29.],\n",
              "       [30., 31., 32., 33., 34., 36.]])"
            ]
          },
          "metadata": {},
          "execution_count": 56
        }
      ]
    },
    {
      "cell_type": "code",
      "source": [
        "#4. Bai toan ung dung 2 - Tinh toan day Fibonacci"
      ],
      "metadata": {
        "id": "24vTWEXEPmQo"
      },
      "execution_count": null,
      "outputs": []
    },
    {
      "cell_type": "code",
      "source": [
        "import numpy as np\n",
        "A = np.array([[1,1],[1,0]])\n",
        "b = np.array([1,0])\n",
        "n = 10\n",
        "for i in range(n):\n",
        "  b = A.dot(b)\n",
        "print(b)"
      ],
      "metadata": {
        "colab": {
          "base_uri": "https://localhost:8080/"
        },
        "id": "TgANdQYAPsE3",
        "outputId": "625a1a82-77fe-4ff3-8790-268fa8fc3674"
      },
      "execution_count": 59,
      "outputs": [
        {
          "output_type": "stream",
          "name": "stdout",
          "text": [
            "[89 55]\n"
          ]
        }
      ]
    },
    {
      "cell_type": "code",
      "source": [
        "#5. Co ban ve he phuong trinh tuyen tinh va ung dung minh hoa"
      ],
      "metadata": {
        "id": "O0znJGazQF4G"
      },
      "execution_count": null,
      "outputs": []
    },
    {
      "cell_type": "code",
      "source": [
        "#5.1 Làm quen với giải hệ phương trình tuyến tính"
      ],
      "metadata": {
        "id": "xVlWo9qLQmGS"
      },
      "execution_count": null,
      "outputs": []
    },
    {
      "cell_type": "code",
      "source": [
        "#5.2 Bài toán ứng dụng 3 - Đếm số lượng xe vào khu vực trung tâm"
      ],
      "metadata": {
        "id": "aVDqeaOvQwxb"
      },
      "execution_count": null,
      "outputs": []
    },
    {
      "cell_type": "code",
      "source": [
        "import sympy as sp\n",
        "from sympy import Symbol\n",
        "x1 = Symbol('x1')\n",
        "x2 = Symbol('x2')\n",
        "x3 = Symbol('x3')\n",
        "x4 = Symbol('x4')\n",
        "from sympy import solve\n",
        "pt1 = x4+610-450-x1\n",
        "pt2 = x1+400-x2-640\n",
        "pt3 = x2+600-x3\n",
        "pt4 = x3-x4-520\n",
        "nghiem = sp.solve((pt1,pt2,pt3,pt4))\n",
        "nghiem"
      ],
      "metadata": {
        "colab": {
          "base_uri": "https://localhost:8080/"
        },
        "id": "habse9dqQ3t9",
        "outputId": "2c07c5fc-8e7a-49e1-cd86-5d84508e7419"
      },
      "execution_count": 60,
      "outputs": [
        {
          "output_type": "execute_result",
          "data": {
            "text/plain": [
              "{x1: x4 + 160, x2: x4 - 80, x3: x4 + 520}"
            ]
          },
          "metadata": {},
          "execution_count": 60
        }
      ]
    },
    {
      "cell_type": "code",
      "source": [
        "import numpy as np\n",
        "A = np.matrix([[-1,0,0,1],[1,-1,0,0],[0,1,-1,0],[0,0,1,-1]])"
      ],
      "metadata": {
        "id": "twSaMoMZRu6X"
      },
      "execution_count": 65,
      "outputs": []
    },
    {
      "cell_type": "code",
      "source": [
        "A_nghichdao = np.linalg.inv(A)"
      ],
      "metadata": {
        "colab": {
          "base_uri": "https://localhost:8080/",
          "height": 354
        },
        "id": "aVhUZT1-R-xh",
        "outputId": "1f996b0e-c81e-4969-8ce6-a665bd93e032"
      },
      "execution_count": 66,
      "outputs": [
        {
          "output_type": "error",
          "ename": "LinAlgError",
          "evalue": "ignored",
          "traceback": [
            "\u001b[0;31m---------------------------------------------------------------------------\u001b[0m",
            "\u001b[0;31mLinAlgError\u001b[0m                               Traceback (most recent call last)",
            "\u001b[0;32m<ipython-input-66-9d51581546c6>\u001b[0m in \u001b[0;36m<module>\u001b[0;34m\u001b[0m\n\u001b[0;32m----> 1\u001b[0;31m \u001b[0mA_nghichdao\u001b[0m \u001b[0;34m=\u001b[0m \u001b[0mnp\u001b[0m\u001b[0;34m.\u001b[0m\u001b[0mlinalg\u001b[0m\u001b[0;34m.\u001b[0m\u001b[0minv\u001b[0m\u001b[0;34m(\u001b[0m\u001b[0mA\u001b[0m\u001b[0;34m)\u001b[0m\u001b[0;34m\u001b[0m\u001b[0;34m\u001b[0m\u001b[0m\n\u001b[0m",
            "\u001b[0;32m<__array_function__ internals>\u001b[0m in \u001b[0;36minv\u001b[0;34m(*args, **kwargs)\u001b[0m\n",
            "\u001b[0;32m/usr/local/lib/python3.7/dist-packages/numpy/linalg/linalg.py\u001b[0m in \u001b[0;36minv\u001b[0;34m(a)\u001b[0m\n\u001b[1;32m    543\u001b[0m     \u001b[0msignature\u001b[0m \u001b[0;34m=\u001b[0m \u001b[0;34m'D->D'\u001b[0m \u001b[0;32mif\u001b[0m \u001b[0misComplexType\u001b[0m\u001b[0;34m(\u001b[0m\u001b[0mt\u001b[0m\u001b[0;34m)\u001b[0m \u001b[0;32melse\u001b[0m \u001b[0;34m'd->d'\u001b[0m\u001b[0;34m\u001b[0m\u001b[0;34m\u001b[0m\u001b[0m\n\u001b[1;32m    544\u001b[0m     \u001b[0mextobj\u001b[0m \u001b[0;34m=\u001b[0m \u001b[0mget_linalg_error_extobj\u001b[0m\u001b[0;34m(\u001b[0m\u001b[0m_raise_linalgerror_singular\u001b[0m\u001b[0;34m)\u001b[0m\u001b[0;34m\u001b[0m\u001b[0;34m\u001b[0m\u001b[0m\n\u001b[0;32m--> 545\u001b[0;31m     \u001b[0mainv\u001b[0m \u001b[0;34m=\u001b[0m \u001b[0m_umath_linalg\u001b[0m\u001b[0;34m.\u001b[0m\u001b[0minv\u001b[0m\u001b[0;34m(\u001b[0m\u001b[0ma\u001b[0m\u001b[0;34m,\u001b[0m \u001b[0msignature\u001b[0m\u001b[0;34m=\u001b[0m\u001b[0msignature\u001b[0m\u001b[0;34m,\u001b[0m \u001b[0mextobj\u001b[0m\u001b[0;34m=\u001b[0m\u001b[0mextobj\u001b[0m\u001b[0;34m)\u001b[0m\u001b[0;34m\u001b[0m\u001b[0;34m\u001b[0m\u001b[0m\n\u001b[0m\u001b[1;32m    546\u001b[0m     \u001b[0;32mreturn\u001b[0m \u001b[0mwrap\u001b[0m\u001b[0;34m(\u001b[0m\u001b[0mainv\u001b[0m\u001b[0;34m.\u001b[0m\u001b[0mastype\u001b[0m\u001b[0;34m(\u001b[0m\u001b[0mresult_t\u001b[0m\u001b[0;34m,\u001b[0m \u001b[0mcopy\u001b[0m\u001b[0;34m=\u001b[0m\u001b[0;32mFalse\u001b[0m\u001b[0;34m)\u001b[0m\u001b[0;34m)\u001b[0m\u001b[0;34m\u001b[0m\u001b[0;34m\u001b[0m\u001b[0m\n\u001b[1;32m    547\u001b[0m \u001b[0;34m\u001b[0m\u001b[0m\n",
            "\u001b[0;32m/usr/local/lib/python3.7/dist-packages/numpy/linalg/linalg.py\u001b[0m in \u001b[0;36m_raise_linalgerror_singular\u001b[0;34m(err, flag)\u001b[0m\n\u001b[1;32m     86\u001b[0m \u001b[0;34m\u001b[0m\u001b[0m\n\u001b[1;32m     87\u001b[0m \u001b[0;32mdef\u001b[0m \u001b[0m_raise_linalgerror_singular\u001b[0m\u001b[0;34m(\u001b[0m\u001b[0merr\u001b[0m\u001b[0;34m,\u001b[0m \u001b[0mflag\u001b[0m\u001b[0;34m)\u001b[0m\u001b[0;34m:\u001b[0m\u001b[0;34m\u001b[0m\u001b[0;34m\u001b[0m\u001b[0m\n\u001b[0;32m---> 88\u001b[0;31m     \u001b[0;32mraise\u001b[0m \u001b[0mLinAlgError\u001b[0m\u001b[0;34m(\u001b[0m\u001b[0;34m\"Singular matrix\"\u001b[0m\u001b[0;34m)\u001b[0m\u001b[0;34m\u001b[0m\u001b[0;34m\u001b[0m\u001b[0m\n\u001b[0m\u001b[1;32m     89\u001b[0m \u001b[0;34m\u001b[0m\u001b[0m\n\u001b[1;32m     90\u001b[0m \u001b[0;32mdef\u001b[0m \u001b[0m_raise_linalgerror_nonposdef\u001b[0m\u001b[0;34m(\u001b[0m\u001b[0merr\u001b[0m\u001b[0;34m,\u001b[0m \u001b[0mflag\u001b[0m\u001b[0;34m)\u001b[0m\u001b[0;34m:\u001b[0m\u001b[0;34m\u001b[0m\u001b[0;34m\u001b[0m\u001b[0m\n",
            "\u001b[0;31mLinAlgError\u001b[0m: Singular matrix"
          ]
        }
      ]
    },
    {
      "cell_type": "code",
      "source": [
        "#BAI TAP CHUONG 2"
      ],
      "metadata": {
        "id": "lFoLBwzwSqfb"
      },
      "execution_count": null,
      "outputs": []
    },
    {
      "cell_type": "code",
      "source": [
        "#Cau 1: Hay su dung numpy de giai cac phuong trinh\n",
        "#Van de 1:"
      ],
      "metadata": {
        "id": "TSbdrxIgSsmx"
      },
      "execution_count": null,
      "outputs": []
    },
    {
      "cell_type": "code",
      "source": [
        "import numpy as np\n",
        "A = np.matrix([[1,-1],[2,3]])\n",
        "A"
      ],
      "metadata": {
        "colab": {
          "base_uri": "https://localhost:8080/"
        },
        "id": "WqQlcqINS3Hv",
        "outputId": "83c79627-eda6-41ff-cafb-8524e3658eb8"
      },
      "execution_count": 67,
      "outputs": [
        {
          "output_type": "execute_result",
          "data": {
            "text/plain": [
              "matrix([[ 1, -1],\n",
              "        [ 2,  3]])"
            ]
          },
          "metadata": {},
          "execution_count": 67
        }
      ]
    },
    {
      "cell_type": "code",
      "source": [
        "A_nghich = np.invert(A)\n",
        "b = np.array([-2,6])\n",
        "nghiem = A_nghich.dot(b)\n",
        "nghiem"
      ],
      "metadata": {
        "colab": {
          "base_uri": "https://localhost:8080/"
        },
        "id": "ovpibRYkUHf5",
        "outputId": "ec59907c-c3a3-49da-81c9-f176c8b8faa3"
      },
      "execution_count": 69,
      "outputs": [
        {
          "output_type": "execute_result",
          "data": {
            "text/plain": [
              "matrix([[  4, -18]])"
            ]
          },
          "metadata": {},
          "execution_count": 69
        }
      ]
    },
    {
      "cell_type": "code",
      "source": [
        "#van de 2:\n",
        "import numpy as np\n",
        "A = np.matrix([[1,-1,0],[2,-1,-1], [1,1,1]])\n",
        "A"
      ],
      "metadata": {
        "colab": {
          "base_uri": "https://localhost:8080/"
        },
        "id": "p-Pfb4jWUZZC",
        "outputId": "53a013ee-6698-463c-fe31-747c976e6f02"
      },
      "execution_count": 70,
      "outputs": [
        {
          "output_type": "execute_result",
          "data": {
            "text/plain": [
              "matrix([[ 1, -1,  0],\n",
              "        [ 2, -1, -1],\n",
              "        [ 1,  1,  1]])"
            ]
          },
          "metadata": {},
          "execution_count": 70
        }
      ]
    },
    {
      "cell_type": "code",
      "source": [
        "A_ngd = np.invert(A)\n",
        "b = np.array([2,3,6])\n",
        "nghiem = A_ngd.dot(b)\n",
        "nghiem"
      ],
      "metadata": {
        "colab": {
          "base_uri": "https://localhost:8080/"
        },
        "id": "BAaCoqI_UtM6",
        "outputId": "e0d66241-47d3-4cf0-8193-cbabeb61dc98"
      },
      "execution_count": 71,
      "outputs": [
        {
          "output_type": "execute_result",
          "data": {
            "text/plain": [
              "matrix([[-10,  -6, -22]])"
            ]
          },
          "metadata": {},
          "execution_count": 71
        }
      ]
    },
    {
      "cell_type": "code",
      "source": [
        "#van de 3\n",
        "import numpy as np\n",
        "A = np.matrix([[1,1,1], [4,2,1], [9,3,1]])\n",
        "A"
      ],
      "metadata": {
        "colab": {
          "base_uri": "https://localhost:8080/"
        },
        "id": "sTn0vZRNVDKD",
        "outputId": "66452ded-312f-4ccc-f7f9-8b93b7d2d0e3"
      },
      "execution_count": 72,
      "outputs": [
        {
          "output_type": "execute_result",
          "data": {
            "text/plain": [
              "matrix([[1, 1, 1],\n",
              "        [4, 2, 1],\n",
              "        [9, 3, 1]])"
            ]
          },
          "metadata": {},
          "execution_count": 72
        }
      ]
    },
    {
      "cell_type": "code",
      "source": [
        "A_ngd = np.invert(A)\n",
        "b = np.array([4,3,4])\n",
        "nghiem = A_ngd.dot(b)\n",
        "nghiem"
      ],
      "metadata": {
        "colab": {
          "base_uri": "https://localhost:8080/"
        },
        "id": "k8VPNEIOVMLt",
        "outputId": "7a1180a4-7995-41f2-9303-ecbbdfc9b8ef"
      },
      "execution_count": 73,
      "outputs": [
        {
          "output_type": "execute_result",
          "data": {
            "text/plain": [
              "matrix([[-22, -37, -60]])"
            ]
          },
          "metadata": {},
          "execution_count": 73
        }
      ]
    },
    {
      "cell_type": "code",
      "source": [
        "#van de 4\n",
        "import numpy as np\n",
        "A = np.matrix([[1,0,1], [1,1,-2], [-2,2,1]])\n",
        "A"
      ],
      "metadata": {
        "colab": {
          "base_uri": "https://localhost:8080/"
        },
        "id": "9QCvSdzTVXwO",
        "outputId": "ac1b5e7c-cad0-4644-a7c1-47d99a112d1c"
      },
      "execution_count": 77,
      "outputs": [
        {
          "output_type": "execute_result",
          "data": {
            "text/plain": [
              "matrix([[ 1,  0,  1],\n",
              "        [ 1,  1, -2],\n",
              "        [-2,  2,  1]])"
            ]
          },
          "metadata": {},
          "execution_count": 77
        }
      ]
    },
    {
      "cell_type": "code",
      "source": [
        "A_ngd = np.invert(A)\n",
        "b = np.array([1,-3,0])\n",
        "nghiem = A_ngd.dot(b)\n",
        "nghiem"
      ],
      "metadata": {
        "colab": {
          "base_uri": "https://localhost:8080/"
        },
        "id": "aySj4SCPVxN4",
        "outputId": "3353aab7-da39-468f-e658-b5fa2847eea0"
      },
      "execution_count": 78,
      "outputs": [
        {
          "output_type": "execute_result",
          "data": {
            "text/plain": [
              "matrix([[ 1,  4, 10]])"
            ]
          },
          "metadata": {},
          "execution_count": 78
        }
      ]
    },
    {
      "cell_type": "code",
      "source": [
        "#cau2\n",
        "#van_de_1\n",
        "import sympy as sp\n",
        "from sympy import Symbol, solve\n",
        "x = Symbol('x')\n",
        "y = Symbol('y')\n",
        "pt1 = x - y + 2\n",
        "pt2 = 2*x + 3*y - 6\n",
        "nghiem = sp.solve((pt1,pt2))\n",
        "nghiem"
      ],
      "metadata": {
        "colab": {
          "base_uri": "https://localhost:8080/"
        },
        "id": "Cj0WoIfRXS3s",
        "outputId": "2ef43341-d485-4d84-fd23-18ec474ac24d"
      },
      "execution_count": 79,
      "outputs": [
        {
          "output_type": "execute_result",
          "data": {
            "text/plain": [
              "{x: 0, y: 2}"
            ]
          },
          "metadata": {},
          "execution_count": 79
        }
      ]
    },
    {
      "cell_type": "code",
      "source": [
        "#van_de_2\n",
        "import sympy as sp\n",
        "from sympy import Symbol, solve\n",
        "x = Symbol('x')\n",
        "y = Symbol('y')\n",
        "z = Symbol('z')\n",
        "pt1 = x - y - 2\n",
        "pt2 = 2*x - y - z - 3\n",
        "pt3 = x + y + z -6\n",
        "nghiem = sp.solve((pt1,pt2,pt3))\n",
        "nghiem"
      ],
      "metadata": {
        "colab": {
          "base_uri": "https://localhost:8080/"
        },
        "id": "An4KNNf6XUSf",
        "outputId": "aa6e76a9-661a-4c09-acd2-38233ed6825c"
      },
      "execution_count": 80,
      "outputs": [
        {
          "output_type": "execute_result",
          "data": {
            "text/plain": [
              "{x: 3, y: 1, z: 2}"
            ]
          },
          "metadata": {},
          "execution_count": 80
        }
      ]
    },
    {
      "cell_type": "code",
      "source": [
        "#van_de_3\n",
        "import sympy as sp\n",
        "from sympy import Symbol, solve\n",
        "a = Symbol('a')\n",
        "b = Symbol('b')\n",
        "c = Symbol('c')\n",
        "pt1 = a + b + c - 4\n",
        "pt2 = 4*a + 2*b + c - 3\n",
        "pt3 = 9*a + 3*b + c -4\n",
        "nghiem = sp.solve((pt1,pt2,pt3))\n",
        "nghiem"
      ],
      "metadata": {
        "colab": {
          "base_uri": "https://localhost:8080/"
        },
        "id": "pfkhbQOPXW3M",
        "outputId": "dbfbac92-461e-4b09-8659-3a43b887c173"
      },
      "execution_count": 81,
      "outputs": [
        {
          "output_type": "execute_result",
          "data": {
            "text/plain": [
              "{a: 1, b: -4, c: 7}"
            ]
          },
          "metadata": {},
          "execution_count": 81
        }
      ]
    },
    {
      "cell_type": "code",
      "source": [
        "#van_de_4\n",
        "import sympy as sp\n",
        "from sympy import Symbol, solve\n",
        "a = Symbol('a')\n",
        "b = Symbol('b')\n",
        "c = Symbol('c')\n",
        "pt1 = a + c - 1\n",
        "pt2 = a + b - 2*c + 3\n",
        "pt3 = -2*a + 2*b + c \n",
        "nghiem = sp.solve((pt1,pt2,pt3))\n",
        "nghiem"
      ],
      "metadata": {
        "colab": {
          "base_uri": "https://localhost:8080/"
        },
        "id": "5-3I0X3cXZJD",
        "outputId": "ef28be9d-1723-4e8f-dfec-e78827f3e2a9"
      },
      "execution_count": 82,
      "outputs": [
        {
          "output_type": "execute_result",
          "data": {
            "text/plain": [
              "{a: -1/9, b: -2/3, c: 10/9}"
            ]
          },
          "metadata": {},
          "execution_count": 82
        }
      ]
    },
    {
      "cell_type": "code",
      "source": [
        "#cau3\n",
        "import numpy as np\n",
        "A = np.array([[1,1], [1, 0]])\n",
        "b = np.array([0,0])\n",
        "n = 3"
      ],
      "metadata": {
        "id": "Rax7wgusXbxv"
      },
      "execution_count": 83,
      "outputs": []
    },
    {
      "cell_type": "code",
      "source": [
        "for i in range(n):\n",
        "  b = A.dot(b)\n",
        "  print(b)"
      ],
      "metadata": {
        "colab": {
          "base_uri": "https://localhost:8080/"
        },
        "id": "AbLFrJ35Xecm",
        "outputId": "b611a441-493f-442c-cb8a-f93c04953a0e"
      },
      "execution_count": 85,
      "outputs": [
        {
          "output_type": "stream",
          "name": "stdout",
          "text": [
            "[0 0]\n",
            "[0 0]\n",
            "[0 0]\n"
          ]
        }
      ]
    }
  ]
}