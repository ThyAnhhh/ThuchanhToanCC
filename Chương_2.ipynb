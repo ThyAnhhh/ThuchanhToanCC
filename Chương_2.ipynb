{
  "nbformat": 4,
  "nbformat_minor": 0,
  "metadata": {
    "colab": {
      "provenance": [],
      "authorship_tag": "ABX9TyOw6JSYF7JEGRr4cm9o6OAT",
      "include_colab_link": true
    },
    "kernelspec": {
      "name": "python3",
      "display_name": "Python 3"
    },
    "language_info": {
      "name": "python"
    }
  },
  "cells": [
    {
      "cell_type": "markdown",
      "metadata": {
        "id": "view-in-github",
        "colab_type": "text"
      },
      "source": [
        "<a href=\"https://colab.research.google.com/github/ThyAnhhh/ThuchanhToanCC/blob/main/Ch%C6%B0%C6%A1ng_2.ipynb\" target=\"_parent\"><img src=\"https://colab.research.google.com/assets/colab-badge.svg\" alt=\"Open In Colab\"/></a>"
      ]
    },
    {
      "cell_type": "code",
      "source": [
        "#Họ tên: Tạ Huỳnh Thy Anh\n",
        "#MSSV: 2174802010828\n",
        "#CHUONG 2: Ma trận và hệ phương trình tuyến tính"
      ],
      "metadata": {
        "id": "4IeNMsii99tY"
      },
      "execution_count": null,
      "outputs": []
    },
    {
      "cell_type": "code",
      "source": [
        "#1. Dẫn nhập - một số hàm về xử lý vector với python"
      ],
      "metadata": {
        "id": "vlpv0Jkf-aHU"
      },
      "execution_count": null,
      "outputs": []
    },
    {
      "cell_type": "code",
      "source": [
        "def scale(a,v):\n",
        "  return [a*vi for vi in v]\n",
        "v = [3,5,7]\n",
        "scale(10,v)"
      ],
      "metadata": {
        "colab": {
          "base_uri": "https://localhost:8080/"
        },
        "id": "QAryUFQ2-p4D",
        "outputId": "db7668d4-a6eb-4468-df93-7aba23f12a65"
      },
      "execution_count": 3,
      "outputs": [
        {
          "output_type": "execute_result",
          "data": {
            "text/plain": [
              "[30, 50, 70]"
            ]
          },
          "metadata": {},
          "execution_count": 3
        }
      ]
    },
    {
      "cell_type": "code",
      "source": [
        "def sumvector(v,w):\n",
        "  return [vi+wi for (vi,wi) in zip(v,w)]\n",
        "v = [3,5,7]\n",
        "w = [2,4,6] \n",
        "sumvector(v,w)"
      ],
      "metadata": {
        "colab": {
          "base_uri": "https://localhost:8080/"
        },
        "id": "Wlb3UfSXBBcy",
        "outputId": "d2d7e4a8-b9f7-4575-930f-b976a5ec3428"
      },
      "execution_count": 5,
      "outputs": [
        {
          "output_type": "execute_result",
          "data": {
            "text/plain": [
              "[5, 9, 13]"
            ]
          },
          "metadata": {},
          "execution_count": 5
        }
      ]
    },
    {
      "cell_type": "code",
      "source": [
        "def dotvector(v,w):\n",
        "  return sum([vi*wi for (vi,wi) in zip(v,w)])\n",
        "dotvector(v,w)"
      ],
      "metadata": {
        "colab": {
          "base_uri": "https://localhost:8080/"
        },
        "id": "8rYl9QIFBaby",
        "outputId": "7a91d10a-a1b7-40fd-d5f7-ac128df79ac6"
      },
      "execution_count": 6,
      "outputs": [
        {
          "output_type": "execute_result",
          "data": {
            "text/plain": [
              "68"
            ]
          },
          "metadata": {},
          "execution_count": 6
        }
      ]
    },
    {
      "cell_type": "code",
      "source": [
        "def lenvector(v):\n",
        "  return dotvector(v,v)\n",
        "lenvector(w)"
      ],
      "metadata": {
        "colab": {
          "base_uri": "https://localhost:8080/"
        },
        "id": "jl0kA0M2ByeZ",
        "outputId": "ab46a589-7905-4aac-c325-a81ff34e13f2"
      },
      "execution_count": 7,
      "outputs": [
        {
          "output_type": "execute_result",
          "data": {
            "text/plain": [
              "56"
            ]
          },
          "metadata": {},
          "execution_count": 7
        }
      ]
    },
    {
      "cell_type": "code",
      "source": [
        "#2. Bai toan ung dung 1 - Phan loai tuyen tinh"
      ],
      "metadata": {
        "id": "M8CvW6FNB6jn"
      },
      "execution_count": null,
      "outputs": []
    },
    {
      "cell_type": "code",
      "source": [
        "import numpy as np"
      ],
      "metadata": {
        "id": "Hijn4xFaB_4T"
      },
      "execution_count": 8,
      "outputs": []
    },
    {
      "cell_type": "code",
      "source": [
        "scores = np.array([-1,1,2,-3,5,-4])"
      ],
      "metadata": {
        "id": "WFItdU3PCDNL"
      },
      "execution_count": 11,
      "outputs": []
    },
    {
      "cell_type": "code",
      "source": [
        "scores >= 0"
      ],
      "metadata": {
        "colab": {
          "base_uri": "https://localhost:8080/"
        },
        "id": "0tY6FD9SCLy_",
        "outputId": "66e8de8b-844d-460b-ca17-0655fc9385e7"
      },
      "execution_count": 12,
      "outputs": [
        {
          "output_type": "execute_result",
          "data": {
            "text/plain": [
              "array([False,  True,  True, False,  True, False])"
            ]
          },
          "metadata": {},
          "execution_count": 12
        }
      ]
    },
    {
      "cell_type": "code",
      "source": [
        "scores < 0"
      ],
      "metadata": {
        "colab": {
          "base_uri": "https://localhost:8080/"
        },
        "id": "zwgIlU0yCT3f",
        "outputId": "55f50f11-0e48-41b7-861c-b3982a7e8c2d"
      },
      "execution_count": 13,
      "outputs": [
        {
          "output_type": "execute_result",
          "data": {
            "text/plain": [
              "array([ True, False, False,  True, False,  True])"
            ]
          },
          "metadata": {},
          "execution_count": 13
        }
      ]
    },
    {
      "cell_type": "code",
      "source": [
        "np.select ([scores >= 0, scores <0], ['so duong', 'so am'])"
      ],
      "metadata": {
        "colab": {
          "base_uri": "https://localhost:8080/"
        },
        "id": "O6g3ywMfCXdz",
        "outputId": "d8dfa6d4-4ebc-4aea-a561-988188655879"
      },
      "execution_count": 14,
      "outputs": [
        {
          "output_type": "execute_result",
          "data": {
            "text/plain": [
              "array(['so am', 'so duong', 'so duong', 'so am', 'so duong', 'so am'],\n",
              "      dtype='<U8')"
            ]
          },
          "metadata": {},
          "execution_count": 14
        }
      ]
    },
    {
      "cell_type": "code",
      "source": [
        "scores = np.array([-1,1,2,0,-3,5,0,-4])\n",
        "np.select([scores >0, scores ==0, scores <0],['so duong','so 0', 'so am'])"
      ],
      "metadata": {
        "colab": {
          "base_uri": "https://localhost:8080/"
        },
        "id": "rVjnr7JzCiDW",
        "outputId": "352d5674-bc2d-445c-b812-e2032f733a41"
      },
      "execution_count": 15,
      "outputs": [
        {
          "output_type": "execute_result",
          "data": {
            "text/plain": [
              "array(['so am', 'so duong', 'so duong', 'so 0', 'so am', 'so duong',\n",
              "       'so 0', 'so am'], dtype='<U8')"
            ]
          },
          "metadata": {},
          "execution_count": 15
        }
      ]
    },
    {
      "cell_type": "code",
      "source": [
        "#3. Thuc hanh xu ly ma tran\n",
        "#3.1. Co ban ve xu ly ma tran"
      ],
      "metadata": {
        "id": "V-oGOFOeDAYR"
      },
      "execution_count": null,
      "outputs": []
    },
    {
      "cell_type": "code",
      "source": [
        "import numpy as np\n",
        "from scipy import linalg, sparse"
      ],
      "metadata": {
        "id": "wbbVNI5UDHY5"
      },
      "execution_count": 16,
      "outputs": []
    },
    {
      "cell_type": "code",
      "source": [
        "D = np.mat([[3,4],[5,6]])\n",
        "print(D)"
      ],
      "metadata": {
        "colab": {
          "base_uri": "https://localhost:8080/"
        },
        "id": "DVkTHaVUDVZO",
        "outputId": "e2984edf-23f0-40f7-b7e9-1147a8285be7"
      },
      "execution_count": 19,
      "outputs": [
        {
          "output_type": "stream",
          "name": "stdout",
          "text": [
            "[[3 4]\n",
            " [5 6]]\n"
          ]
        }
      ]
    },
    {
      "cell_type": "code",
      "source": [
        "C = np.mat(np.random.random((5,7)))\n",
        "print(C)"
      ],
      "metadata": {
        "colab": {
          "base_uri": "https://localhost:8080/"
        },
        "id": "kmJ1AD47DfIW",
        "outputId": "e07f1e42-bbfe-41ec-b434-dc10c23ee5bd"
      },
      "execution_count": 21,
      "outputs": [
        {
          "output_type": "stream",
          "name": "stdout",
          "text": [
            "[[0.98579937 0.18646229 0.88890494 0.99648737 0.32611248 0.09677251\n",
            "  0.66101981]\n",
            " [0.29932775 0.26617851 0.34872563 0.54630996 0.33100842 0.26642591\n",
            "  0.89354984]\n",
            " [0.1641845  0.46219085 0.87854013 0.00274174 0.75444647 0.13521533\n",
            "  0.46473456]\n",
            " [0.69449427 0.24844971 0.57334038 0.06653516 0.58865043 0.89439292\n",
            "  0.15081279]\n",
            " [0.91609192 0.78149853 0.30361242 0.57027768 0.72414314 0.35475505\n",
            "  0.05154593]]\n"
          ]
        }
      ]
    },
    {
      "cell_type": "code",
      "source": [
        "A = np.mat(np.random.random((2,2)))\n",
        "print(A)"
      ],
      "metadata": {
        "colab": {
          "base_uri": "https://localhost:8080/"
        },
        "id": "Gx7VZLR5DuPS",
        "outputId": "e5e67a78-6ce3-4179-acce-d6ebcbe06cab"
      },
      "execution_count": 22,
      "outputs": [
        {
          "output_type": "stream",
          "name": "stdout",
          "text": [
            "[[0.66005303 0.77059013]\n",
            " [0.43324318 0.38749674]]\n"
          ]
        }
      ]
    },
    {
      "cell_type": "code",
      "source": [
        "b = np.array([1+5j, 2j, 3j,(4,5,6)])\n",
        "B = np.asmatrix(b)\n",
        "print(b)\n",
        "print(B)"
      ],
      "metadata": {
        "colab": {
          "base_uri": "https://localhost:8080/"
        },
        "id": "t6Gu945ND1Os",
        "outputId": "04a5db47-b060-4abf-a010-0da15465befc"
      },
      "execution_count": 23,
      "outputs": [
        {
          "output_type": "stream",
          "name": "stdout",
          "text": [
            "[(1+5j) 2j 3j (4, 5, 6)]\n",
            "[[(1+5j) 2j 3j (4, 5, 6)]]\n"
          ]
        },
        {
          "output_type": "stream",
          "name": "stderr",
          "text": [
            "/usr/local/lib/python3.7/dist-packages/ipykernel_launcher.py:1: VisibleDeprecationWarning: Creating an ndarray from ragged nested sequences (which is a list-or-tuple of lists-or-tuples-or ndarrays with different lengths or shapes) is deprecated. If you meant to do this, you must specify 'dtype=object' when creating the ndarray.\n",
            "  \"\"\"Entry point for launching an IPython kernel.\n"
          ]
        }
      ]
    },
    {
      "cell_type": "code",
      "source": [
        "A.T"
      ],
      "metadata": {
        "colab": {
          "base_uri": "https://localhost:8080/"
        },
        "id": "p1IBZHGHEGAL",
        "outputId": "8329ffa8-c813-4afb-9d6c-463d5653a2a0"
      },
      "execution_count": 24,
      "outputs": [
        {
          "output_type": "execute_result",
          "data": {
            "text/plain": [
              "matrix([[0.66005303, 0.43324318],\n",
              "        [0.77059013, 0.38749674]])"
            ]
          },
          "metadata": {},
          "execution_count": 24
        }
      ]
    },
    {
      "cell_type": "code",
      "source": [
        "A.I"
      ],
      "metadata": {
        "colab": {
          "base_uri": "https://localhost:8080/"
        },
        "id": "5EVkYQCiEIEX",
        "outputId": "36eaa352-779c-43bf-dcf4-b976ac8e01f8"
      },
      "execution_count": 25,
      "outputs": [
        {
          "output_type": "execute_result",
          "data": {
            "text/plain": [
              "matrix([[-4.96252938,  9.86866668],\n",
              "        [ 5.54838736, -8.45305833]])"
            ]
          },
          "metadata": {},
          "execution_count": 25
        }
      ]
    },
    {
      "cell_type": "code",
      "source": [
        "linalg.inv(A)\n",
        "M = np.array([[-1,3,2],[0,-2,1],[1,5,-2]])\n",
        "M_lower = np.tril(M)\n",
        "print(M_lower)"
      ],
      "metadata": {
        "colab": {
          "base_uri": "https://localhost:8080/"
        },
        "id": "FVtAJ5sDELP6",
        "outputId": "0d97987f-fb1c-4488-893d-b03c45fb8e06"
      },
      "execution_count": 26,
      "outputs": [
        {
          "output_type": "stream",
          "name": "stdout",
          "text": [
            "[[-1  0  0]\n",
            " [ 0 -2  0]\n",
            " [ 1  5 -2]]\n"
          ]
        }
      ]
    },
    {
      "cell_type": "code",
      "source": [
        "M = np.array"
      ],
      "metadata": {
        "id": "FwLeL1euEb8N"
      },
      "execution_count": null,
      "outputs": []
    }
  ]
}