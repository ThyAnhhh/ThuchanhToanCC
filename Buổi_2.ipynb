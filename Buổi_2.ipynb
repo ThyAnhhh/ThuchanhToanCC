{
  "nbformat": 4,
  "nbformat_minor": 0,
  "metadata": {
    "colab": {
      "name": "Buổi 2.ipynb",
      "provenance": [],
      "authorship_tag": "ABX9TyPo3i1EA2n9vpSrkoJhIcs7",
      "include_colab_link": true
    },
    "kernelspec": {
      "name": "python3",
      "display_name": "Python 3"
    },
    "language_info": {
      "name": "python"
    }
  },
  "cells": [
    {
      "cell_type": "markdown",
      "metadata": {
        "id": "view-in-github",
        "colab_type": "text"
      },
      "source": [
        "<a href=\"https://colab.research.google.com/github/ThyAnhhh/ThuchanhToanCC/blob/main/Bu%E1%BB%95i_2.ipynb\" target=\"_parent\"><img src=\"https://colab.research.google.com/assets/colab-badge.svg\" alt=\"Open In Colab\"/></a>"
      ]
    },
    {
      "cell_type": "markdown",
      "source": [
        "Buổi 2\n"
      ],
      "metadata": {
        "id": "DFjWjOTVEVHK"
      }
    },
    {
      "cell_type": "markdown",
      "source": [
        "Thực hành 9"
      ],
      "metadata": {
        "id": "r9yOgvYnEf0K"
      }
    },
    {
      "cell_type": "code",
      "source": [
        "from sympy import Limit, Symbol, S\n",
        "x = Symbol ('x')\n",
        "Limit (1/x, x, S.Infinity)\n",
        "gioihan = Limit(1/x, x, S.Infinity)\n",
        "gioihan.doit()\n"
      ],
      "metadata": {
        "colab": {
          "base_uri": "https://localhost:8080/",
          "height": 37
        },
        "id": "8UQvDTJREduI",
        "outputId": "bc28323c-a233-4d5f-f24b-9798c2d81689"
      },
      "execution_count": null,
      "outputs": [
        {
          "output_type": "execute_result",
          "data": {
            "text/latex": "$\\displaystyle 0$",
            "text/plain": [
              "0"
            ]
          },
          "metadata": {},
          "execution_count": 8
        }
      ]
    },
    {
      "cell_type": "markdown",
      "source": [
        "Thực hành 10"
      ],
      "metadata": {
        "id": "icCDCPLfI_nd"
      }
    },
    {
      "cell_type": "code",
      "source": [
        "from sympy import Symbol, sin\n",
        "Limit(sin(x)/x,x,0).doit()\n"
      ],
      "metadata": {
        "colab": {
          "base_uri": "https://localhost:8080/",
          "height": 37
        },
        "id": "74MbXYEzKaC8",
        "outputId": "33db299d-6e1d-4220-977f-a07d0021cdc2"
      },
      "execution_count": null,
      "outputs": [
        {
          "output_type": "execute_result",
          "data": {
            "text/latex": "$\\displaystyle 1$",
            "text/plain": [
              "1"
            ]
          },
          "metadata": {},
          "execution_count": 9
        }
      ]
    },
    {
      "cell_type": "markdown",
      "source": [
        "Thực hành 11"
      ],
      "metadata": {
        "id": "nz-Ks2y6KrD8"
      }
    },
    {
      "cell_type": "code",
      "source": [
        "from sympy import limit, sin, S\n",
        "limit(x*sin(1/x),x,S.Infinity)"
      ],
      "metadata": {
        "colab": {
          "base_uri": "https://localhost:8080/",
          "height": 35
        },
        "id": "G7Kk3hdELczV",
        "outputId": "89772539-08f1-4943-bf49-972fc4a7fe86"
      },
      "execution_count": 10,
      "outputs": [
        {
          "output_type": "execute_result",
          "data": {
            "text/latex": "$\\displaystyle 1$",
            "text/plain": [
              "1"
            ]
          },
          "metadata": {},
          "execution_count": 10
        }
      ]
    },
    {
      "cell_type": "markdown",
      "source": [
        "Lãi suất"
      ],
      "metadata": {
        "id": "WnR2BZFmMOr1"
      }
    },
    {
      "cell_type": "code",
      "source": [
        "from sympy import Limit, Symbol, S\n",
        "n = Symbol('n')\n",
        "Limit((1+1/n)**n,n,S.Infinity).doit()"
      ],
      "metadata": {
        "colab": {
          "base_uri": "https://localhost:8080/",
          "height": 36
        },
        "id": "8Zag1uX2MPDL",
        "outputId": "f717fd99-67d6-43d5-b263-33fb7add27d8"
      },
      "execution_count": 12,
      "outputs": [
        {
          "output_type": "execute_result",
          "data": {
            "text/latex": "$\\displaystyle e$",
            "text/plain": [
              "E"
            ]
          },
          "metadata": {},
          "execution_count": 12
        }
      ]
    },
    {
      "cell_type": "markdown",
      "source": [
        "Thực hành 12"
      ],
      "metadata": {
        "id": "wW0r4R1vMtgC"
      }
    },
    {
      "cell_type": "code",
      "source": [
        "from sympy import Symbol, Limit, S\n",
        "p = Symbol('p', positive=True)\n",
        "r = Symbol('r', positive=True)\n",
        "t = Symbol('t', positive=True)\n",
        "Limit(p*(1+r/n)**(n*t),n,S.Infinity).doit()"
      ],
      "metadata": {
        "colab": {
          "base_uri": "https://localhost:8080/",
          "height": 37
        },
        "id": "gXbfMKmiNEEX",
        "outputId": "0f875a4b-c420-479e-fb4b-c6ba5d11895d"
      },
      "execution_count": 13,
      "outputs": [
        {
          "output_type": "execute_result",
          "data": {
            "text/latex": "$\\displaystyle p e^{r t}$",
            "text/plain": [
              "p*exp(r*t)"
            ]
          },
          "metadata": {},
          "execution_count": 13
        }
      ]
    },
    {
      "cell_type": "markdown",
      "source": [
        "Thực hành 13"
      ],
      "metadata": {
        "id": "pmefuTAGN67-"
      }
    },
    {
      "cell_type": "code",
      "source": [
        "from sympy import Symbol, Limit\n",
        "t = Symbol('t')\n",
        "St = 5*t**2 + 2*t + 8 \n",
        "t1 = Symbol('t1')\n",
        "delta_t = Symbol('delta_t')\n",
        "St1 = St.subs({t: t1})\n",
        "St1_delta = St.subs({t: t1 + delta_t})\n",
        "\n",
        "Limit((St1_delta-St1)/delta_t, delta_t,0).doit()"
      ],
      "metadata": {
        "colab": {
          "base_uri": "https://localhost:8080/",
          "height": 36
        },
        "id": "ZeXKWFX3N8ek",
        "outputId": "ba143356-915f-4398-ec27-6ca046f8a826"
      },
      "execution_count": 17,
      "outputs": [
        {
          "output_type": "execute_result",
          "data": {
            "text/latex": "$\\displaystyle 10 t_{1} + 2$",
            "text/plain": [
              "10*t1 + 2"
            ]
          },
          "metadata": {},
          "execution_count": 17
        }
      ]
    }
  ]
}