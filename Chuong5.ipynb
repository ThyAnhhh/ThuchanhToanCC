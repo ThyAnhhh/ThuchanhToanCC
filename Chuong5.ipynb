{
  "nbformat": 4,
  "nbformat_minor": 0,
  "metadata": {
    "colab": {
      "provenance": [],
      "collapsed_sections": [],
      "authorship_tag": "ABX9TyPYZZ/PATTUVesnlsWsUvqS",
      "include_colab_link": true
    },
    "kernelspec": {
      "name": "python3",
      "display_name": "Python 3"
    },
    "language_info": {
      "name": "python"
    }
  },
  "cells": [
    {
      "cell_type": "markdown",
      "metadata": {
        "id": "view-in-github",
        "colab_type": "text"
      },
      "source": [
        "<a href=\"https://colab.research.google.com/github/ThyAnhhh/ThuchanhToanCC/blob/main/Chuong5.ipynb\" target=\"_parent\"><img src=\"https://colab.research.google.com/assets/colab-badge.svg\" alt=\"Open In Colab\"/></a>"
      ]
    },
    {
      "cell_type": "code",
      "execution_count": null,
      "metadata": {
        "id": "1hndCuBmQQtA"
      },
      "outputs": [],
      "source": [
        "#Họ và tên: Tạ Huỳnh Thy Anh\n",
        "#MSSV: 2174802010828\n",
        "#Chương 5: Định thức, ma trận và ứng dụng"
      ]
    },
    {
      "cell_type": "code",
      "source": [
        "#Bài tập 1"
      ],
      "metadata": {
        "id": "F3-wJ7bwQ_PI"
      },
      "execution_count": null,
      "outputs": []
    },
    {
      "cell_type": "code",
      "source": [
        "import numpy as np\n",
        "c = [3, 7, 15, 1, 292, 1, 1, 1, 2, 1, 3, 1, 14, 2] \n",
        "M = np.mat([[1,2],[3,4]]) \n",
        "for i in range(len(c)):\n",
        "  ci = np.mat([[1,1],[1,0]]) \n",
        "  ci[0, 0] = c[i]\n",
        "  if (i==0):\n",
        "    M = ci \n",
        "  else:\n",
        "    M = M.dot(ci) \n",
        "print(M)\n",
        "print (M[0,0]/M[1,0])"
      ],
      "metadata": {
        "colab": {
          "base_uri": "https://localhost:8080/"
        },
        "id": "HjFNICp0RA_W",
        "outputId": "5aaa9e77-7446-4ffc-822e-04afc6d43dca"
      },
      "execution_count": null,
      "outputs": [
        {
          "output_type": "stream",
          "name": "stdout",
          "text": [
            "[[165707065  80143857]\n",
            " [ 52746197  25510582]]\n",
            "3.1415926535897936\n"
          ]
        }
      ]
    },
    {
      "cell_type": "code",
      "source": [
        "#Vậy số Pi = 3.1415926535897936"
      ],
      "metadata": {
        "id": "DvGwUyxRb0yx"
      },
      "execution_count": null,
      "outputs": []
    },
    {
      "cell_type": "code",
      "source": [
        "#Bài tập 2"
      ],
      "metadata": {
        "id": "G-UzPqNeRy_r"
      },
      "execution_count": null,
      "outputs": []
    },
    {
      "cell_type": "code",
      "source": [
        "import numpy as np\n",
        "from scipy import linalg"
      ],
      "metadata": {
        "id": "baVKxLWGR3Re"
      },
      "execution_count": null,
      "outputs": []
    },
    {
      "cell_type": "code",
      "source": [
        "X = np.array([[1,1],[1,2],[1,3],[1,4],[1,5]])\n",
        "X"
      ],
      "metadata": {
        "colab": {
          "base_uri": "https://localhost:8080/"
        },
        "id": "jMx5nBr0R_dL",
        "outputId": "e22bcfa8-5183-40f1-a08d-9f462ec1ca32"
      },
      "execution_count": null,
      "outputs": [
        {
          "output_type": "execute_result",
          "data": {
            "text/plain": [
              "array([[1, 1],\n",
              "       [1, 2],\n",
              "       [1, 3],\n",
              "       [1, 4],\n",
              "       [1, 5]])"
            ]
          },
          "metadata": {},
          "execution_count": 4
        }
      ]
    },
    {
      "cell_type": "code",
      "source": [
        "Y = np.array([[1],[2],[4],[4],[6]])\n",
        "Y"
      ],
      "metadata": {
        "colab": {
          "base_uri": "https://localhost:8080/"
        },
        "id": "kZm5IyjpSOW5",
        "outputId": "070e3dd0-4cc0-41df-eec8-d1fbcab88e9d"
      },
      "execution_count": null,
      "outputs": [
        {
          "output_type": "execute_result",
          "data": {
            "text/plain": [
              "array([[1],\n",
              "       [2],\n",
              "       [4],\n",
              "       [4],\n",
              "       [6]])"
            ]
          },
          "metadata": {},
          "execution_count": 5
        }
      ]
    },
    {
      "cell_type": "code",
      "source": [
        "XT = X.T\n",
        "XT"
      ],
      "metadata": {
        "colab": {
          "base_uri": "https://localhost:8080/"
        },
        "id": "5_FKNbgGSUB9",
        "outputId": "0cd9cfc2-52bc-483c-b328-5debcb19c069"
      },
      "execution_count": null,
      "outputs": [
        {
          "output_type": "execute_result",
          "data": {
            "text/plain": [
              "array([[1, 1, 1, 1, 1],\n",
              "       [1, 2, 3, 4, 5]])"
            ]
          },
          "metadata": {},
          "execution_count": 6
        }
      ]
    },
    {
      "cell_type": "code",
      "source": [
        "A1 = linalg.inv(XT.dot(X))\n",
        "A1"
      ],
      "metadata": {
        "colab": {
          "base_uri": "https://localhost:8080/"
        },
        "id": "a4iyhbR5SYwm",
        "outputId": "c46784c6-8919-443b-8e40-8ce0605e7b8d"
      },
      "execution_count": null,
      "outputs": [
        {
          "output_type": "execute_result",
          "data": {
            "text/plain": [
              "array([[ 1.1, -0.3],\n",
              "       [-0.3,  0.1]])"
            ]
          },
          "metadata": {},
          "execution_count": 9
        }
      ]
    },
    {
      "cell_type": "code",
      "source": [
        "A2 = XT.dot(Y)\n",
        "A2"
      ],
      "metadata": {
        "colab": {
          "base_uri": "https://localhost:8080/"
        },
        "id": "doPOJxdiSnYC",
        "outputId": "b1d1b880-e030-46a9-f89e-858e8a4e5e67"
      },
      "execution_count": null,
      "outputs": [
        {
          "output_type": "execute_result",
          "data": {
            "text/plain": [
              "array([[17],\n",
              "       [63]])"
            ]
          },
          "metadata": {},
          "execution_count": 10
        }
      ]
    },
    {
      "cell_type": "code",
      "source": [
        "A = A1.dot(A2)\n",
        "A"
      ],
      "metadata": {
        "colab": {
          "base_uri": "https://localhost:8080/"
        },
        "id": "58twCaGpSrhd",
        "outputId": "f0d62892-14dc-4af1-9c66-f8f41fe1ea30"
      },
      "execution_count": null,
      "outputs": [
        {
          "output_type": "execute_result",
          "data": {
            "text/plain": [
              "array([[-0.2],\n",
              "       [ 1.2]])"
            ]
          },
          "metadata": {},
          "execution_count": 25
        }
      ]
    },
    {
      "cell_type": "code",
      "source": [
        "#Vậy phương trình đường thẳng tuyến tính bậc 1 là f(x) = -0,2 + 1,2x"
      ],
      "metadata": {
        "id": "MIC8QaynbVxK"
      },
      "execution_count": null,
      "outputs": []
    },
    {
      "cell_type": "code",
      "source": [
        "E = Y - (X.dot(A))\n",
        "E"
      ],
      "metadata": {
        "colab": {
          "base_uri": "https://localhost:8080/"
        },
        "id": "pkbJWGuCSusj",
        "outputId": "09788a4a-59a2-4c97-e289-6f2c9ca945bb"
      },
      "execution_count": null,
      "outputs": [
        {
          "output_type": "execute_result",
          "data": {
            "text/plain": [
              "array([[-1.77635684e-15],\n",
              "       [-2.00000000e-01],\n",
              "       [ 6.00000000e-01],\n",
              "       [-6.00000000e-01],\n",
              "       [ 2.00000000e-01]])"
            ]
          },
          "metadata": {},
          "execution_count": 12
        }
      ]
    },
    {
      "cell_type": "code",
      "source": [
        "ET = E.T\n",
        "ET"
      ],
      "metadata": {
        "colab": {
          "base_uri": "https://localhost:8080/"
        },
        "id": "8C6NzqOLS1Dp",
        "outputId": "ba7f35b7-7f6b-4464-e33c-e0c10a311cf6"
      },
      "execution_count": null,
      "outputs": [
        {
          "output_type": "execute_result",
          "data": {
            "text/plain": [
              "array([[-1.77635684e-15, -2.00000000e-01,  6.00000000e-01,\n",
              "        -6.00000000e-01,  2.00000000e-01]])"
            ]
          },
          "metadata": {},
          "execution_count": 13
        }
      ]
    },
    {
      "cell_type": "code",
      "source": [
        "e = ET.dot(E)\n",
        "e"
      ],
      "metadata": {
        "colab": {
          "base_uri": "https://localhost:8080/"
        },
        "id": "RxR_c9L9S5HV",
        "outputId": "a222bfd2-c05a-403c-9265-ab7d5f4c7295"
      },
      "execution_count": null,
      "outputs": [
        {
          "output_type": "execute_result",
          "data": {
            "text/plain": [
              "array([[0.8]])"
            ]
          },
          "metadata": {},
          "execution_count": 26
        }
      ]
    },
    {
      "cell_type": "code",
      "source": [
        "#Vậy sai số e là: 0,8"
      ],
      "metadata": {
        "id": "YUHd4bZ3bjBy"
      },
      "execution_count": null,
      "outputs": []
    },
    {
      "cell_type": "code",
      "source": [
        "#Bài tập 3"
      ],
      "metadata": {
        "id": "ndeIGE_JS9T6"
      },
      "execution_count": null,
      "outputs": []
    },
    {
      "cell_type": "code",
      "source": [
        "def bpcuctieu(a):\n",
        "  b = []\n",
        "  o1 = []\n",
        "  for i in range(len(a)):\n",
        "    o1.append(1.0)\n",
        "    b.append((i+0)*1.0)\n",
        "  x = np.array([o1, b]) \n",
        "  u = np.dot(x, x.T) \n",
        "  y = np.array(a)\n",
        "  from numpy import linalg\n",
        "  u_1 =np.linalg.inv(u)\n",
        "  v = np.dot(u_1, x) \n",
        "  A = np.dot(v, y)\n",
        "  return A"
      ],
      "metadata": {
        "id": "5oO-choiTAxq"
      },
      "execution_count": null,
      "outputs": []
    },
    {
      "cell_type": "code",
      "source": [
        "dulieu = [10, 8, 7, 5, 2]\n",
        "bpcuctieu(dulieu)"
      ],
      "metadata": {
        "colab": {
          "base_uri": "https://localhost:8080/"
        },
        "id": "Za12tDzhYLhj",
        "outputId": "6b19a5e8-8147-4517-d539-d3a88492bfac"
      },
      "execution_count": null,
      "outputs": [
        {
          "output_type": "execute_result",
          "data": {
            "text/plain": [
              "array([10.2, -1.9])"
            ]
          },
          "metadata": {},
          "execution_count": 29
        }
      ]
    },
    {
      "cell_type": "code",
      "source": [
        "#Phương trình tuyến tính là: f(x) = 10,2 - 1,9x \n",
        "#Sai số là: 1,1"
      ],
      "metadata": {
        "id": "sRh5cGmrd-vZ"
      },
      "execution_count": null,
      "outputs": []
    }
  ]
}