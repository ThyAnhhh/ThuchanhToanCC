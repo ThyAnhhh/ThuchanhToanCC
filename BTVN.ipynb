{
  "nbformat": 4,
  "nbformat_minor": 0,
  "metadata": {
    "colab": {
      "name": "BTVN.ipynb",
      "provenance": [],
      "authorship_tag": "ABX9TyPl9/mZwRAAneeJCrfF2aqS",
      "include_colab_link": true
    },
    "kernelspec": {
      "name": "python3",
      "display_name": "Python 3"
    },
    "language_info": {
      "name": "python"
    }
  },
  "cells": [
    {
      "cell_type": "markdown",
      "metadata": {
        "id": "view-in-github",
        "colab_type": "text"
      },
      "source": [
        "<a href=\"https://colab.research.google.com/github/ThyAnhhh/ThuchanhToanCC/blob/main/BTVN.ipynb\" target=\"_parent\"><img src=\"https://colab.research.google.com/assets/colab-badge.svg\" alt=\"Open In Colab\"/></a>"
      ]
    },
    {
      "cell_type": "markdown",
      "source": [
        "#Chương 2"
      ],
      "metadata": {
        "id": "3EpgLKDsv7hn"
      }
    },
    {
      "cell_type": "markdown",
      "source": [
        "**Bài tập 1**"
      ],
      "metadata": {
        "id": "cBteCg4Xwk_8"
      }
    },
    {
      "cell_type": "markdown",
      "source": [
        "Số ngày mưa trung bình"
      ],
      "metadata": {
        "id": "Ru-jYhAJwwzb"
      }
    },
    {
      "cell_type": "code",
      "source": [
        "from pylab import plot, show\n",
        "rain_day = [2.4, 1.0, 1.9, 5.4, 17.8, 19.0, 22.9, 22.4, 23.1, 20.9, 12.1, 6.7]\n",
        "months = range(1,13)\n",
        "plot(months, rain_day, marker='o', color='b')\n",
        "show()"
      ],
      "metadata": {
        "colab": {
          "base_uri": "https://localhost:8080/",
          "height": 265
        },
        "id": "tS7P_Yztv9XF",
        "outputId": "f1d794ef-567d-461e-91c7-453347259fea"
      },
      "execution_count": null,
      "outputs": [
        {
          "output_type": "display_data",
          "data": {
            "image/png": "[encoded data removed]",
            "text/plain": [
              "<Figure size 432x288 with 1 Axes>"
            ]
          },
          "metadata": {
            "needs_background": "light"
          }
        }
      ]
    },
    {
      "cell_type": "markdown",
      "source": [
        "Số giờ nắng trung bình"
      ],
      "metadata": {
        "id": "nqfeFclhw39Z"
      }
    },
    {
      "cell_type": "code",
      "source": [
        "Average_hours_of_sunshine = [245, 246, 272, 239, 195, 171, 180, 172, 162, 182, 200, 226]\n",
        "months = range(1,13)\n",
        "plot(months, Average_hours_of_sunshine, marker='o', color='y')\n",
        "show()"
      ],
      "metadata": {
        "colab": {
          "base_uri": "https://localhost:8080/",
          "height": 265
        },
        "id": "3HP5to5tw6LD",
        "outputId": "2179bba4-faea-434b-9234-49e18ec4b5a2"
      },
      "execution_count": null,
      "outputs": [
        {
          "output_type": "display_data",
          "data": {
            "image/png": "[encoded data removed]",
            "text/plain": [
              "<Figure size 432x288 with 1 Axes>"
            ]
          },
          "metadata": {
            "needs_background": "light"
          }
        }
      ]
    },
    {
      "cell_type": "markdown",
      "source": [
        "**Bài tập 2**"
      ],
      "metadata": {
        "id": "kg5ZIXIMnfsh"
      }
    },
    {
      "cell_type": "code",
      "source": [
        "from sympy import Symbol, Derivative\n",
        "x = Symbol('x')\n",
        "st =3*x**2- 10*x + 7\n",
        "Derivative(st,x).doit()"
      ],
      "metadata": {
        "colab": {
          "base_uri": "https://localhost:8080/",
          "height": 38
        },
        "id": "9k7wl2dAnhr7",
        "outputId": "ac57ba22-1799-4512-b5fd-38f98381f68e"
      },
      "execution_count": 2,
      "outputs": [
        {
          "output_type": "execute_result",
          "data": {
            "text/plain": [
              "6*x - 10"
            ],
            "text/latex": "$\\displaystyle 6 x - 10$"
          },
          "metadata": {},
          "execution_count": 2
        }
      ]
    },
    {
      "cell_type": "code",
      "source": [
        "from sympy import Symbol, Derivative\n",
        "x = Symbol('x')\n",
        "st =2*x**4 + 2*x**2 + x + 28\n",
        "Derivative(st,x).doit()"
      ],
      "metadata": {
        "colab": {
          "base_uri": "https://localhost:8080/",
          "height": 38
        },
        "id": "k8x7DvhOnuqz",
        "outputId": "71f6c88b-14cf-47b4-e8e6-12741e2dc99a"
      },
      "execution_count": 3,
      "outputs": [
        {
          "output_type": "execute_result",
          "data": {
            "text/plain": [
              "8*x**3 + 4*x + 1"
            ],
            "text/latex": "$\\displaystyle 8 x^{3} + 4 x + 1$"
          },
          "metadata": {},
          "execution_count": 3
        }
      ]
    },
    {
      "cell_type": "code",
      "source": [
        "from sympy import Symbol, Derivative\n",
        "x = Symbol('x')\n",
        "st =(x- 6)*(8- 4*x)\n",
        "Derivative(st,x).doit()"
      ],
      "metadata": {
        "colab": {
          "base_uri": "https://localhost:8080/",
          "height": 38
        },
        "id": "a9Izbew0pAS_",
        "outputId": "d5e8232c-0a6b-4421-bfa8-bcfbeec1a809"
      },
      "execution_count": 5,
      "outputs": [
        {
          "output_type": "execute_result",
          "data": {
            "text/plain": [
              "32 - 8*x"
            ],
            "text/latex": "$\\displaystyle 32 - 8 x$"
          },
          "metadata": {},
          "execution_count": 5
        }
      ]
    },
    {
      "cell_type": "code",
      "source": [
        "from sympy import Symbol, Derivative\n",
        "x = Symbol('x')\n",
        "st =(x-6)/(2*x+3)\n",
        "Derivative(st,x).doit()"
      ],
      "metadata": {
        "colab": {
          "base_uri": "https://localhost:8080/",
          "height": 61
        },
        "id": "31UHfHPUpAOB",
        "outputId": "1decfccc-7f21-49e0-f249-1d4d16bd7b20"
      },
      "execution_count": 6,
      "outputs": [
        {
          "output_type": "execute_result",
          "data": {
            "text/plain": [
              "-2*(x - 6)/(2*x + 3)**2 + 1/(2*x + 3)"
            ],
            "text/latex": "$\\displaystyle - \\frac{2 \\left(x - 6\\right)}{\\left(2 x + 3\\right)^{2}} + \\frac{1}{2 x + 3}$"
          },
          "metadata": {},
          "execution_count": 6
        }
      ]
    },
    {
      "cell_type": "code",
      "source": [
        "from sympy import Symbol, Derivative\n",
        "x = Symbol('x')\n",
        "st =x**3/3+2*x**2- 1/x\n",
        "Derivative(st,x).doit()"
      ],
      "metadata": {
        "colab": {
          "base_uri": "https://localhost:8080/",
          "height": 52
        },
        "id": "mwWV2CANpALQ",
        "outputId": "e820d9f3-0210-40ce-9116-3037f1be02ce"
      },
      "execution_count": 7,
      "outputs": [
        {
          "output_type": "execute_result",
          "data": {
            "text/plain": [
              "x**2 + 4*x + x**(-2)"
            ],
            "text/latex": "$\\displaystyle x^{2} + 4 x + \\frac{1}{x^{2}}$"
          },
          "metadata": {},
          "execution_count": 7
        }
      ]
    },
    {
      "cell_type": "code",
      "source": [
        "from sympy import Symbol, Derivative\n",
        "x = Symbol('x')\n",
        "st =sympy.ln(2*x**2-x)\n",
        "Derivative(st,x).doit()"
      ],
      "metadata": {
        "colab": {
          "base_uri": "https://localhost:8080/",
          "height": 52
        },
        "id": "ntX_IBkWpAFM",
        "outputId": "65f16bb1-c236-4b25-96d7-b931ee484d03"
      },
      "execution_count": 10,
      "outputs": [
        {
          "output_type": "execute_result",
          "data": {
            "text/plain": [
              "(4*x - 1)/(2*x**2 - x)"
            ],
            "text/latex": "$\\displaystyle \\frac{4 x - 1}{2 x^{2} - x}$"
          },
          "metadata": {},
          "execution_count": 10
        }
      ]
    },
    {
      "cell_type": "code",
      "source": [
        "from sympy import Symbol, Derivative\n",
        "import sympy\n",
        "x = Symbol('x')\n",
        "f = sympy.sin(x)*sympy.cos(x)\n",
        "Derivative(f,x).doit()"
      ],
      "metadata": {
        "colab": {
          "base_uri": "https://localhost:8080/",
          "height": 38
        },
        "id": "Te43Xjzwpm2d",
        "outputId": "3d55401e-4648-46cf-d300-e76369469463"
      },
      "execution_count": 8,
      "outputs": [
        {
          "output_type": "execute_result",
          "data": {
            "text/plain": [
              "-sin(x)**2 + cos(x)**2"
            ],
            "text/latex": "$\\displaystyle - \\sin^{2}{\\left(x \\right)} + \\cos^{2}{\\left(x \\right)}$"
          },
          "metadata": {},
          "execution_count": 8
        }
      ]
    },
    {
      "cell_type": "code",
      "source": [
        "from sympy import Symbol, Derivative\n",
        "x = Symbol('x')\n",
        "st =1/(x**2-x+1)\n",
        "Derivative(st,x).doit()"
      ],
      "metadata": {
        "colab": {
          "base_uri": "https://localhost:8080/",
          "height": 59
        },
        "id": "sv8wdNLppmnR",
        "outputId": "51678fb8-2ef7-4662-d3ce-a642cc6641ea"
      },
      "execution_count": 11,
      "outputs": [
        {
          "output_type": "execute_result",
          "data": {
            "text/plain": [
              "(1 - 2*x)/(x**2 - x + 1)**2"
            ],
            "text/latex": "$\\displaystyle \\frac{1 - 2 x}{\\left(x^{2} - x + 1\\right)^{2}}$"
          },
          "metadata": {},
          "execution_count": 11
        }
      ]
    },
    {
      "cell_type": "code",
      "source": [
        "from sympy import Symbol, Derivative\n",
        "x = Symbol('x')\n",
        "st =(x**2+1)**3\n",
        "Derivative(st,x).doit()"
      ],
      "metadata": {
        "colab": {
          "base_uri": "https://localhost:8080/",
          "height": 42
        },
        "id": "YPExyr3rpmiL",
        "outputId": "9b589b0c-79a8-4840-95ba-d46475011f61"
      },
      "execution_count": 12,
      "outputs": [
        {
          "output_type": "execute_result",
          "data": {
            "text/plain": [
              "6*x*(x**2 + 1)**2"
            ],
            "text/latex": "$\\displaystyle 6 x \\left(x^{2} + 1\\right)^{2}$"
          },
          "metadata": {},
          "execution_count": 12
        }
      ]
    },
    {
      "cell_type": "code",
      "source": [
        "from sympy import Symbol, Derivative\n",
        "x = Symbol('x')\n",
        "st =(2*x+5)**5\n",
        "Derivative(st,x).doit()"
      ],
      "metadata": {
        "colab": {
          "base_uri": "https://localhost:8080/",
          "height": 39
        },
        "id": "uOWpigOfo_1V",
        "outputId": "c24c46cf-896b-47df-e0fb-bd95e749cdc7"
      },
      "execution_count": 13,
      "outputs": [
        {
          "output_type": "execute_result",
          "data": {
            "text/plain": [
              "10*(2*x + 5)**4"
            ],
            "text/latex": "$\\displaystyle 10 \\left(2 x + 5\\right)^{4}$"
          },
          "metadata": {},
          "execution_count": 13
        }
      ]
    },
    {
      "cell_type": "markdown",
      "source": [
        "#Chương 3"
      ],
      "metadata": {
        "id": "wKQIjsFyxBhI"
      }
    },
    {
      "cell_type": "markdown",
      "source": [
        "**Bài tập 1**"
      ],
      "metadata": {
        "id": "K7qFO0ostrOf"
      }
    },
    {
      "cell_type": "code",
      "source": [
        "from matplotlib import pyplot as plt\n",
        "import math\n",
        "\n",
        "def draw_graph(x,y):\n",
        "  plt.plot(x,y)\n",
        "  plt.xlabel('Trục x')\n",
        "  plt.ylabel('Trục y')\n",
        "  plt.title('Đồ thị ném vật thể')"
      ],
      "metadata": {
        "id": "c5itUej6xI9X"
      },
      "execution_count": 15,
      "outputs": []
    },
    {
      "cell_type": "markdown",
      "source": [
        "#Chương 4"
      ],
      "metadata": {
        "id": "0byZDiUQv8Bz"
      }
    },
    {
      "cell_type": "markdown",
      "source": [
        "**Bài tập 1**"
      ],
      "metadata": {
        "id": "Iq1N9RBJv_gt"
      }
    },
    {
      "cell_type": "markdown",
      "source": [
        ""
      ],
      "metadata": {
        "id": "3jlyjBeAwC4r"
      }
    },
    {
      "cell_type": "code",
      "source": [
        ""
      ],
      "metadata": {
        "id": "hR7EniGr0Yw9"
      },
      "execution_count": null,
      "outputs": []
    }
  ]
}