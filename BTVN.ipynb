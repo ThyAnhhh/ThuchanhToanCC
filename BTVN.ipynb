{
  "nbformat": 4,
  "nbformat_minor": 0,
  "metadata": {
    "colab": {
      "name": "BTVN.ipynb",
      "provenance": [],
      "authorship_tag": "ABX9TyPR4D0hpOFCFse8ksvgx+wG",
      "include_colab_link": true
    },
    "kernelspec": {
      "name": "python3",
      "display_name": "Python 3"
    },
    "language_info": {
      "name": "python"
    }
  },
  "cells": [
    {
      "cell_type": "markdown",
      "metadata": {
        "id": "view-in-github",
        "colab_type": "text"
      },
      "source": [
        "<a href=\"https://colab.research.google.com/github/ThyAnhhh/ThuchanhToanCC/blob/main/BTVN.ipynb\" target=\"_parent\"><img src=\"https://colab.research.google.com/assets/colab-badge.svg\" alt=\"Open In Colab\"/></a>"
      ]
    },
    {
      "cell_type": "markdown",
      "source": [
        "#Chương 2"
      ],
      "metadata": {
        "id": "3EpgLKDsv7hn"
      }
    },
    {
      "cell_type": "markdown",
      "source": [
        "**Bài tập 1**"
      ],
      "metadata": {
        "id": "cBteCg4Xwk_8"
      }
    },
    {
      "cell_type": "markdown",
      "source": [
        "Số ngày mưa trung bình"
      ],
      "metadata": {
        "id": "Ru-jYhAJwwzb"
      }
    },
    {
      "cell_type": "code",
      "source": [
        "from pylab import plot, show\n",
        "rain_day = [2.4, 1.0, 1.9, 5.4, 17.8, 19.0, 22.9, 22.4, 23.1, 20.9, 12.1, 6.7]\n",
        "months = range(1,13)\n",
        "plot(months, rain_day, marker='o', color='b')\n",
        "show()"
      ],
      "metadata": {
        "colab": {
          "base_uri": "https://localhost:8080/",
          "height": 265
        },
        "id": "tS7P_Yztv9XF",
        "outputId": "f1d794ef-567d-461e-91c7-453347259fea"
      },
      "execution_count": null,
      "outputs": [
        {
          "output_type": "display_data",
          "data": {
            "image/png": "[encoded data removed]",
            "text/plain": [
              "<Figure size 432x288 with 1 Axes>"
            ]
          },
          "metadata": {
            "needs_background": "light"
          }
        }
      ]
    },
    {
      "cell_type": "markdown",
      "source": [
        "Số giờ nắng trung bình"
      ],
      "metadata": {
        "id": "nqfeFclhw39Z"
      }
    },
    {
      "cell_type": "code",
      "source": [
        "Average_hours_of_sunshine = [245, 246, 272, 239, 195, 171, 180, 172, 162, 182, 200, 226]\n",
        "months = range(1,13)\n",
        "plot(months, Average_hours_of_sunshine, marker='o', color='y')\n",
        "show()"
      ],
      "metadata": {
        "colab": {
          "base_uri": "https://localhost:8080/",
          "height": 265
        },
        "id": "3HP5to5tw6LD",
        "outputId": "2179bba4-faea-434b-9234-49e18ec4b5a2"
      },
      "execution_count": null,
      "outputs": [
        {
          "output_type": "display_data",
          "data": {
            "image/png": "[encoded data removed]",
            "text/plain": [
              "<Figure size 432x288 with 1 Axes>"
            ]
          },
          "metadata": {
            "needs_background": "light"
          }
        }
      ]
    },
    {
      "cell_type": "markdown",
      "source": [
        "**Bài tập 2**"
      ],
      "metadata": {
        "id": "kg5ZIXIMnfsh"
      }
    },
    {
      "cell_type": "code",
      "source": [
        "from sympy import Symbol, Derivative\n",
        "x = Symbol('x')\n",
        "st =3*x**2- 10*x + 7\n",
        "Derivative(st,x).doit()"
      ],
      "metadata": {
        "colab": {
          "base_uri": "https://localhost:8080/",
          "height": 38
        },
        "id": "9k7wl2dAnhr7",
        "outputId": "ac57ba22-1799-4512-b5fd-38f98381f68e"
      },
      "execution_count": null,
      "outputs": [
        {
          "output_type": "execute_result",
          "data": {
            "text/plain": [
              "6*x - 10"
            ],
            "text/latex": "$\\displaystyle 6 x - 10$"
          },
          "metadata": {},
          "execution_count": 2
        }
      ]
    },
    {
      "cell_type": "code",
      "source": [
        "from sympy import Symbol, Derivative\n",
        "x = Symbol('x')\n",
        "st =2*x**4 + 2*x**2 + x + 28\n",
        "Derivative(st,x).doit()"
      ],
      "metadata": {
        "colab": {
          "base_uri": "https://localhost:8080/",
          "height": 38
        },
        "id": "k8x7DvhOnuqz",
        "outputId": "71f6c88b-14cf-47b4-e8e6-12741e2dc99a"
      },
      "execution_count": null,
      "outputs": [
        {
          "output_type": "execute_result",
          "data": {
            "text/plain": [
              "8*x**3 + 4*x + 1"
            ],
            "text/latex": "$\\displaystyle 8 x^{3} + 4 x + 1$"
          },
          "metadata": {},
          "execution_count": 3
        }
      ]
    },
    {
      "cell_type": "code",
      "source": [
        "from sympy import Symbol, Derivative\n",
        "x = Symbol('x')\n",
        "st =(x- 6)*(8- 4*x)\n",
        "Derivative(st,x).doit()"
      ],
      "metadata": {
        "colab": {
          "base_uri": "https://localhost:8080/",
          "height": 38
        },
        "id": "a9Izbew0pAS_",
        "outputId": "d5e8232c-0a6b-4421-bfa8-bcfbeec1a809"
      },
      "execution_count": null,
      "outputs": [
        {
          "output_type": "execute_result",
          "data": {
            "text/plain": [
              "32 - 8*x"
            ],
            "text/latex": "$\\displaystyle 32 - 8 x$"
          },
          "metadata": {},
          "execution_count": 5
        }
      ]
    },
    {
      "cell_type": "code",
      "source": [
        "from sympy import Symbol, Derivative\n",
        "x = Symbol('x')\n",
        "st =(x-6)/(2*x+3)\n",
        "Derivative(st,x).doit()"
      ],
      "metadata": {
        "colab": {
          "base_uri": "https://localhost:8080/",
          "height": 61
        },
        "id": "31UHfHPUpAOB",
        "outputId": "1decfccc-7f21-49e0-f249-1d4d16bd7b20"
      },
      "execution_count": null,
      "outputs": [
        {
          "output_type": "execute_result",
          "data": {
            "text/plain": [
              "-2*(x - 6)/(2*x + 3)**2 + 1/(2*x + 3)"
            ],
            "text/latex": "$\\displaystyle - \\frac{2 \\left(x - 6\\right)}{\\left(2 x + 3\\right)^{2}} + \\frac{1}{2 x + 3}$"
          },
          "metadata": {},
          "execution_count": 6
        }
      ]
    },
    {
      "cell_type": "code",
      "source": [
        "from sympy import Symbol, Derivative\n",
        "x = Symbol('x')\n",
        "st =x**3/3+2*x**2- 1/x\n",
        "Derivative(st,x).doit()"
      ],
      "metadata": {
        "colab": {
          "base_uri": "https://localhost:8080/",
          "height": 52
        },
        "id": "mwWV2CANpALQ",
        "outputId": "e820d9f3-0210-40ce-9116-3037f1be02ce"
      },
      "execution_count": null,
      "outputs": [
        {
          "output_type": "execute_result",
          "data": {
            "text/plain": [
              "x**2 + 4*x + x**(-2)"
            ],
            "text/latex": "$\\displaystyle x^{2} + 4 x + \\frac{1}{x^{2}}$"
          },
          "metadata": {},
          "execution_count": 7
        }
      ]
    },
    {
      "cell_type": "code",
      "source": [
        "from sympy import Symbol, Derivative\n",
        "x = Symbol('x')\n",
        "st =sympy.ln(2*x**2-x)\n",
        "Derivative(st,x).doit()"
      ],
      "metadata": {
        "colab": {
          "base_uri": "https://localhost:8080/",
          "height": 52
        },
        "id": "ntX_IBkWpAFM",
        "outputId": "65f16bb1-c236-4b25-96d7-b931ee484d03"
      },
      "execution_count": null,
      "outputs": [
        {
          "output_type": "execute_result",
          "data": {
            "text/plain": [
              "(4*x - 1)/(2*x**2 - x)"
            ],
            "text/latex": "$\\displaystyle \\frac{4 x - 1}{2 x^{2} - x}$"
          },
          "metadata": {},
          "execution_count": 10
        }
      ]
    },
    {
      "cell_type": "code",
      "source": [
        "from sympy import Symbol, Derivative\n",
        "import sympy\n",
        "x = Symbol('x')\n",
        "f = sympy.sin(x)*sympy.cos(x)\n",
        "Derivative(f,x).doit()"
      ],
      "metadata": {
        "colab": {
          "base_uri": "https://localhost:8080/",
          "height": 38
        },
        "id": "Te43Xjzwpm2d",
        "outputId": "3d55401e-4648-46cf-d300-e76369469463"
      },
      "execution_count": null,
      "outputs": [
        {
          "output_type": "execute_result",
          "data": {
            "text/plain": [
              "-sin(x)**2 + cos(x)**2"
            ],
            "text/latex": "$\\displaystyle - \\sin^{2}{\\left(x \\right)} + \\cos^{2}{\\left(x \\right)}$"
          },
          "metadata": {},
          "execution_count": 8
        }
      ]
    },
    {
      "cell_type": "code",
      "source": [
        "from sympy import Symbol, Derivative\n",
        "x = Symbol('x')\n",
        "st =1/(x**2-x+1)\n",
        "Derivative(st,x).doit()"
      ],
      "metadata": {
        "colab": {
          "base_uri": "https://localhost:8080/",
          "height": 59
        },
        "id": "sv8wdNLppmnR",
        "outputId": "51678fb8-2ef7-4662-d3ce-a642cc6641ea"
      },
      "execution_count": null,
      "outputs": [
        {
          "output_type": "execute_result",
          "data": {
            "text/plain": [
              "(1 - 2*x)/(x**2 - x + 1)**2"
            ],
            "text/latex": "$\\displaystyle \\frac{1 - 2 x}{\\left(x^{2} - x + 1\\right)^{2}}$"
          },
          "metadata": {},
          "execution_count": 11
        }
      ]
    },
    {
      "cell_type": "code",
      "source": [
        "from sympy import Symbol, Derivative\n",
        "x = Symbol('x')\n",
        "st =(x**2+1)**3\n",
        "Derivative(st,x).doit()"
      ],
      "metadata": {
        "colab": {
          "base_uri": "https://localhost:8080/",
          "height": 42
        },
        "id": "YPExyr3rpmiL",
        "outputId": "9b589b0c-79a8-4840-95ba-d46475011f61"
      },
      "execution_count": null,
      "outputs": [
        {
          "output_type": "execute_result",
          "data": {
            "text/plain": [
              "6*x*(x**2 + 1)**2"
            ],
            "text/latex": "$\\displaystyle 6 x \\left(x^{2} + 1\\right)^{2}$"
          },
          "metadata": {},
          "execution_count": 12
        }
      ]
    },
    {
      "cell_type": "code",
      "source": [
        "from sympy import Symbol, Derivative\n",
        "x = Symbol('x')\n",
        "st =(2*x+5)**5\n",
        "Derivative(st,x).doit()"
      ],
      "metadata": {
        "colab": {
          "base_uri": "https://localhost:8080/",
          "height": 39
        },
        "id": "uOWpigOfo_1V",
        "outputId": "c24c46cf-896b-47df-e0fb-bd95e749cdc7"
      },
      "execution_count": null,
      "outputs": [
        {
          "output_type": "execute_result",
          "data": {
            "text/plain": [
              "10*(2*x + 5)**4"
            ],
            "text/latex": "$\\displaystyle 10 \\left(2 x + 5\\right)^{4}$"
          },
          "metadata": {},
          "execution_count": 13
        }
      ]
    },
    {
      "cell_type": "markdown",
      "source": [
        "#Chương 3"
      ],
      "metadata": {
        "id": "wKQIjsFyxBhI"
      }
    },
    {
      "cell_type": "markdown",
      "source": [
        "**Bài tập 1**"
      ],
      "metadata": {
        "id": "K7qFO0ostrOf"
      }
    },
    {
      "cell_type": "code",
      "source": [
        "from matplotlib import pyplot as plt\n",
        "import math\n",
        "\n",
        "def draw_graph(x,y):\n",
        "  plt.plot(x,y)\n",
        "  plt.xlabel('Trục x')\n",
        "  plt.ylabel('Trục y')\n",
        "  plt.title('Đồ thị ném vật thể')\n",
        "\n",
        "def frange(batdau, ketthuc, buocnhay):\n",
        "  numbers = []\n",
        "  while batdau < ketthuc:\n",
        "    numbers.append(batdau)\n",
        "    batdau += buocnhay\n",
        "  return numbers"
      ],
      "metadata": {
        "id": "c5itUej6xI9X"
      },
      "execution_count": 1,
      "outputs": []
    },
    {
      "cell_type": "code",
      "source": [
        "def draw_trajectory(u, theta):\n",
        "  g = 9.8\n",
        "  theta = math.radians(theta)\n",
        "  t_flight = 2*u*math.sin(theta)/g\n",
        "  intervals = frange(0, t_flight, 0.001)\n",
        "  x = []\n",
        "  y = []\n",
        "  for t in intervals:\n",
        "    x.append(u*math.cos(theta)*t)\n",
        "    y.append(u*math.sin(theta)*t - 0.5*g*t*t)\n",
        "  draw_graph(x, y)"
      ],
      "metadata": {
        "id": "Ckm0Wkr5kBnr"
      },
      "execution_count": 2,
      "outputs": []
    },
    {
      "cell_type": "code",
      "source": [
        "try:\n",
        "  u = float(input('Nhập vận tốc ban đầu (m/s): '))\n",
        "  theta = float(input('Nhập góc ban đầu: '))\n",
        "except ValueError:\n",
        "  print ('Nhập các giá trị sai:')\n",
        "else:\n",
        "  draw_trajectory(u, theta)\n",
        "  plt.show()\n",
        "finally:\n",
        "  print ('Hoàn thành chương trình')"
      ],
      "metadata": {
        "colab": {
          "base_uri": "https://localhost:8080/",
          "height": 344
        },
        "id": "AMfO98WTkVnO",
        "outputId": "e2a26dc6-5f97-4a09-f956-efae1a773d87"
      },
      "execution_count": 4,
      "outputs": [
        {
          "name": "stdout",
          "output_type": "stream",
          "text": [
            "Nhập vận tốc ban đầu (m/s): 45\n",
            "Nhập góc ban đầu: 60\n"
          ]
        },
        {
          "output_type": "display_data",
          "data": {
            "text/plain": [
              "<Figure size 432x288 with 1 Axes>"
            ],
            "image/png": "[encoded data removed]"
          },
          "metadata": {
            "needs_background": "light"
          }
        },
        {
          "output_type": "stream",
          "name": "stdout",
          "text": [
            "Hoàn thành chương trình\n"
          ]
        }
      ]
    },
    {
      "cell_type": "markdown",
      "source": [
        "**Bài tập 2**"
      ],
      "metadata": {
        "id": "ZsNLksZ2lAYf"
      }
    },
    {
      "cell_type": "code",
      "source": [
        ""
      ],
      "metadata": {
        "id": "8el00WYmlFQB"
      },
      "execution_count": null,
      "outputs": []
    },
    {
      "cell_type": "markdown",
      "source": [
        "#Chương 4"
      ],
      "metadata": {
        "id": "0byZDiUQv8Bz"
      }
    },
    {
      "cell_type": "markdown",
      "source": [
        "**Bài tập 1**"
      ],
      "metadata": {
        "id": "b6a3cadNqdXo"
      }
    },
    {
      "cell_type": "markdown",
      "source": [
        "Thực hiện một biểu thức toán học f(x), giới hạn của tích phân x1, x2. \n",
        "\n",
        "Sử dụng sympy.integrate(y, x) để kiểm tra xem nó có giải pháp phân tích/tượng trưng hay không, nếu có thì trả về kết quả bằng cách sử dụng sympy.integrate(y, (x,x1,x2).evalf()). Nếu nó không có giải pháp phân tích sympy thì nó sử dụng scipy.integrate.quad hoặc các hàm số khác để tính tích phân. \n",
        "\n",
        "Với phương pháp này, nó có thể sẽ nhanh hơn và chính xác hơn vì phần lớn các biểu thức toán học đang làm đều có tích phân giải tích."
      ],
      "metadata": {
        "id": "hocpEUvorifx"
      }
    },
    {
      "cell_type": "markdown",
      "source": [
        "**Bài tập 2**"
      ],
      "metadata": {
        "id": "Iq1N9RBJv_gt"
      }
    },
    {
      "cell_type": "markdown",
      "source": [
        "Trong logic toán học và khoa học máy tính, phép tính lambda (tiếng Anh:lambda calculus) hay còn được viết là λ-calculus, là một hệ thống hình thức dùng trong việc định nghĩa hàm số, ứng dụng hàm số và đệ quy. Phép tính lambda được Alonzo Church đề xuất vào những năm 193x như là một phần của một nghiên cứu về các nền tảng toán học. Hệ thống nguyên thủy đã được chứng minh là xung khắc logic vào năm 1935 khi Stephen Kleene và J. B. Rosser phát triển nghịch lý Kleene–Rosser. Phép tính lambda sau đó đã được phát triển để trở thành một công cụ quan trọng trong việc nghiên cứu các vấn đề lý thuyết tính toán và lý thuyết đệ quy, và hình thành nên nền tảng cơ bản của mô hình lập trình hàm.\n",
        "\n",
        "Trong phép tính lambda, các hàm là thực thể lớp nhất được truyền vào như các tham số, và trả lại kết quả. Bởi vậy các biểu thức lambda là một dạng của khái niệm thủ tục không có tên mà không tạo ra hiệu ứng phụ. Giải tích hàm có thể được hiểu như là một ngôn ngữ lập trình lý tưởng và vô cùng nhỏ gọn. Nó có khả năng biểu diễn bất kỳ giải thuật nào, và nó tạo ra mô hình lập trình hàm. Các chương trình được tạo thành từ các hàm không có trạng thái và chỉ đơn giản nhận vào dữ liệu và trả lại đầu ra, không tạo ra các hiệu ứng phụ làm thay đổi dữ liệu đầu ra. Các ngôn ngữ lập trình hàm hiện đại, xây dựng dựa trên phép tính lambda gồm có Erlang, Haskell, Lisp, ML, và Scheme, Python, cũng như là các ngôn ngữ gần đây như Clojure, F#, Nemerle, và Scala.\n",
        "\n",
        "Phép tính lambda tiếp tục đóng vai trò quan trọng trong các nghiên cứu cơ bản về toán học, thể hiện trong các thư từ trao đổi của Curry-Howard. Tuy nhiên, phép tính lambda bất định kiểu không tránh khỏi các nghịch lý về lý thuyết tập hợp (xem Nghịch lý Kleene-Rosser)."
      ],
      "metadata": {
        "id": "3jlyjBeAwC4r"
      }
    },
    {
      "cell_type": "markdown",
      "source": [
        "#Chương 5"
      ],
      "metadata": {
        "id": "p2kC2dp4tbXw"
      }
    },
    {
      "cell_type": "markdown",
      "source": [
        "Thực hành 10"
      ],
      "metadata": {
        "id": "gcpPDHf2teqg"
      }
    },
    {
      "cell_type": "code",
      "source": [
        "from sympy import Symbol, Derivative, solve\n",
        "x = Symbol('x')\n",
        "a = Symbol('a')\n",
        "A = -2*x**3 + 2*a*x\n",
        "d1 = Derivative(A,x).doit()\n",
        "d1"
      ],
      "metadata": {
        "colab": {
          "base_uri": "https://localhost:8080/",
          "height": 36
        },
        "id": "rF5uI7-1vEbJ",
        "outputId": "cfd6891c-8a72-44dd-849d-9749b20b73ad"
      },
      "execution_count": 5,
      "outputs": [
        {
          "output_type": "execute_result",
          "data": {
            "text/plain": [
              "2*a - 6*x**2"
            ],
            "text/latex": "$\\displaystyle 2 a - 6 x^{2}$"
          },
          "metadata": {},
          "execution_count": 5
        }
      ]
    },
    {
      "cell_type": "code",
      "source": [
        "cuctri = solve(d1,x)\n",
        "cuctri"
      ],
      "metadata": {
        "colab": {
          "base_uri": "https://localhost:8080/"
        },
        "id": "eIvo2Eq9wH2r",
        "outputId": "5f0cd1b5-8bee-4ecf-f361-4af452170f13"
      },
      "execution_count": 6,
      "outputs": [
        {
          "output_type": "execute_result",
          "data": {
            "text/plain": [
              "[-sqrt(3)*sqrt(a)/3, sqrt(3)*sqrt(a)/3]"
            ]
          },
          "metadata": {},
          "execution_count": 6
        }
      ]
    },
    {
      "cell_type": "code",
      "source": [
        "B = cuctri\n",
        "d2 = Derivative(d1, x).doit()\n",
        "d2.subs({x:B}).evalf()"
      ],
      "metadata": {
        "colab": {
          "base_uri": "https://localhost:8080/",
          "height": 36
        },
        "id": "opTF6AfVwMY1",
        "outputId": "691b6dfd-3666-4e2c-8fec-1bef36bc67f5"
      },
      "execution_count": 7,
      "outputs": [
        {
          "output_type": "execute_result",
          "data": {
            "text/plain": [
              "-12.0*x"
            ],
            "text/latex": "$\\displaystyle - 12.0 x$"
          },
          "metadata": {},
          "execution_count": 7
        }
      ]
    },
    {
      "cell_type": "code",
      "source": [
        "x_min = 0\n",
        "A.subs({x:x_min}).evalf()"
      ],
      "metadata": {
        "colab": {
          "base_uri": "https://localhost:8080/",
          "height": 35
        },
        "id": "aswEvMnXwOv_",
        "outputId": "2c48aa61-fb6f-47f3-c49a-1afe9677d727"
      },
      "execution_count": 9,
      "outputs": [
        {
          "output_type": "execute_result",
          "data": {
            "text/plain": [
              "0"
            ],
            "text/latex": "$\\displaystyle 0$"
          },
          "metadata": {},
          "execution_count": 9
        }
      ]
    },
    {
      "cell_type": "markdown",
      "source": [
        "Thực hành 11"
      ],
      "metadata": {
        "id": "5vhbYlMExPxH"
      }
    },
    {
      "cell_type": "code",
      "source": [
        "from sympy import Derivative, solve, Symbol\n",
        "x = Symbol('x')\n",
        "n = 5000 + 1000 * ( (1500 - x) /  100)\n",
        "P = n*x - 2000000 - 500*n\n",
        "Q = P.subs({n:x}).evalf()\n",
        "Q"
      ],
      "metadata": {
        "colab": {
          "base_uri": "https://localhost:8080/",
          "height": 37
        },
        "id": "e0s0CM4axRTm",
        "outputId": "35426bf7-1abb-45ee-e4aa-129389df2b84"
      },
      "execution_count": 10,
      "outputs": [
        {
          "output_type": "execute_result",
          "data": {
            "text/plain": [
              "x**2 + 5000.0*x - 12000000.0"
            ],
            "text/latex": "$\\displaystyle x^{2} + 5000.0 x - 12000000.0$"
          },
          "metadata": {},
          "execution_count": 10
        }
      ]
    },
    {
      "cell_type": "code",
      "source": [
        "d1 = Derivative(Q, x).doit()\n",
        "d1"
      ],
      "metadata": {
        "colab": {
          "base_uri": "https://localhost:8080/",
          "height": 36
        },
        "id": "78CEHLxMySa3",
        "outputId": "f8911af5-55e9-48f6-ebb8-67e23bb6edc4"
      },
      "execution_count": 11,
      "outputs": [
        {
          "output_type": "execute_result",
          "data": {
            "text/plain": [
              "2*x + 5000.0"
            ],
            "text/latex": "$\\displaystyle 2 x + 5000.0$"
          },
          "metadata": {},
          "execution_count": 11
        }
      ]
    },
    {
      "cell_type": "code",
      "source": [
        "cuctri = solve(d1)\n",
        "cuctri"
      ],
      "metadata": {
        "colab": {
          "base_uri": "https://localhost:8080/"
        },
        "id": "8nkE59yTyZtl",
        "outputId": "885756ed-3341-4010-de29-f75e5ce48566"
      },
      "execution_count": 12,
      "outputs": [
        {
          "output_type": "execute_result",
          "data": {
            "text/plain": [
              "[-2500.00000000000]"
            ]
          },
          "metadata": {},
          "execution_count": 12
        }
      ]
    },
    {
      "cell_type": "code",
      "source": [
        "cuctri[0]"
      ],
      "metadata": {
        "colab": {
          "base_uri": "https://localhost:8080/",
          "height": 35
        },
        "id": "kkGHN6VxyfoX",
        "outputId": "bfc22267-2446-48a7-db4f-ceb5e6df885c"
      },
      "execution_count": 13,
      "outputs": [
        {
          "output_type": "execute_result",
          "data": {
            "text/plain": [
              "-2500.00000000000"
            ],
            "text/latex": "$\\displaystyle -2500.0$"
          },
          "metadata": {},
          "execution_count": 13
        }
      ]
    },
    {
      "cell_type": "code",
      "source": [
        "f = -10*x**2 + 25000*x - 12000000\n",
        "d3 = Derivative(f,x).doit()\n",
        "d3"
      ],
      "metadata": {
        "colab": {
          "base_uri": "https://localhost:8080/",
          "height": 36
        },
        "id": "M8Lb4-VTyh2a",
        "outputId": "6f220ca2-d95b-4c3f-deaa-5eb43010b86d"
      },
      "execution_count": 14,
      "outputs": [
        {
          "output_type": "execute_result",
          "data": {
            "text/plain": [
              "25000 - 20*x"
            ],
            "text/latex": "$\\displaystyle 25000 - 20 x$"
          },
          "metadata": {},
          "execution_count": 14
        }
      ]
    },
    {
      "cell_type": "code",
      "source": [
        "A = solve(d3)\n",
        "A"
      ],
      "metadata": {
        "colab": {
          "base_uri": "https://localhost:8080/"
        },
        "id": "DfCT0hX2ykUo",
        "outputId": "ab14efb4-b33d-4383-c685-3de4ebd28316"
      },
      "execution_count": 15,
      "outputs": [
        {
          "output_type": "execute_result",
          "data": {
            "text/plain": [
              "[1250]"
            ]
          },
          "metadata": {},
          "execution_count": 15
        }
      ]
    },
    {
      "cell_type": "code",
      "source": [
        "d4 = Derivative(d3,x).doit()\n",
        "d4"
      ],
      "metadata": {
        "colab": {
          "base_uri": "https://localhost:8080/",
          "height": 35
        },
        "id": "rr5NnS5Aymak",
        "outputId": "d4471d2d-011f-4fac-e837-7da55e75ddfe"
      },
      "execution_count": 16,
      "outputs": [
        {
          "output_type": "execute_result",
          "data": {
            "text/plain": [
              "-20"
            ],
            "text/latex": "$\\displaystyle -20$"
          },
          "metadata": {},
          "execution_count": 16
        }
      ]
    },
    {
      "cell_type": "code",
      "source": [
        "f.subs({x:0}).evalf()"
      ],
      "metadata": {
        "colab": {
          "base_uri": "https://localhost:8080/",
          "height": 35
        },
        "id": "CCvHw_UUzKrJ",
        "outputId": "93f54037-701d-4820-de94-b243cad13c4d"
      },
      "execution_count": 17,
      "outputs": [
        {
          "output_type": "execute_result",
          "data": {
            "text/plain": [
              "-12000000.0000000"
            ],
            "text/latex": "$\\displaystyle -12000000.0$"
          },
          "metadata": {},
          "execution_count": 17
        }
      ]
    },
    {
      "cell_type": "code",
      "source": [
        "f.subs({x:1250}).evalf()"
      ],
      "metadata": {
        "colab": {
          "base_uri": "https://localhost:8080/",
          "height": 35
        },
        "id": "g85QPAn5zNrl",
        "outputId": "2fa5572e-a175-4944-e1ca-3ce10f4414ac"
      },
      "execution_count": 18,
      "outputs": [
        {
          "output_type": "execute_result",
          "data": {
            "text/plain": [
              "3625000.00000000"
            ],
            "text/latex": "$\\displaystyle 3625000.0$"
          },
          "metadata": {},
          "execution_count": 18
        }
      ]
    },
    {
      "cell_type": "code",
      "source": [
        "f.subs({x:1500}).evalf()"
      ],
      "metadata": {
        "colab": {
          "base_uri": "https://localhost:8080/",
          "height": 35
        },
        "id": "JQUq9Q82zQLs",
        "outputId": "4ad59486-e240-411c-fd6f-7a17a7d3c030"
      },
      "execution_count": 19,
      "outputs": [
        {
          "output_type": "execute_result",
          "data": {
            "text/plain": [
              "3000000.00000000"
            ],
            "text/latex": "$\\displaystyle 3000000.0$"
          },
          "metadata": {},
          "execution_count": 19
        }
      ]
    },
    {
      "cell_type": "markdown",
      "source": [
        "Thực hành 13"
      ],
      "metadata": {
        "id": "SivNLMptyog6"
      }
    },
    {
      "cell_type": "code",
      "source": [
        "from sympy import Symbol, Integral, exp\n",
        "t = Symbol(\"t\")\n",
        "F = 62 + 8*t\n",
        "m = 70\n",
        "a = m*exp(-0.017*t)\n",
        "b = F*exp(-0.017*t)\n",
        "pf = Integral(a,(t,0,1)).doit() + Integral(b,(t, 1, 8)).doit()\n",
        "pf"
      ],
      "metadata": {
        "colab": {
          "base_uri": "https://localhost:8080/",
          "height": 35
        },
        "id": "fG0daqf7zVlj",
        "outputId": "d348d3bd-9b73-419b-8d49-2e9cfbd6e250"
      },
      "execution_count": 21,
      "outputs": [
        {
          "output_type": "execute_result",
          "data": {
            "text/plain": [
              "701.659163940087"
            ],
            "text/latex": "$\\displaystyle 701.659163940087$"
          },
          "metadata": {},
          "execution_count": 21
        }
      ]
    }
  ]
}