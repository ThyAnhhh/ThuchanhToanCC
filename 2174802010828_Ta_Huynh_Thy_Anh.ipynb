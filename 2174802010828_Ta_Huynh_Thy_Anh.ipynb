{
  "nbformat": 4,
  "nbformat_minor": 0,
  "metadata": {
    "colab": {
      "name": "2174802010828.Ta Huynh Thy Anh.ipynb",
      "provenance": [],
      "authorship_tag": "ABX9TyMF5l787NnZHHr/YHnV7ibu",
      "include_colab_link": true
    },
    "kernelspec": {
      "name": "python3",
      "display_name": "Python 3"
    },
    "language_info": {
      "name": "python"
    }
  },
  "cells": [
    {
      "cell_type": "markdown",
      "metadata": {
        "id": "view-in-github",
        "colab_type": "text"
      },
      "source": [
        "<a href=\"https://colab.research.google.com/github/ThyAnhhh/ThuchanhToanCC/blob/main/2174802010828_Ta_Huynh_Thy_Anh.ipynb\" target=\"_parent\"><img src=\"https://colab.research.google.com/assets/colab-badge.svg\" alt=\"Open In Colab\"/></a>"
      ]
    },
    {
      "cell_type": "markdown",
      "source": [
        "Câu 2.3 đạo hàm"
      ],
      "metadata": {
        "id": "vHdZ39Nso21x"
      }
    },
    {
      "cell_type": "code",
      "execution_count": 1,
      "metadata": {
        "colab": {
          "base_uri": "https://localhost:8080/",
          "height": 62
        },
        "id": "rorcJ0MNoquX",
        "outputId": "21413b5d-0373-41e9-f5ac-0dbcdef0914f"
      },
      "outputs": [
        {
          "output_type": "execute_result",
          "data": {
            "text/plain": [
              "(2*x + 3)/(x + 1) - (x**2 + 3*x - 1)/(x + 1)**2"
            ],
            "text/latex": "$\\displaystyle \\frac{2 x + 3}{x + 1} - \\frac{x^{2} + 3 x - 1}{\\left(x + 1\\right)^{2}}$"
          },
          "metadata": {},
          "execution_count": 1
        }
      ],
      "source": [
        "from sympy import Derivative, Symbol\n",
        "x = Symbol('x')\n",
        "f = (x**2+3*x-1)/(x+1)\n",
        "Derivative(f,x).doit()"
      ]
    },
    {
      "cell_type": "markdown",
      "source": [
        "Câu 2.4"
      ],
      "metadata": {
        "id": "b6g4DT5TpfFt"
      }
    },
    {
      "cell_type": "code",
      "source": [
        "from sympy import Derivative, Symbol\n",
        "x = Symbol('x')\n",
        "f = (x**2 + 3*x +3) / (x+1)\n",
        "Derivative(f,x).doit()"
      ],
      "metadata": {
        "colab": {
          "base_uri": "https://localhost:8080/",
          "height": 62
        },
        "id": "76FO6OnXpudh",
        "outputId": "325f53a9-ea42-4541-b37e-0ce12cd83b33"
      },
      "execution_count": 2,
      "outputs": [
        {
          "output_type": "execute_result",
          "data": {
            "text/plain": [
              "(2*x + 3)/(x + 1) - (x**2 + 3*x + 3)/(x + 1)**2"
            ],
            "text/latex": "$\\displaystyle \\frac{2 x + 3}{x + 1} - \\frac{x^{2} + 3 x + 3}{\\left(x + 1\\right)^{2}}$"
          },
          "metadata": {},
          "execution_count": 2
        }
      ]
    },
    {
      "cell_type": "markdown",
      "source": [
        "Câu 3.7"
      ],
      "metadata": {
        "id": "itmlNLrbp9Ia"
      }
    },
    {
      "cell_type": "code",
      "source": [
        "from sympy import Symbol, Limit, sqrt"
      ],
      "metadata": {
        "id": "Aoma7vK_p_7J"
      },
      "execution_count": 17,
      "outputs": []
    },
    {
      "cell_type": "code",
      "source": [
        "x = Symbol('x')\n",
        "f = sqrt(x*x-x+1)/(x-1)\n",
        "f\n",
        "Limit(f,x,2,dir='-').doit()"
      ],
      "metadata": {
        "colab": {
          "base_uri": "https://localhost:8080/",
          "height": 39
        },
        "id": "kxQQJB-BqV4s",
        "outputId": "df0cef7e-d84e-4386-a651-42f5c3b68870"
      },
      "execution_count": 20,
      "outputs": [
        {
          "output_type": "execute_result",
          "data": {
            "text/plain": [
              "sqrt(3)"
            ],
            "text/latex": "$\\displaystyle \\sqrt{3}$"
          },
          "metadata": {},
          "execution_count": 20
        }
      ]
    },
    {
      "cell_type": "markdown",
      "source": [
        "Câu 3.1"
      ],
      "metadata": {
        "id": "LeIXDarmrLtX"
      }
    },
    {
      "cell_type": "code",
      "source": [
        "from sympy import Symbol, Limit, sqrt\n",
        "x = Symbol('x')\n",
        "f = sqrt(x*x-x+1)/(x-1)\n",
        "f\n",
        "Limit(f,x,2).doit()"
      ],
      "metadata": {
        "colab": {
          "base_uri": "https://localhost:8080/",
          "height": 39
        },
        "id": "_lUxKE3MrVGH",
        "outputId": "58282dc6-d0a0-43cd-d7af-a7d7a02a8a95"
      },
      "execution_count": 21,
      "outputs": [
        {
          "output_type": "execute_result",
          "data": {
            "text/plain": [
              "sqrt(3)"
            ],
            "text/latex": "$\\displaystyle \\sqrt{3}$"
          },
          "metadata": {},
          "execution_count": 21
        }
      ]
    }
  ]
}