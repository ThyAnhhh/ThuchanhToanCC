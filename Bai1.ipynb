{
  "nbformat": 4,
  "nbformat_minor": 0,
  "metadata": {
    "colab": {
      "name": "Bai1.ipynb",
      "provenance": [],
      "authorship_tag": "ABX9TyMiI9uhVAu5zYhHSc6+zRj4",
      "include_colab_link": true
    },
    "kernelspec": {
      "name": "python3",
      "display_name": "Python 3"
    },
    "language_info": {
      "name": "python"
    }
  },
  "cells": [
    {
      "cell_type": "markdown",
      "metadata": {
        "id": "view-in-github",
        "colab_type": "text"
      },
      "source": [
        "<a href=\"https://colab.research.google.com/github/ThyAnhhh/ThuchanhToanCC/blob/main/Bai1.ipynb\" target=\"_parent\"><img src=\"https://colab.research.google.com/assets/colab-badge.svg\" alt=\"Open In Colab\"/></a>"
      ]
    },
    {
      "cell_type": "code",
      "execution_count": 1,
      "metadata": {
        "id": "1OtrBR0O4mPq"
      },
      "outputs": [],
      "source": [
        ""
      ]
    },
    {
      "cell_type": "markdown",
      "source": [
        "Bài 1"
      ],
      "metadata": {
        "id": "I6ceU9e34pzy"
      }
    },
    {
      "cell_type": "code",
      "source": [
        "print('hello')"
      ],
      "metadata": {
        "id": "xNCjj9lX4s3M"
      },
      "execution_count": null,
      "outputs": []
    },
    {
      "cell_type": "code",
      "source": [
        "n = 10000000\n",
        "X = [(2-0)*k/n for k in range(0, n+1)]"
      ],
      "metadata": {
        "id": "X6KIpHQxHbq-"
      },
      "execution_count": 4,
      "outputs": []
    },
    {
      "cell_type": "code",
      "source": [
        "S = 0\n",
        "for k in range(1, n + 1):\n",
        "  S = S + X[k]**2 * (X[k] - X[k-1])\n",
        "print (S)"
      ],
      "metadata": {
        "id": "-ORicEneHi2p",
        "outputId": "ffc48184-bfbf-49f5-a7ca-9ca28fbaf0d4",
        "colab": {
          "base_uri": "https://localhost:8080/"
        }
      },
      "execution_count": 5,
      "outputs": [
        {
          "output_type": "stream",
          "name": "stdout",
          "text": [
            "2.666667066666659\n"
          ]
        }
      ]
    }
  ]
}