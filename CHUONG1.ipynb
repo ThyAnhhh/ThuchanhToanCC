{
  "nbformat": 4,
  "nbformat_minor": 0,
  "metadata": {
    "colab": {
      "provenance": [],
      "authorship_tag": "ABX9TyMDShzWxOYUQd2RkgD1EvM9",
      "include_colab_link": true
    },
    "kernelspec": {
      "name": "python3",
      "display_name": "Python 3"
    },
    "language_info": {
      "name": "python"
    }
  },
  "cells": [
    {
      "cell_type": "markdown",
      "metadata": {
        "id": "view-in-github",
        "colab_type": "text"
      },
      "source": [
        "<a href=\"https://colab.research.google.com/github/ThyAnhhh/ThuchanhToanCC/blob/main/CHUONG1.ipynb\" target=\"_parent\"><img src=\"https://colab.research.google.com/assets/colab-badge.svg\" alt=\"Open In Colab\"/></a>"
      ]
    },
    {
      "cell_type": "code",
      "execution_count": 1,
      "metadata": {
        "id": "KgbROFUdBwjp"
      },
      "outputs": [],
      "source": [
        "#Ho ten: Ta Huynh Thy Anh\n",
        "#MSSV: 2174802010828\n",
        "#Chuong1: SYMPY & NUMPY"
      ]
    },
    {
      "cell_type": "code",
      "source": [
        "#1.2.1 Các phép xử lý với danh sách\n",
        "danhsach1 = [1., 3.]\n",
        "danhsach2 = [5., 7.]\n",
        "danhsach = danhsach1 + danhsach2"
      ],
      "metadata": {
        "id": "v_4pzPOoCTME"
      },
      "execution_count": 2,
      "outputs": []
    },
    {
      "cell_type": "code",
      "source": [
        "danhsach_gapdoi = 2*danhsach\n",
        "danhsach_gapdoi"
      ],
      "metadata": {
        "colab": {
          "base_uri": "https://localhost:8080/"
        },
        "id": "8oja_pzoCt9S",
        "outputId": "ba08bb5e-4018-4a03-87d4-9868e42c10b7"
      },
      "execution_count": 4,
      "outputs": [
        {
          "output_type": "execute_result",
          "data": {
            "text/plain": [
              "[1.0, 3.0, 5.0, 7.0, 1.0, 3.0, 5.0, 7.0]"
            ]
          },
          "metadata": {},
          "execution_count": 4
        }
      ]
    },
    {
      "cell_type": "code",
      "source": [
        "danhsach*2"
      ],
      "metadata": {
        "colab": {
          "base_uri": "https://localhost:8080/"
        },
        "id": "E3RLfS1MCziE",
        "outputId": "b4df087f-8590-4f71-c671-a5ba10b268a0"
      },
      "execution_count": 5,
      "outputs": [
        {
          "output_type": "execute_result",
          "data": {
            "text/plain": [
              "[1.0, 3.0, 5.0, 7.0, 1.0, 3.0, 5.0, 7.0]"
            ]
          },
          "metadata": {},
          "execution_count": 5
        }
      ]
    },
    {
      "cell_type": "code",
      "source": [
        "danhsach/2"
      ],
      "metadata": {
        "colab": {
          "base_uri": "https://localhost:8080/",
          "height": 164
        },
        "id": "4cmgixtHCz47",
        "outputId": "35b35957-d2ca-438b-df87-42fa08e07e9d"
      },
      "execution_count": 6,
      "outputs": [
        {
          "output_type": "error",
          "ename": "TypeError",
          "evalue": "ignored",
          "traceback": [
            "\u001b[0;31m---------------------------------------------------------------------------\u001b[0m",
            "\u001b[0;31mTypeError\u001b[0m                                 Traceback (most recent call last)",
            "\u001b[0;32m<ipython-input-6-1a8cd7e4a434>\u001b[0m in \u001b[0;36m<module>\u001b[0;34m\u001b[0m\n\u001b[0;32m----> 1\u001b[0;31m \u001b[0mdanhsach\u001b[0m\u001b[0;34m/\u001b[0m\u001b[0;36m2\u001b[0m\u001b[0;34m\u001b[0m\u001b[0;34m\u001b[0m\u001b[0m\n\u001b[0m",
            "\u001b[0;31mTypeError\u001b[0m: unsupported operand type(s) for /: 'list' and 'int'"
          ]
        }
      ]
    },
    {
      "cell_type": "code",
      "source": [
        "mon_hoc = ['ToanCC', 'DSTT', 'ToanRR', 'LaptrinhCB']\n",
        "thu_tu = [2,3,4,1]\n",
        "diem_so = [10,9,8,7]\n",
        "anh_xa = zip(thu_tu, mon_hoc, diem_so)\n",
        "anh_xa"
      ],
      "metadata": {
        "colab": {
          "base_uri": "https://localhost:8080/"
        },
        "id": "_7jsp8ZkDCeI",
        "outputId": "8048be3a-df83-4514-ee9b-1ad20583d77a"
      },
      "execution_count": 7,
      "outputs": [
        {
          "output_type": "execute_result",
          "data": {
            "text/plain": [
              "<zip at 0x7f251ac462d0>"
            ]
          },
          "metadata": {},
          "execution_count": 7
        }
      ]
    },
    {
      "cell_type": "code",
      "source": [
        "tap_hop = set(anh_xa)\n",
        "tap_hop"
      ],
      "metadata": {
        "colab": {
          "base_uri": "https://localhost:8080/"
        },
        "id": "R2-nuuQNDDR2",
        "outputId": "a0f0032a-a614-44fc-92f4-a0ee054b8196"
      },
      "execution_count": 8,
      "outputs": [
        {
          "output_type": "execute_result",
          "data": {
            "text/plain": [
              "{(1, 'LaptrinhCB', 7), (2, 'ToanCC', 10), (3, 'DSTT', 9), (4, 'ToanRR', 8)}"
            ]
          },
          "metadata": {},
          "execution_count": 8
        }
      ]
    },
    {
      "cell_type": "code",
      "source": [
        "lay_TT, lay_monhoc, lay_diem = zip(*anh_xa)\n",
        "lay_monhoc"
      ],
      "metadata": {
        "colab": {
          "base_uri": "https://localhost:8080/",
          "height": 181
        },
        "id": "0ubf6unWDDNO",
        "outputId": "376758cb-3acc-4353-fb1e-dfe0fa526bea"
      },
      "execution_count": 9,
      "outputs": [
        {
          "output_type": "error",
          "ename": "ValueError",
          "evalue": "ignored",
          "traceback": [
            "\u001b[0;31m---------------------------------------------------------------------------\u001b[0m",
            "\u001b[0;31mValueError\u001b[0m                                Traceback (most recent call last)",
            "\u001b[0;32m<ipython-input-9-9010897b8a23>\u001b[0m in \u001b[0;36m<module>\u001b[0;34m\u001b[0m\n\u001b[0;32m----> 1\u001b[0;31m \u001b[0mlay_TT\u001b[0m\u001b[0;34m,\u001b[0m \u001b[0mlay_monhoc\u001b[0m\u001b[0;34m,\u001b[0m \u001b[0mlay_diem\u001b[0m \u001b[0;34m=\u001b[0m \u001b[0mzip\u001b[0m\u001b[0;34m(\u001b[0m\u001b[0;34m*\u001b[0m\u001b[0manh_xa\u001b[0m\u001b[0;34m)\u001b[0m\u001b[0;34m\u001b[0m\u001b[0;34m\u001b[0m\u001b[0m\n\u001b[0m\u001b[1;32m      2\u001b[0m \u001b[0mlay_monhoc\u001b[0m\u001b[0;34m\u001b[0m\u001b[0;34m\u001b[0m\u001b[0m\n",
            "\u001b[0;31mValueError\u001b[0m: not enough values to unpack (expected 3, got 0)"
          ]
        }
      ]
    },
    {
      "cell_type": "code",
      "source": [
        "import itertools\n",
        "tap_sinh = list(itertools.chain(range(4), range(5,10), range(15,20)))\n",
        "tap_sinh"
      ],
      "metadata": {
        "colab": {
          "base_uri": "https://localhost:8080/"
        },
        "id": "23LnK7plDDGO",
        "outputId": "59a96c39-f2f3-47de-c25b-d0c58f078bec"
      },
      "execution_count": 10,
      "outputs": [
        {
          "output_type": "execute_result",
          "data": {
            "text/plain": [
              "[0, 1, 2, 3, 5, 6, 7, 8, 9, 15, 16, 17, 18, 19]"
            ]
          },
          "metadata": {},
          "execution_count": 10
        }
      ]
    },
    {
      "cell_type": "code",
      "source": [
        "list(zip(range(4), range(7,12), reversed(range(11))))"
      ],
      "metadata": {
        "colab": {
          "base_uri": "https://localhost:8080/"
        },
        "id": "RA1jQ89eEJfQ",
        "outputId": "088a6e64-5b3b-493f-995a-c9339b7b42f6"
      },
      "execution_count": 11,
      "outputs": [
        {
          "output_type": "execute_result",
          "data": {
            "text/plain": [
              "[(0, 7, 10), (1, 8, 9), (2, 9, 8), (3, 10, 7)]"
            ]
          },
          "metadata": {},
          "execution_count": 11
        }
      ]
    },
    {
      "cell_type": "code",
      "source": [
        "#2.1 Dinh nghia Symbol va cac phep toan hinh thuc (symbolic)"
      ],
      "metadata": {
        "id": "aZsXfapmEJbt"
      },
      "execution_count": null,
      "outputs": []
    },
    {
      "cell_type": "code",
      "source": [
        "from sympy import Symbol\n",
        "x = Symbol('x')\n",
        "f = x+x+x+2\n",
        "f"
      ],
      "metadata": {
        "colab": {
          "base_uri": "https://localhost:8080/",
          "height": 38
        },
        "id": "IRmZhx5TEJVL",
        "outputId": "f84fb27c-b08d-4934-e29d-54c44f5abda2"
      },
      "execution_count": 12,
      "outputs": [
        {
          "output_type": "execute_result",
          "data": {
            "text/plain": [
              "3*x + 2"
            ],
            "text/latex": "$\\displaystyle 3 x + 2$"
          },
          "metadata": {},
          "execution_count": 12
        }
      ]
    },
    {
      "cell_type": "code",
      "source": [
        "a = Symbol('Noi')\n",
        "b = Symbol('Chim')\n",
        "3*b + 7*a"
      ],
      "metadata": {
        "colab": {
          "base_uri": "https://localhost:8080/",
          "height": 38
        },
        "id": "RK0Qy2YrEJMH",
        "outputId": "dd3ed0e5-2e55-4372-bf90-c7395634fd4f"
      },
      "execution_count": 13,
      "outputs": [
        {
          "output_type": "execute_result",
          "data": {
            "text/plain": [
              "3*Chim + 7*Noi"
            ],
            "text/latex": "$\\displaystyle 3 Chim + 7 Noi$"
          },
          "metadata": {},
          "execution_count": 13
        }
      ]
    },
    {
      "cell_type": "code",
      "source": [
        "a = Symbol('Noi')\n",
        "b = Symbol('Chim')\n",
        "a.name"
      ],
      "metadata": {
        "colab": {
          "base_uri": "https://localhost:8080/",
          "height": 37
        },
        "id": "uh2uvOvMFXPn",
        "outputId": "45e0e66d-3038-482f-9166-e23670599669"
      },
      "execution_count": 14,
      "outputs": [
        {
          "output_type": "execute_result",
          "data": {
            "text/plain": [
              "'Noi'"
            ],
            "application/vnd.google.colaboratory.intrinsic+json": {
              "type": "string"
            }
          },
          "metadata": {},
          "execution_count": 14
        }
      ]
    },
    {
      "cell_type": "code",
      "source": [
        "b.name"
      ],
      "metadata": {
        "colab": {
          "base_uri": "https://localhost:8080/",
          "height": 37
        },
        "id": "sv89RXjRFXLc",
        "outputId": "787aecda-00fd-416d-f1e2-4d2d003cfff2"
      },
      "execution_count": 15,
      "outputs": [
        {
          "output_type": "execute_result",
          "data": {
            "text/plain": [
              "'Chim'"
            ],
            "application/vnd.google.colaboratory.intrinsic+json": {
              "type": "string"
            }
          },
          "metadata": {},
          "execution_count": 15
        }
      ]
    },
    {
      "cell_type": "code",
      "source": [
        "x = Symbol('x')\n",
        "y = Symbol('y')\n",
        "z = Symbol('z')"
      ],
      "metadata": {
        "id": "4tvKHrG_FXHU"
      },
      "execution_count": 16,
      "outputs": []
    },
    {
      "cell_type": "code",
      "source": [
        "from sympy import symbols \n",
        "a,b,c = symbols('a,b,c')"
      ],
      "metadata": {
        "id": "C_wuvl7QFXDU"
      },
      "execution_count": 17,
      "outputs": []
    },
    {
      "cell_type": "code",
      "source": [
        "from sympy import Symbol\n",
        "x = Symbol('x')\n",
        "y = Symbol('y')\n",
        "s = x*y + y*x\n",
        "s"
      ],
      "metadata": {
        "colab": {
          "base_uri": "https://localhost:8080/",
          "height": 38
        },
        "id": "tCb7fUmNFW_d",
        "outputId": "1e863cd0-9b08-4f1c-cd12-bc8e8b10811d"
      },
      "execution_count": 18,
      "outputs": [
        {
          "output_type": "execute_result",
          "data": {
            "text/plain": [
              "2*x*y"
            ],
            "text/latex": "$\\displaystyle 2 x y$"
          },
          "metadata": {},
          "execution_count": 18
        }
      ]
    },
    {
      "cell_type": "code",
      "source": [
        "p = x*(x+2*x)\n",
        "p"
      ],
      "metadata": {
        "colab": {
          "base_uri": "https://localhost:8080/",
          "height": 38
        },
        "id": "y6UkUqx3FW66",
        "outputId": "90076210-24ad-459b-acc7-bf69e3501a4f"
      },
      "execution_count": 19,
      "outputs": [
        {
          "output_type": "execute_result",
          "data": {
            "text/plain": [
              "3*x**2"
            ],
            "text/latex": "$\\displaystyle 3 x^{2}$"
          },
          "metadata": {},
          "execution_count": 19
        }
      ]
    },
    {
      "cell_type": "code",
      "source": [
        "p = (x+2)*(y+3)\n",
        "p\n",
        "(x + 2)*(y + 3)\n",
        "p = (x+2)*(y+3) + (x+2)*(x-3)\n",
        "p"
      ],
      "metadata": {
        "colab": {
          "base_uri": "https://localhost:8080/",
          "height": 38
        },
        "id": "68T_vOtyGvIX",
        "outputId": "3e26aabb-f915-4479-fe7e-9baf20097355"
      },
      "execution_count": 20,
      "outputs": [
        {
          "output_type": "execute_result",
          "data": {
            "text/plain": [
              "(x - 3)*(x + 2) + (x + 2)*(y + 3)"
            ],
            "text/latex": "$\\displaystyle \\left(x - 3\\right) \\left(x + 2\\right) + \\left(x + 2\\right) \\left(y + 3\\right)$"
          },
          "metadata": {},
          "execution_count": 20
        }
      ]
    },
    {
      "cell_type": "code",
      "source": [
        "p = x*(-x+2*x-x)\n",
        "p"
      ],
      "metadata": {
        "colab": {
          "base_uri": "https://localhost:8080/",
          "height": 37
        },
        "id": "g--VaLcsGvCp",
        "outputId": "496065cf-9b22-4318-958c-f8f3cf463c59"
      },
      "execution_count": 21,
      "outputs": [
        {
          "output_type": "execute_result",
          "data": {
            "text/plain": [
              "0"
            ],
            "text/latex": "$\\displaystyle 0$"
          },
          "metadata": {},
          "execution_count": 21
        }
      ]
    },
    {
      "cell_type": "code",
      "source": [
        "p = (x+2)*(y+3)\n",
        "p.expand()"
      ],
      "metadata": {
        "colab": {
          "base_uri": "https://localhost:8080/",
          "height": 38
        },
        "id": "7rtX-pOHGu9p",
        "outputId": "f6b86ef3-bd0d-47c4-d485-6256b798d82b"
      },
      "execution_count": 22,
      "outputs": [
        {
          "output_type": "execute_result",
          "data": {
            "text/plain": [
              "x*y + 3*x + 2*y + 6"
            ],
            "text/latex": "$\\displaystyle x y + 3 x + 2 y + 6$"
          },
          "metadata": {},
          "execution_count": 22
        }
      ]
    },
    {
      "cell_type": "code",
      "source": [
        "#2.2.1 Dat nhan tu chung va khai trien bieu thuc"
      ],
      "metadata": {
        "id": "g22IJs6OGu4t"
      },
      "execution_count": null,
      "outputs": []
    },
    {
      "cell_type": "code",
      "source": [
        "from sympy import factor\n",
        "bieuthuc = x**3 - y**3\n",
        "factor(bieuthuc)"
      ],
      "metadata": {
        "colab": {
          "base_uri": "https://localhost:8080/",
          "height": 39
        },
        "id": "rZcv132zGux_",
        "outputId": "d2e0344c-1ca2-4be6-c7ac-80dca7275533"
      },
      "execution_count": 23,
      "outputs": [
        {
          "output_type": "execute_result",
          "data": {
            "text/plain": [
              "(x - y)*(x**2 + x*y + y**2)"
            ],
            "text/latex": "$\\displaystyle \\left(x - y\\right) \\left(x^{2} + x y + y^{2}\\right)$"
          },
          "metadata": {},
          "execution_count": 23
        }
      ]
    },
    {
      "cell_type": "code",
      "source": [
        " from sympy import expand\n",
        "bieuthuc = (x - y)*(x**2 + x*y + y**2)\n",
        "expand(bieuthuc)"
      ],
      "metadata": {
        "colab": {
          "base_uri": "https://localhost:8080/",
          "height": 38
        },
        "id": "fRMFia6pGutQ",
        "outputId": "e5f622fd-4a70-4244-cdb4-38e53e776f39"
      },
      "execution_count": 24,
      "outputs": [
        {
          "output_type": "execute_result",
          "data": {
            "text/plain": [
              "x**3 - y**3"
            ],
            "text/latex": "$\\displaystyle x^{3} - y^{3}$"
          },
          "metadata": {},
          "execution_count": 24
        }
      ]
    },
    {
      "cell_type": "code",
      "source": [
        "#2.2.3 Thay the gia tri"
      ],
      "metadata": {
        "id": "gqr0ZR8AGuiq"
      },
      "execution_count": null,
      "outputs": []
    },
    {
      "cell_type": "code",
      "source": [
        "from sympy import Symbol\n",
        "x = Symbol('x')\n",
        "y = Symbol('y')\n",
        "bieuthuc = x*x - x*y + y*y\n",
        "bieuthuc"
      ],
      "metadata": {
        "colab": {
          "base_uri": "https://localhost:8080/",
          "height": 38
        },
        "id": "OjIiXYGAIP4n",
        "outputId": "3ccb466f-957b-41fb-c3fa-fec4ac32778b"
      },
      "execution_count": 25,
      "outputs": [
        {
          "output_type": "execute_result",
          "data": {
            "text/plain": [
              "x**2 - x*y + y**2"
            ],
            "text/latex": "$\\displaystyle x^{2} - x y + y^{2}$"
          },
          "metadata": {},
          "execution_count": 25
        }
      ]
    },
    {
      "cell_type": "code",
      "source": [
        "giatri = bieuthuc.subs({x:3, y:2})\n",
        "giatri"
      ],
      "metadata": {
        "colab": {
          "base_uri": "https://localhost:8080/",
          "height": 37
        },
        "id": "mAQMurPKIPyi",
        "outputId": "d96080ab-0c5e-4ca3-f07a-e0d457d55339"
      },
      "execution_count": 26,
      "outputs": [
        {
          "output_type": "execute_result",
          "data": {
            "text/plain": [
              "7"
            ],
            "text/latex": "$\\displaystyle 7$"
          },
          "metadata": {},
          "execution_count": 26
        }
      ]
    },
    {
      "cell_type": "code",
      "source": [
        "#Thuc hanh:\n",
        "#Tinh huong 1\n",
        "giatri = bieuthuc.subs({x:3, y:x})\n",
        "giatri"
      ],
      "metadata": {
        "colab": {
          "base_uri": "https://localhost:8080/",
          "height": 38
        },
        "id": "BYaW4X-AIPri",
        "outputId": "a9b3ddb1-3aa5-4b5c-e50a-ca1f93f4aa92"
      },
      "execution_count": 29,
      "outputs": [
        {
          "output_type": "execute_result",
          "data": {
            "text/plain": [
              "x**2 - 3*x + 9"
            ],
            "text/latex": "$\\displaystyle x^{2} - 3 x + 9$"
          },
          "metadata": {},
          "execution_count": 29
        }
      ]
    },
    {
      "cell_type": "code",
      "source": [
        "#Tinh huong 2\n",
        "giatri = bieuthuc.subs({x:y, y:3})\n",
        "giatri"
      ],
      "metadata": {
        "colab": {
          "base_uri": "https://localhost:8080/",
          "height": 37
        },
        "id": "s5VcVnleIPnb",
        "outputId": "e9743868-6680-437e-f0cf-198bd238fa85"
      },
      "execution_count": 30,
      "outputs": [
        {
          "output_type": "execute_result",
          "data": {
            "text/plain": [
              "9"
            ],
            "text/latex": "$\\displaystyle 9$"
          },
          "metadata": {},
          "execution_count": 30
        }
      ]
    },
    {
      "cell_type": "code",
      "source": [
        "#Tinh huong 3\n",
        "giatri = bieuthuc.subs({y:x}).subs({x:3})\n",
        "giatri"
      ],
      "metadata": {
        "colab": {
          "base_uri": "https://localhost:8080/",
          "height": 37
        },
        "id": "zlkD60msIPY-",
        "outputId": "76e01610-a079-4eb5-f767-a115def84416"
      },
      "execution_count": 31,
      "outputs": [
        {
          "output_type": "execute_result",
          "data": {
            "text/plain": [
              "9"
            ],
            "text/latex": "$\\displaystyle 9$"
          },
          "metadata": {},
          "execution_count": 31
        }
      ]
    },
    {
      "cell_type": "code",
      "source": [
        "from sympy import Symbol\n",
        "x = Symbol('x')\n",
        "y = Symbol('y')\n",
        "bieuthuc = x*x - x*y + y*y\n",
        "bieuthuc\n",
        "bieuthuc_moi=bieuthuc.subs({x:1-y})\n",
        "bieuthuc_moi"
      ],
      "metadata": {
        "colab": {
          "base_uri": "https://localhost:8080/",
          "height": 39
        },
        "id": "4J4KnjB0IPPC",
        "outputId": "158c7057-847c-4c69-f054-23eba3302a28"
      },
      "execution_count": 37,
      "outputs": [
        {
          "output_type": "execute_result",
          "data": {
            "text/plain": [
              "y**2 - y*(1 - y) + (1 - y)**2"
            ],
            "text/latex": "$\\displaystyle y^{2} - y \\left(1 - y\\right) + \\left(1 - y\\right)^{2}$"
          },
          "metadata": {},
          "execution_count": 37
        }
      ]
    },
    {
      "cell_type": "code",
      "source": [
        "from sympy import simplify\n",
        "dongian = simplify(bieuthuc_moi)\n",
        "dongian"
      ],
      "metadata": {
        "colab": {
          "base_uri": "https://localhost:8080/",
          "height": 38
        },
        "id": "68Jm9hENI7wJ",
        "outputId": "237cc6a8-2567-41d4-f563-9cc0f338810b"
      },
      "execution_count": 38,
      "outputs": [
        {
          "output_type": "execute_result",
          "data": {
            "text/plain": [
              "3*y**2 - 3*y + 1"
            ],
            "text/latex": "$\\displaystyle 3 y^{2} - 3 y + 1$"
          },
          "metadata": {},
          "execution_count": 38
        }
      ]
    },
    {
      "cell_type": "code",
      "source": [
        "from sympy import Symbol\n",
        "from sympy import sin, cos \n",
        "x = Symbol('x')\n",
        "y = Symbol('y')\n",
        "bt = sin(x)*cos(y) + cos(x)*sin(y)\n",
        "bt_moi = simplify(bt)\n",
        "bt_moi"
      ],
      "metadata": {
        "colab": {
          "base_uri": "https://localhost:8080/",
          "height": 38
        },
        "id": "XLsUVYzpI7d2",
        "outputId": "eafc5082-0e00-44bf-9feb-83aae9d20e5a"
      },
      "execution_count": 41,
      "outputs": [
        {
          "output_type": "execute_result",
          "data": {
            "text/plain": [
              "sin(x + y)"
            ],
            "text/latex": "$\\displaystyle \\sin{\\left(x + y \\right)}$"
          },
          "metadata": {},
          "execution_count": 41
        }
      ]
    },
    {
      "cell_type": "code",
      "source": [
        "#3.1 Mot so lenh co ban numpy xu ly vecto\n",
        "import numpy as np\n",
        "from numpy import *"
      ],
      "metadata": {
        "id": "HUBOGlLiI7Xk"
      },
      "execution_count": 51,
      "outputs": []
    },
    {
      "cell_type": "code",
      "source": [
        "vec1 = np.array([1., 3., 5.])\n",
        "vec1 * 2"
      ],
      "metadata": {
        "colab": {
          "base_uri": "https://localhost:8080/"
        },
        "id": "OvzUkc-5I7RY",
        "outputId": "5573e68d-5cd7-45d8-ceab-10039527110b"
      },
      "execution_count": 44,
      "outputs": [
        {
          "output_type": "execute_result",
          "data": {
            "text/plain": [
              "array([ 2.,  6., 10.])"
            ]
          },
          "metadata": {},
          "execution_count": 44
        }
      ]
    },
    {
      "cell_type": "code",
      "source": [
        "vec1 * vec1"
      ],
      "metadata": {
        "colab": {
          "base_uri": "https://localhost:8080/"
        },
        "id": "zdjxyzBcI7K9",
        "outputId": "23521d11-4daf-4a41-efec-f52f763d43e7"
      },
      "execution_count": 45,
      "outputs": [
        {
          "output_type": "execute_result",
          "data": {
            "text/plain": [
              "array([ 1.,  9., 25.])"
            ]
          },
          "metadata": {},
          "execution_count": 45
        }
      ]
    },
    {
      "cell_type": "code",
      "source": [
        "vec1 /2"
      ],
      "metadata": {
        "colab": {
          "base_uri": "https://localhost:8080/"
        },
        "id": "ydAiOZckI7Ez",
        "outputId": "45418e8d-5d7e-4a9e-fa88-ba00433cce74"
      },
      "execution_count": 46,
      "outputs": [
        {
          "output_type": "execute_result",
          "data": {
            "text/plain": [
              "array([0.5, 1.5, 2.5])"
            ]
          },
          "metadata": {},
          "execution_count": 46
        }
      ]
    },
    {
      "cell_type": "code",
      "source": [
        "vec1 + vec1"
      ],
      "metadata": {
        "colab": {
          "base_uri": "https://localhost:8080/"
        },
        "id": "LoW0J6JUKQi9",
        "outputId": "8077ae28-10ab-4c64-fa10-e1599cbacffa"
      },
      "execution_count": 47,
      "outputs": [
        {
          "output_type": "execute_result",
          "data": {
            "text/plain": [
              "array([ 2.,  6., 10.])"
            ]
          },
          "metadata": {},
          "execution_count": 47
        }
      ]
    },
    {
      "cell_type": "code",
      "source": [
        "vec2 = array([2., 4.]) \n",
        "vec1 + vec2"
      ],
      "metadata": {
        "colab": {
          "base_uri": "https://localhost:8080/",
          "height": 181
        },
        "id": "VyRceyYBKTsO",
        "outputId": "76125b10-e075-479c-ea3a-b4a72e6b6d9a"
      },
      "execution_count": 53,
      "outputs": [
        {
          "output_type": "error",
          "ename": "ValueError",
          "evalue": "ignored",
          "traceback": [
            "\u001b[0;31m---------------------------------------------------------------------------\u001b[0m",
            "\u001b[0;31mValueError\u001b[0m                                Traceback (most recent call last)",
            "\u001b[0;32m<ipython-input-53-196b68c3b1e2>\u001b[0m in \u001b[0;36m<module>\u001b[0;34m\u001b[0m\n\u001b[1;32m      1\u001b[0m \u001b[0mvec2\u001b[0m \u001b[0;34m=\u001b[0m \u001b[0marray\u001b[0m\u001b[0;34m(\u001b[0m\u001b[0;34m[\u001b[0m\u001b[0;36m2.\u001b[0m\u001b[0;34m,\u001b[0m \u001b[0;36m4.\u001b[0m\u001b[0;34m]\u001b[0m\u001b[0;34m)\u001b[0m\u001b[0;34m\u001b[0m\u001b[0;34m\u001b[0m\u001b[0m\n\u001b[0;32m----> 2\u001b[0;31m \u001b[0mvec1\u001b[0m \u001b[0;34m+\u001b[0m \u001b[0mvec2\u001b[0m\u001b[0;34m\u001b[0m\u001b[0;34m\u001b[0m\u001b[0m\n\u001b[0m",
            "\u001b[0;31mValueError\u001b[0m: operands could not be broadcast together with shapes (3,) (2,) "
          ]
        }
      ]
    },
    {
      "cell_type": "code",
      "source": [
        "vec3 = array([2., 4., 6.])\n",
        "vec1 + vec3"
      ],
      "metadata": {
        "colab": {
          "base_uri": "https://localhost:8080/"
        },
        "id": "81j--E92KTjr",
        "outputId": "c0f74a82-6624-4644-f7b8-1ca47b3af676"
      },
      "execution_count": 54,
      "outputs": [
        {
          "output_type": "execute_result",
          "data": {
            "text/plain": [
              "array([ 3.,  7., 11.])"
            ]
          },
          "metadata": {},
          "execution_count": 54
        }
      ]
    },
    {
      "cell_type": "code",
      "source": [
        "vec1 / vec3"
      ],
      "metadata": {
        "colab": {
          "base_uri": "https://localhost:8080/"
        },
        "id": "LZxZS3ZiKTeu",
        "outputId": "4c4ad860-102b-49b0-a7ed-73ceb66afde4"
      },
      "execution_count": 55,
      "outputs": [
        {
          "output_type": "execute_result",
          "data": {
            "text/plain": [
              "array([0.5       , 0.75      , 0.83333333])"
            ]
          },
          "metadata": {},
          "execution_count": 55
        }
      ]
    },
    {
      "cell_type": "code",
      "source": [
        "vec1 * vec3"
      ],
      "metadata": {
        "colab": {
          "base_uri": "https://localhost:8080/"
        },
        "id": "N70PqL19KTaU",
        "outputId": "78fb54b4-80bf-415a-9d4c-8ba240fd046a"
      },
      "execution_count": 56,
      "outputs": [
        {
          "output_type": "execute_result",
          "data": {
            "text/plain": [
              "array([ 2., 12., 30.])"
            ]
          },
          "metadata": {},
          "execution_count": 56
        }
      ]
    },
    {
      "cell_type": "code",
      "source": [
        "2* vec1 + 5* vec3"
      ],
      "metadata": {
        "colab": {
          "base_uri": "https://localhost:8080/"
        },
        "id": "2tcWiRwTKTVk",
        "outputId": "79d0f33e-8f43-4140-deca-0b268b2f6b20"
      },
      "execution_count": 57,
      "outputs": [
        {
          "output_type": "execute_result",
          "data": {
            "text/plain": [
              "array([12., 26., 40.])"
            ]
          },
          "metadata": {},
          "execution_count": 57
        }
      ]
    },
    {
      "cell_type": "code",
      "source": [
        "vec3[2]"
      ],
      "metadata": {
        "colab": {
          "base_uri": "https://localhost:8080/"
        },
        "id": "dN7i83QTKTQ_",
        "outputId": "cdf0d47d-76da-49e9-c029-c30a2d49f535"
      },
      "execution_count": 58,
      "outputs": [
        {
          "output_type": "execute_result",
          "data": {
            "text/plain": [
              "6.0"
            ]
          },
          "metadata": {},
          "execution_count": 58
        }
      ]
    },
    {
      "cell_type": "code",
      "source": [
        "vec4 = np.linspace(0, 20, 5)\n",
        "vec4"
      ],
      "metadata": {
        "colab": {
          "base_uri": "https://localhost:8080/"
        },
        "id": "CxiyIU4vLpi5",
        "outputId": "22bfd898-31bf-4465-80fc-5a0a41a320a4"
      },
      "execution_count": 59,
      "outputs": [
        {
          "output_type": "execute_result",
          "data": {
            "text/plain": [
              "array([ 0.,  5., 10., 15., 20.])"
            ]
          },
          "metadata": {},
          "execution_count": 59
        }
      ]
    },
    {
      "cell_type": "code",
      "source": [
        "vec5 = np.zeros(5)"
      ],
      "metadata": {
        "id": "eXheNr3DLpdt"
      },
      "execution_count": 60,
      "outputs": []
    },
    {
      "cell_type": "code",
      "source": [
        "vec6 = np.ones(5)"
      ],
      "metadata": {
        "id": "xVCqGDHZLpZO"
      },
      "execution_count": 61,
      "outputs": []
    },
    {
      "cell_type": "code",
      "source": [
        "vec7 = np.empty(5)"
      ],
      "metadata": {
        "id": "0mUBgeYNLpHP"
      },
      "execution_count": 62,
      "outputs": []
    },
    {
      "cell_type": "code",
      "source": [
        "np.rand(5)"
      ],
      "metadata": {
        "colab": {
          "base_uri": "https://localhost:8080/",
          "height": 283
        },
        "id": "zUf-RhSyLpCj",
        "outputId": "e554ac06-b8a3-4df4-c751-41efced546bf"
      },
      "execution_count": 63,
      "outputs": [
        {
          "output_type": "error",
          "ename": "AttributeError",
          "evalue": "ignored",
          "traceback": [
            "\u001b[0;31m---------------------------------------------------------------------------\u001b[0m",
            "\u001b[0;31mAttributeError\u001b[0m                            Traceback (most recent call last)",
            "\u001b[0;32m<ipython-input-63-241eed558bcf>\u001b[0m in \u001b[0;36m<module>\u001b[0;34m\u001b[0m\n\u001b[0;32m----> 1\u001b[0;31m \u001b[0mnp\u001b[0m\u001b[0;34m.\u001b[0m\u001b[0mrand\u001b[0m\u001b[0;34m(\u001b[0m\u001b[0;36m5\u001b[0m\u001b[0;34m)\u001b[0m\u001b[0;34m\u001b[0m\u001b[0;34m\u001b[0m\u001b[0m\n\u001b[0m",
            "\u001b[0;32m/usr/local/lib/python3.7/dist-packages/numpy/__init__.py\u001b[0m in \u001b[0;36m__getattr__\u001b[0;34m(attr)\u001b[0m\n\u001b[1;32m    312\u001b[0m \u001b[0;34m\u001b[0m\u001b[0m\n\u001b[1;32m    313\u001b[0m             raise AttributeError(\"module {!r} has no attribute \"\n\u001b[0;32m--> 314\u001b[0;31m                                  \"{!r}\".format(__name__, attr))\n\u001b[0m\u001b[1;32m    315\u001b[0m \u001b[0;34m\u001b[0m\u001b[0m\n\u001b[1;32m    316\u001b[0m         \u001b[0;32mdef\u001b[0m \u001b[0m__dir__\u001b[0m\u001b[0;34m(\u001b[0m\u001b[0;34m)\u001b[0m\u001b[0;34m:\u001b[0m\u001b[0;34m\u001b[0m\u001b[0;34m\u001b[0m\u001b[0m\n",
            "\u001b[0;31mAttributeError\u001b[0m: module 'numpy' has no attribute 'rand'"
          ]
        }
      ]
    },
    {
      "cell_type": "code",
      "source": [
        "v = np.array([1., 3., 5.])"
      ],
      "metadata": {
        "id": "CTVBPMGyLo-E"
      },
      "execution_count": 65,
      "outputs": []
    },
    {
      "cell_type": "code",
      "source": [
        "np.sum(v)"
      ],
      "metadata": {
        "colab": {
          "base_uri": "https://localhost:8080/"
        },
        "id": "mfXadll-KTMd",
        "outputId": "3681405b-0795-4dcd-e6fb-379e61eaf8c2"
      },
      "execution_count": 66,
      "outputs": [
        {
          "output_type": "execute_result",
          "data": {
            "text/plain": [
              "9.0"
            ]
          },
          "metadata": {},
          "execution_count": 66
        }
      ]
    },
    {
      "cell_type": "code",
      "source": [
        " v.shape"
      ],
      "metadata": {
        "colab": {
          "base_uri": "https://localhost:8080/"
        },
        "id": "BX7Z1X8yMIOb",
        "outputId": "266ee7fc-07fe-46df-e6b4-8f9af5612cd4"
      },
      "execution_count": 67,
      "outputs": [
        {
          "output_type": "execute_result",
          "data": {
            "text/plain": [
              "(3,)"
            ]
          },
          "metadata": {},
          "execution_count": 67
        }
      ]
    },
    {
      "cell_type": "code",
      "source": [
        "v.transpose()"
      ],
      "metadata": {
        "colab": {
          "base_uri": "https://localhost:8080/"
        },
        "id": "yNG2IMXcMIJM",
        "outputId": "8b78b58a-ac79-4d0e-8d4d-87332175af97"
      },
      "execution_count": 68,
      "outputs": [
        {
          "output_type": "execute_result",
          "data": {
            "text/plain": [
              "array([1., 3., 5.])"
            ]
          },
          "metadata": {},
          "execution_count": 68
        }
      ]
    },
    {
      "cell_type": "code",
      "source": [
        "v1 = v[:2]\n",
        "v1"
      ],
      "metadata": {
        "colab": {
          "base_uri": "https://localhost:8080/"
        },
        "id": "DZwD90J5MIDM",
        "outputId": "9a175e7b-3b22-4ae2-d310-c3bf34eeb643"
      },
      "execution_count": 69,
      "outputs": [
        {
          "output_type": "execute_result",
          "data": {
            "text/plain": [
              "array([1., 3.])"
            ]
          },
          "metadata": {},
          "execution_count": 69
        }
      ]
    },
    {
      "cell_type": "code",
      "source": [
        "v[0] = 5\n",
        "v"
      ],
      "metadata": {
        "colab": {
          "base_uri": "https://localhost:8080/"
        },
        "id": "-L3ggNZxMH-N",
        "outputId": "5846240f-94c0-446e-eb8f-b6fed9d405be"
      },
      "execution_count": 70,
      "outputs": [
        {
          "output_type": "execute_result",
          "data": {
            "text/plain": [
              "array([5., 3., 5.])"
            ]
          },
          "metadata": {},
          "execution_count": 70
        }
      ]
    },
    {
      "cell_type": "code",
      "source": [
        "v1"
      ],
      "metadata": {
        "colab": {
          "base_uri": "https://localhost:8080/"
        },
        "id": "-eG2ORLnMH4r",
        "outputId": "c72dc0c9-64fd-4b7b-ed6b-083f9a489077"
      },
      "execution_count": 71,
      "outputs": [
        {
          "output_type": "execute_result",
          "data": {
            "text/plain": [
              "array([5., 3.])"
            ]
          },
          "metadata": {},
          "execution_count": 71
        }
      ]
    },
    {
      "cell_type": "code",
      "source": [
        "v1[:2] = [1., 2., 3.]"
      ],
      "metadata": {
        "colab": {
          "base_uri": "https://localhost:8080/",
          "height": 164
        },
        "id": "XTg6gpakMHx8",
        "outputId": "6a160794-5952-4a66-a879-0b85552f344f"
      },
      "execution_count": 72,
      "outputs": [
        {
          "output_type": "error",
          "ename": "ValueError",
          "evalue": "ignored",
          "traceback": [
            "\u001b[0;31m---------------------------------------------------------------------------\u001b[0m",
            "\u001b[0;31mValueError\u001b[0m                                Traceback (most recent call last)",
            "\u001b[0;32m<ipython-input-72-9a489f108699>\u001b[0m in \u001b[0;36m<module>\u001b[0;34m\u001b[0m\n\u001b[0;32m----> 1\u001b[0;31m \u001b[0mv1\u001b[0m\u001b[0;34m[\u001b[0m\u001b[0;34m:\u001b[0m\u001b[0;36m2\u001b[0m\u001b[0;34m]\u001b[0m \u001b[0;34m=\u001b[0m \u001b[0;34m[\u001b[0m\u001b[0;36m1.\u001b[0m\u001b[0;34m,\u001b[0m \u001b[0;36m2.\u001b[0m\u001b[0;34m,\u001b[0m \u001b[0;36m3.\u001b[0m\u001b[0;34m]\u001b[0m\u001b[0;34m\u001b[0m\u001b[0;34m\u001b[0m\u001b[0m\n\u001b[0m",
            "\u001b[0;31mValueError\u001b[0m: could not broadcast input array from shape (3,) into shape (2,)"
          ]
        }
      ]
    },
    {
      "cell_type": "code",
      "source": [
        "v1[:2] = [1., 2]\n",
        "v"
      ],
      "metadata": {
        "colab": {
          "base_uri": "https://localhost:8080/"
        },
        "id": "KbcHlyjYMHj9",
        "outputId": "14faa610-dc59-4951-fbf1-6c466ed03773"
      },
      "execution_count": 73,
      "outputs": [
        {
          "output_type": "execute_result",
          "data": {
            "text/plain": [
              "array([1., 2., 5.])"
            ]
          },
          "metadata": {},
          "execution_count": 73
        }
      ]
    },
    {
      "cell_type": "code",
      "source": [
        "v3 = 2 * v[:2] + v1 * 3\n",
        "v3"
      ],
      "metadata": {
        "colab": {
          "base_uri": "https://localhost:8080/"
        },
        "id": "VT7-joUwMzDz",
        "outputId": "a6763a18-5142-4dce-d90c-7229014e8ec3"
      },
      "execution_count": 74,
      "outputs": [
        {
          "output_type": "execute_result",
          "data": {
            "text/plain": [
              "array([ 5., 10.])"
            ]
          },
          "metadata": {},
          "execution_count": 74
        }
      ]
    },
    {
      "cell_type": "code",
      "source": [
        "v1 = [4, 6]\n",
        "v3"
      ],
      "metadata": {
        "colab": {
          "base_uri": "https://localhost:8080/"
        },
        "id": "OFluKAbQMy9d",
        "outputId": "6c9fa582-bbd5-433c-e69f-a8d5f07f4dab"
      },
      "execution_count": 75,
      "outputs": [
        {
          "output_type": "execute_result",
          "data": {
            "text/plain": [
              "array([ 5., 10.])"
            ]
          },
          "metadata": {},
          "execution_count": 75
        }
      ]
    },
    {
      "cell_type": "code",
      "source": [
        "v"
      ],
      "metadata": {
        "colab": {
          "base_uri": "https://localhost:8080/"
        },
        "id": "XwnkgodVM-r3",
        "outputId": "b4e4aaa6-2536-4500-b2ba-ee787c2019ee"
      },
      "execution_count": 76,
      "outputs": [
        {
          "output_type": "execute_result",
          "data": {
            "text/plain": [
              "array([1., 2., 5.])"
            ]
          },
          "metadata": {},
          "execution_count": 76
        }
      ]
    },
    {
      "cell_type": "code",
      "source": [
        "v + 10.0"
      ],
      "metadata": {
        "colab": {
          "base_uri": "https://localhost:8080/"
        },
        "id": "Q7CfQkJ0My36",
        "outputId": "a094773e-5998-49a3-9e0d-e6017ddc0f31"
      },
      "execution_count": 77,
      "outputs": [
        {
          "output_type": "execute_result",
          "data": {
            "text/plain": [
              "array([11., 12., 15.])"
            ]
          },
          "metadata": {},
          "execution_count": 77
        }
      ]
    },
    {
      "cell_type": "code",
      "source": [
        "np.sqrt(v)"
      ],
      "metadata": {
        "colab": {
          "base_uri": "https://localhost:8080/"
        },
        "id": "hXosmcroMyxW",
        "outputId": "41f65883-0ff5-45a8-e473-bb127745953f"
      },
      "execution_count": 78,
      "outputs": [
        {
          "output_type": "execute_result",
          "data": {
            "text/plain": [
              "array([1.        , 1.41421356, 2.23606798])"
            ]
          },
          "metadata": {},
          "execution_count": 78
        }
      ]
    },
    {
      "cell_type": "code",
      "source": [
        "np.cos(v)"
      ],
      "metadata": {
        "colab": {
          "base_uri": "https://localhost:8080/"
        },
        "id": "e0V_0DIsNFRz",
        "outputId": "21e2ed66-2d90-4479-ff77-3b512dd0209a"
      },
      "execution_count": 79,
      "outputs": [
        {
          "output_type": "execute_result",
          "data": {
            "text/plain": [
              "array([ 0.54030231, -0.41614684,  0.28366219])"
            ]
          },
          "metadata": {},
          "execution_count": 79
        }
      ]
    },
    {
      "cell_type": "code",
      "source": [
        "np.sin(v)"
      ],
      "metadata": {
        "colab": {
          "base_uri": "https://localhost:8080/"
        },
        "id": "8pLbLgN2NFLV",
        "outputId": "62c98003-f36d-4f0c-a981-17cc42ccfbde"
      },
      "execution_count": 80,
      "outputs": [
        {
          "output_type": "execute_result",
          "data": {
            "text/plain": [
              "array([ 0.84147098,  0.90929743, -0.95892427])"
            ]
          },
          "metadata": {},
          "execution_count": 80
        }
      ]
    },
    {
      "cell_type": "code",
      "source": [
        "np.dot(v1, v3)"
      ],
      "metadata": {
        "colab": {
          "base_uri": "https://localhost:8080/"
        },
        "id": "xL2578tMNFFu",
        "outputId": "b5c25d0b-4015-4f51-be46-4184a057b7a3"
      },
      "execution_count": 81,
      "outputs": [
        {
          "output_type": "execute_result",
          "data": {
            "text/plain": [
              "80.0"
            ]
          },
          "metadata": {},
          "execution_count": 81
        }
      ]
    },
    {
      "cell_type": "code",
      "source": [
        "v1.dot(v3)"
      ],
      "metadata": {
        "colab": {
          "base_uri": "https://localhost:8080/",
          "height": 164
        },
        "id": "LCv4RyxmNQ2E",
        "outputId": "219d0b90-315a-4169-b827-6703673faddc"
      },
      "execution_count": 82,
      "outputs": [
        {
          "output_type": "error",
          "ename": "AttributeError",
          "evalue": "ignored",
          "traceback": [
            "\u001b[0;31m---------------------------------------------------------------------------\u001b[0m",
            "\u001b[0;31mAttributeError\u001b[0m                            Traceback (most recent call last)",
            "\u001b[0;32m<ipython-input-82-54eca1873059>\u001b[0m in \u001b[0;36m<module>\u001b[0;34m\u001b[0m\n\u001b[0;32m----> 1\u001b[0;31m \u001b[0mv1\u001b[0m\u001b[0;34m.\u001b[0m\u001b[0mdot\u001b[0m\u001b[0;34m(\u001b[0m\u001b[0mv3\u001b[0m\u001b[0;34m)\u001b[0m\u001b[0;34m\u001b[0m\u001b[0;34m\u001b[0m\u001b[0m\n\u001b[0m",
            "\u001b[0;31mAttributeError\u001b[0m: 'list' object has no attribute 'dot'"
          ]
        }
      ]
    },
    {
      "cell_type": "code",
      "source": [
        "v3.dot(v1)"
      ],
      "metadata": {
        "colab": {
          "base_uri": "https://localhost:8080/"
        },
        "id": "vQ0JaV76NQv5",
        "outputId": "e1d4c2b5-bfc0-48c9-940b-fe5e8d9a846a"
      },
      "execution_count": 83,
      "outputs": [
        {
          "output_type": "execute_result",
          "data": {
            "text/plain": [
              "80.0"
            ]
          },
          "metadata": {},
          "execution_count": 83
        }
      ]
    },
    {
      "cell_type": "code",
      "source": [
        "#Bai tap chuong 1"
      ],
      "metadata": {
        "id": "yM9gwR2VNE_O"
      },
      "execution_count": null,
      "outputs": []
    },
    {
      "cell_type": "code",
      "source": [
        "#Bai tap 1: Giai phuong trinh voi Sympy\n",
        "from sympy import Symbol, solve\n",
        "x = Symbol('x')\n",
        "bieuthuc = x + 3 - 5\n",
        "solve(bieuthuc)"
      ],
      "metadata": {
        "colab": {
          "base_uri": "https://localhost:8080/"
        },
        "id": "b2TXsY6pNE58",
        "outputId": "9bc66bb4-6184-422e-c4df-629a773deccc"
      },
      "execution_count": 84,
      "outputs": [
        {
          "output_type": "execute_result",
          "data": {
            "text/plain": [
              "[2]"
            ]
          },
          "metadata": {},
          "execution_count": 84
        }
      ]
    },
    {
      "cell_type": "code",
      "source": [
        "bieuthuc = x**2 + 3 - 5\n",
        "nghiemx = solve(bieuthuc)\n",
        "nghiemx"
      ],
      "metadata": {
        "colab": {
          "base_uri": "https://localhost:8080/"
        },
        "id": "4dHndNfUNExb",
        "outputId": "8c3069fc-3f34-4d64-de65-bb2680367a5e"
      },
      "execution_count": 85,
      "outputs": [
        {
          "output_type": "execute_result",
          "data": {
            "text/plain": [
              "[-sqrt(2), sqrt(2)]"
            ]
          },
          "metadata": {},
          "execution_count": 85
        }
      ]
    },
    {
      "cell_type": "code",
      "source": [
        "nghiemx[0]"
      ],
      "metadata": {
        "colab": {
          "base_uri": "https://localhost:8080/",
          "height": 39
        },
        "id": "y3-UgktqMypY",
        "outputId": "15a64f4f-bbe4-4a13-f022-c029994484b4"
      },
      "execution_count": 86,
      "outputs": [
        {
          "output_type": "execute_result",
          "data": {
            "text/plain": [
              "-sqrt(2)"
            ],
            "text/latex": "$\\displaystyle - \\sqrt{2}$"
          },
          "metadata": {},
          "execution_count": 86
        }
      ]
    },
    {
      "cell_type": "code",
      "source": [
        "nghiemx[1]"
      ],
      "metadata": {
        "colab": {
          "base_uri": "https://localhost:8080/",
          "height": 39
        },
        "id": "20v49VYeNzBu",
        "outputId": "54a11562-d7ce-44b9-f9fc-9e128541446a"
      },
      "execution_count": 87,
      "outputs": [
        {
          "output_type": "execute_result",
          "data": {
            "text/plain": [
              "sqrt(2)"
            ],
            "text/latex": "$\\displaystyle \\sqrt{2}$"
          },
          "metadata": {},
          "execution_count": 87
        }
      ]
    },
    {
      "cell_type": "code",
      "source": [
        "#Bai tap 2: Giai phuong trinh bac 2\n",
        "from sympy import solve\n",
        "x = Symbol('x')\n",
        "ptb2 = x**2 + 9*x +8\n",
        "solve(ptb2, dict = True)"
      ],
      "metadata": {
        "colab": {
          "base_uri": "https://localhost:8080/"
        },
        "id": "OUns5Ag_Ny74",
        "outputId": "798b42d6-a9ad-4d35-d9ef-4a499ba38748"
      },
      "execution_count": 88,
      "outputs": [
        {
          "output_type": "execute_result",
          "data": {
            "text/plain": [
              "[{x: -8}, {x: -1}]"
            ]
          },
          "metadata": {},
          "execution_count": 88
        }
      ]
    },
    {
      "cell_type": "code",
      "source": [
        "ptb2 = x**2 + 1*x + 10\n",
        "nghiemx = solve(ptb2, dict = True)\n",
        "nghiemx"
      ],
      "metadata": {
        "colab": {
          "base_uri": "https://localhost:8080/"
        },
        "id": "45_eRwiWNy1_",
        "outputId": "b5932002-7949-4192-ea33-efadeb8cc21e"
      },
      "execution_count": 89,
      "outputs": [
        {
          "output_type": "execute_result",
          "data": {
            "text/plain": [
              "[{x: -1/2 - sqrt(39)*I/2}, {x: -1/2 + sqrt(39)*I/2}]"
            ]
          },
          "metadata": {},
          "execution_count": 89
        }
      ]
    },
    {
      "cell_type": "code",
      "source": [
        "#Bai tap 3: Giai phuong trinh 1 bien bieu dien dai so cac bien con lai\n",
        "x = Symbol('x')\n",
        "a = Symbol('a')\n",
        "b = Symbol('b')\n",
        "c = Symbol('c')\n",
        "ptb2 = a*x*x + b*x + c\n",
        "nghiem = solve(ptb2, x, dict=True)\n",
        "nghiem"
      ],
      "metadata": {
        "colab": {
          "base_uri": "https://localhost:8080/"
        },
        "id": "kgx-sKgONywg",
        "outputId": "5d9c6850-2865-4180-9dd0-69cde1c5c9e6"
      },
      "execution_count": 90,
      "outputs": [
        {
          "output_type": "execute_result",
          "data": {
            "text/plain": [
              "[{x: (-b + sqrt(-4*a*c + b**2))/(2*a)}, {x: -(b + sqrt(-4*a*c + b**2))/(2*a)}]"
            ]
          },
          "metadata": {},
          "execution_count": 90
        }
      ]
    },
    {
      "cell_type": "code",
      "source": [
        "#Bai tap 4: Giai he phuong trinh\n",
        "from sympy import Symbol, solve\n",
        "x = Symbol('x')\n",
        "y = Symbol('y')\n",
        "pt1 = 2*x+3*y-12\n",
        "pt2 = 3*x-2*y-5"
      ],
      "metadata": {
        "id": "FqP8j3tWKTIS"
      },
      "execution_count": 91,
      "outputs": []
    },
    {
      "cell_type": "code",
      "source": [
        "solve((pt1, pt2), dict=True)"
      ],
      "metadata": {
        "colab": {
          "base_uri": "https://localhost:8080/"
        },
        "id": "_Jk3EAQXO2Hx",
        "outputId": "801df208-46eb-47da-f309-24e5968414e1"
      },
      "execution_count": 92,
      "outputs": [
        {
          "output_type": "execute_result",
          "data": {
            "text/plain": [
              "[{x: 3, y: 2}]"
            ]
          },
          "metadata": {},
          "execution_count": 92
        }
      ]
    },
    {
      "cell_type": "code",
      "source": [
        "nghiem = solve((pt1, pt2), dict=True)\n",
        "nghiem = nghiem[0]\n",
        "pt1.subs({x:nghiem[x], y:nghiem[y]})"
      ],
      "metadata": {
        "colab": {
          "base_uri": "https://localhost:8080/",
          "height": 37
        },
        "id": "m5md_NJHO2B3",
        "outputId": "8871210e-e10f-4573-9641-ebf244923fa7"
      },
      "execution_count": 93,
      "outputs": [
        {
          "output_type": "execute_result",
          "data": {
            "text/plain": [
              "0"
            ],
            "text/latex": "$\\displaystyle 0$"
          },
          "metadata": {},
          "execution_count": 93
        }
      ]
    },
    {
      "cell_type": "code",
      "source": [
        "pt2.subs({x:nghiem[x], y:nghiem[y]})"
      ],
      "metadata": {
        "colab": {
          "base_uri": "https://localhost:8080/",
          "height": 37
        },
        "id": "Z3s1qbBIKTEo",
        "outputId": "88e062d8-8b02-462e-a6a7-ca1c415e01ae"
      },
      "execution_count": 94,
      "outputs": [
        {
          "output_type": "execute_result",
          "data": {
            "text/plain": [
              "0"
            ],
            "text/latex": "$\\displaystyle 0$"
          },
          "metadata": {},
          "execution_count": 94
        }
      ]
    },
    {
      "cell_type": "code",
      "source": [
        "#Bai tap 5: The hien ma tran bang numpy\n",
        "M1 = np.array([ [9, 12], [23,30] ])"
      ],
      "metadata": {
        "id": "nCliIg1WO-FK"
      },
      "execution_count": 95,
      "outputs": []
    },
    {
      "cell_type": "code",
      "source": [
        "u = np.array([ 2, 1])\n",
        "tichM1u = M1.dot(u)\n",
        "print(tichM1u)"
      ],
      "metadata": {
        "colab": {
          "base_uri": "https://localhost:8080/"
        },
        "id": "eSuGu86QPRuL",
        "outputId": "506fe19f-9bfb-4152-9f2e-402dfb536cc0"
      },
      "execution_count": 96,
      "outputs": [
        {
          "output_type": "stream",
          "name": "stdout",
          "text": [
            "[30 76]\n"
          ]
        }
      ]
    },
    {
      "cell_type": "code",
      "source": [
        "tichuM1 = u.dot(M1)\n",
        "print(tichuM1)"
      ],
      "metadata": {
        "colab": {
          "base_uri": "https://localhost:8080/"
        },
        "id": "yum40RmZPVU3",
        "outputId": "17c56659-9125-49b6-d715-d9ef0c2c32f8"
      },
      "execution_count": 97,
      "outputs": [
        {
          "output_type": "stream",
          "name": "stdout",
          "text": [
            "[41 54]\n"
          ]
        }
      ]
    },
    {
      "cell_type": "code",
      "source": [
        "np.dot(M1, u)"
      ],
      "metadata": {
        "colab": {
          "base_uri": "https://localhost:8080/"
        },
        "id": "oBwahHpLPYlj",
        "outputId": "17ac6453-857f-4d1f-fb49-963617011fe3"
      },
      "execution_count": 98,
      "outputs": [
        {
          "output_type": "execute_result",
          "data": {
            "text/plain": [
              "array([30, 76])"
            ]
          },
          "metadata": {},
          "execution_count": 98
        }
      ]
    },
    {
      "cell_type": "code",
      "source": [
        "np.dot(u, M1)"
      ],
      "metadata": {
        "colab": {
          "base_uri": "https://localhost:8080/"
        },
        "id": "Ivg11ZVoPdAP",
        "outputId": "f199a1bd-a1a5-4849-c706-ab182886f7e0"
      },
      "execution_count": 99,
      "outputs": [
        {
          "output_type": "execute_result",
          "data": {
            "text/plain": [
              "array([41, 54])"
            ]
          },
          "metadata": {},
          "execution_count": 99
        }
      ]
    },
    {
      "cell_type": "code",
      "source": [
        "mat1 = np.zeros( [5,5])\n",
        "mat1"
      ],
      "metadata": {
        "colab": {
          "base_uri": "https://localhost:8080/"
        },
        "id": "7lUAzcT6PhXZ",
        "outputId": "779d5298-94e9-4a4f-fd70-2be5ab8c4f59"
      },
      "execution_count": 102,
      "outputs": [
        {
          "output_type": "execute_result",
          "data": {
            "text/plain": [
              "array([[0., 0., 0., 0., 0.],\n",
              "       [0., 0., 0., 0., 0.],\n",
              "       [0., 0., 0., 0., 0.],\n",
              "       [0., 0., 0., 0., 0.],\n",
              "       [0., 0., 0., 0., 0.]])"
            ]
          },
          "metadata": {},
          "execution_count": 102
        }
      ]
    },
    {
      "cell_type": "code",
      "source": [
        "mat2 = np.ones( [5,5])\n",
        "mat2"
      ],
      "metadata": {
        "colab": {
          "base_uri": "https://localhost:8080/"
        },
        "id": "90TWT51CPhQ9",
        "outputId": "089d83ef-11f6-4697-a8bf-702b248f0498"
      },
      "execution_count": 103,
      "outputs": [
        {
          "output_type": "execute_result",
          "data": {
            "text/plain": [
              "array([[1., 1., 1., 1., 1.],\n",
              "       [1., 1., 1., 1., 1.],\n",
              "       [1., 1., 1., 1., 1.],\n",
              "       [1., 1., 1., 1., 1.],\n",
              "       [1., 1., 1., 1., 1.]])"
            ]
          },
          "metadata": {},
          "execution_count": 103
        }
      ]
    },
    {
      "cell_type": "code",
      "source": [
        "mat3 = mat1 + 2* mat2\n",
        "mat3"
      ],
      "metadata": {
        "colab": {
          "base_uri": "https://localhost:8080/"
        },
        "id": "BCHB-MIIPhCH",
        "outputId": "4be398c3-2d92-4f04-b979-20428467fb1f"
      },
      "execution_count": 104,
      "outputs": [
        {
          "output_type": "execute_result",
          "data": {
            "text/plain": [
              "array([[2., 2., 2., 2., 2.],\n",
              "       [2., 2., 2., 2., 2.],\n",
              "       [2., 2., 2., 2., 2.],\n",
              "       [2., 2., 2., 2., 2.],\n",
              "       [2., 2., 2., 2., 2.]])"
            ]
          },
          "metadata": {},
          "execution_count": 104
        }
      ]
    },
    {
      "cell_type": "code",
      "source": [
        "mat4 = mat3\n",
        "mat3[3][2] = 10\n",
        "mat3\n",
        "mat4"
      ],
      "metadata": {
        "colab": {
          "base_uri": "https://localhost:8080/"
        },
        "id": "g4vGXZsYPvug",
        "outputId": "42c9bec2-c96d-4fb8-b457-91e6ef1e739b"
      },
      "execution_count": 105,
      "outputs": [
        {
          "output_type": "execute_result",
          "data": {
            "text/plain": [
              "array([[ 2.,  2.,  2.,  2.,  2.],\n",
              "       [ 2.,  2.,  2.,  2.,  2.],\n",
              "       [ 2.,  2.,  2.,  2.,  2.],\n",
              "       [ 2.,  2., 10.,  2.,  2.],\n",
              "       [ 2.,  2.,  2.,  2.,  2.]])"
            ]
          },
          "metadata": {},
          "execution_count": 105
        }
      ]
    },
    {
      "cell_type": "code",
      "source": [
        "mat5 = np.copy(mat3)\n",
        "mat3[3][2] = 10\n",
        "mat3\n",
        "mat4\n",
        "mat5"
      ],
      "metadata": {
        "colab": {
          "base_uri": "https://localhost:8080/"
        },
        "id": "PfR84ZNtPwV4",
        "outputId": "e832ac3b-78d2-4358-8702-1ffec06f5f23"
      },
      "execution_count": 107,
      "outputs": [
        {
          "output_type": "execute_result",
          "data": {
            "text/plain": [
              "array([[ 2.,  2.,  2.,  2.,  2.],\n",
              "       [ 2.,  2.,  2.,  2.,  2.],\n",
              "       [ 2.,  2.,  2.,  2.,  2.],\n",
              "       [ 2.,  2., 10.,  2.,  2.],\n",
              "       [ 2.,  2.,  2.,  2.,  2.]])"
            ]
          },
          "metadata": {},
          "execution_count": 107
        }
      ]
    },
    {
      "cell_type": "code",
      "source": [
        "mat6 = np.empty([4, 5])\n",
        "mat6"
      ],
      "metadata": {
        "colab": {
          "base_uri": "https://localhost:8080/"
        },
        "id": "hlwEQSl6PwNa",
        "outputId": "2c33067b-b31b-480d-86b0-e6fc841eba31"
      },
      "execution_count": 108,
      "outputs": [
        {
          "output_type": "execute_result",
          "data": {
            "text/plain": [
              "array([[1.96781208e-316, 1.10343781e-312, 1.29441743e-312,\n",
              "        2.31297541e-312, 2.46151512e-312],\n",
              "       [2.12199579e-313, 2.05833592e-312, 1.08221785e-312,\n",
              "        1.08221785e-312, 1.93101617e-312],\n",
              "       [1.97345609e-312, 1.29441743e-312, 1.03977794e-312,\n",
              "        2.12199579e-313, 2.05833592e-312],\n",
              "       [1.08221785e-312, 2.31297541e-312, 2.46151512e-312,\n",
              "        1.08221785e-312, 0.00000000e+000]])"
            ]
          },
          "metadata": {},
          "execution_count": 108
        }
      ]
    },
    {
      "cell_type": "code",
      "source": [
        " mat7 = np.identity(4)\n",
        " mat7"
      ],
      "metadata": {
        "colab": {
          "base_uri": "https://localhost:8080/"
        },
        "id": "O0PGhAXWQB5w",
        "outputId": "8c05a84e-f8c1-4860-b281-0d3f9e174ba1"
      },
      "execution_count": 109,
      "outputs": [
        {
          "output_type": "execute_result",
          "data": {
            "text/plain": [
              "array([[1., 0., 0., 0.],\n",
              "       [0., 1., 0., 0.],\n",
              "       [0., 0., 1., 0.],\n",
              "       [0., 0., 0., 1.]])"
            ]
          },
          "metadata": {},
          "execution_count": 109
        }
      ]
    },
    {
      "cell_type": "code",
      "source": [
        "mat8 = np.random.random([4,5])\n",
        "mat8"
      ],
      "metadata": {
        "colab": {
          "base_uri": "https://localhost:8080/"
        },
        "id": "lD9GFh8bQILD",
        "outputId": "0833c63a-7af3-4b9c-b004-9d1a23e64f50"
      },
      "execution_count": 111,
      "outputs": [
        {
          "output_type": "execute_result",
          "data": {
            "text/plain": [
              "array([[0.64753644, 0.24479328, 0.1991399 , 0.8340427 , 0.51483469],\n",
              "       [0.3993358 , 0.21341014, 0.96610063, 0.86186601, 0.37597649],\n",
              "       [0.14444258, 0.41077066, 0.54940658, 0.29042389, 0.33434321],\n",
              "       [0.42439293, 0.06326481, 0.48671406, 0.82059265, 0.442954  ]])"
            ]
          },
          "metadata": {},
          "execution_count": 111
        }
      ]
    }
  ]
}