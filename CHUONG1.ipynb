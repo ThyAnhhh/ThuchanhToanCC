{
  "nbformat": 4,
  "nbformat_minor": 0,
  "metadata": {
    "colab": {
      "provenance": [],
      "authorship_tag": "ABX9TyOR2bSr51gyCvqoVYY9NSVD",
      "include_colab_link": true
    },
    "kernelspec": {
      "name": "python3",
      "display_name": "Python 3"
    },
    "language_info": {
      "name": "python"
    }
  },
  "cells": [
    {
      "cell_type": "markdown",
      "metadata": {
        "id": "view-in-github",
        "colab_type": "text"
      },
      "source": [
        "<a href=\"https://colab.research.google.com/github/ThyAnhhh/ThuchanhToanCC/blob/main/CHUONG1.ipynb\" target=\"_parent\"><img src=\"https://colab.research.google.com/assets/colab-badge.svg\" alt=\"Open In Colab\"/></a>"
      ]
    },
    {
      "cell_type": "code",
      "execution_count": 1,
      "metadata": {
        "id": "KgbROFUdBwjp"
      },
      "outputs": [],
      "source": [
        "#Ho ten: Ta Huynh Thy Anh\n",
        "#MSSV: 2174802010828\n",
        "#Chuong1: SYMPY & NUMPY"
      ]
    },
    {
      "cell_type": "code",
      "source": [
        "#1.2.1 Các phép xử lý với danh sách\n",
        "danhsach1 = [1., 3.]\n",
        "danhsach2 = [5., 7.]\n",
        "danhsach = danhsach1 + danhsach2"
      ],
      "metadata": {
        "id": "v_4pzPOoCTME"
      },
      "execution_count": 2,
      "outputs": []
    },
    {
      "cell_type": "code",
      "source": [
        "danhsach_gapdoi = 2*danhsach\n",
        "danhsach_gapdoi"
      ],
      "metadata": {
        "colab": {
          "base_uri": "https://localhost:8080/"
        },
        "id": "8oja_pzoCt9S",
        "outputId": "ba08bb5e-4018-4a03-87d4-9868e42c10b7"
      },
      "execution_count": 4,
      "outputs": [
        {
          "output_type": "execute_result",
          "data": {
            "text/plain": [
              "[1.0, 3.0, 5.0, 7.0, 1.0, 3.0, 5.0, 7.0]"
            ]
          },
          "metadata": {},
          "execution_count": 4
        }
      ]
    },
    {
      "cell_type": "code",
      "source": [
        "danhsach*2"
      ],
      "metadata": {
        "colab": {
          "base_uri": "https://localhost:8080/"
        },
        "id": "E3RLfS1MCziE",
        "outputId": "b4df087f-8590-4f71-c671-a5ba10b268a0"
      },
      "execution_count": 5,
      "outputs": [
        {
          "output_type": "execute_result",
          "data": {
            "text/plain": [
              "[1.0, 3.0, 5.0, 7.0, 1.0, 3.0, 5.0, 7.0]"
            ]
          },
          "metadata": {},
          "execution_count": 5
        }
      ]
    },
    {
      "cell_type": "code",
      "source": [
        "danhsach/2"
      ],
      "metadata": {
        "colab": {
          "base_uri": "https://localhost:8080/",
          "height": 164
        },
        "id": "4cmgixtHCz47",
        "outputId": "35b35957-d2ca-438b-df87-42fa08e07e9d"
      },
      "execution_count": 6,
      "outputs": [
        {
          "output_type": "error",
          "ename": "TypeError",
          "evalue": "ignored",
          "traceback": [
            "\u001b[0;31m---------------------------------------------------------------------------\u001b[0m",
            "\u001b[0;31mTypeError\u001b[0m                                 Traceback (most recent call last)",
            "\u001b[0;32m<ipython-input-6-1a8cd7e4a434>\u001b[0m in \u001b[0;36m<module>\u001b[0;34m\u001b[0m\n\u001b[0;32m----> 1\u001b[0;31m \u001b[0mdanhsach\u001b[0m\u001b[0;34m/\u001b[0m\u001b[0;36m2\u001b[0m\u001b[0;34m\u001b[0m\u001b[0;34m\u001b[0m\u001b[0m\n\u001b[0m",
            "\u001b[0;31mTypeError\u001b[0m: unsupported operand type(s) for /: 'list' and 'int'"
          ]
        }
      ]
    },
    {
      "cell_type": "code",
      "source": [
        "mon_hoc = ['ToanCC', 'DSTT', 'ToanRR', 'LaptrinhCB']\n",
        "thu_tu = [2,3,4,1]\n",
        "diem_so = [10,9,8,7]\n",
        "anh_xa = zip(thu_tu, mon_hoc, diem_so)\n",
        "anh_xa"
      ],
      "metadata": {
        "colab": {
          "base_uri": "https://localhost:8080/"
        },
        "id": "_7jsp8ZkDCeI",
        "outputId": "8048be3a-df83-4514-ee9b-1ad20583d77a"
      },
      "execution_count": 7,
      "outputs": [
        {
          "output_type": "execute_result",
          "data": {
            "text/plain": [
              "<zip at 0x7f251ac462d0>"
            ]
          },
          "metadata": {},
          "execution_count": 7
        }
      ]
    },
    {
      "cell_type": "code",
      "source": [
        "tap_hop = set(anh_xa)\n",
        "tap_hop"
      ],
      "metadata": {
        "colab": {
          "base_uri": "https://localhost:8080/"
        },
        "id": "R2-nuuQNDDR2",
        "outputId": "a0f0032a-a614-44fc-92f4-a0ee054b8196"
      },
      "execution_count": 8,
      "outputs": [
        {
          "output_type": "execute_result",
          "data": {
            "text/plain": [
              "{(1, 'LaptrinhCB', 7), (2, 'ToanCC', 10), (3, 'DSTT', 9), (4, 'ToanRR', 8)}"
            ]
          },
          "metadata": {},
          "execution_count": 8
        }
      ]
    },
    {
      "cell_type": "code",
      "source": [
        "lay_TT, lay_monhoc, lay_diem = zip(*anh_xa)\n",
        "lay_monhoc"
      ],
      "metadata": {
        "colab": {
          "base_uri": "https://localhost:8080/",
          "height": 181
        },
        "id": "0ubf6unWDDNO",
        "outputId": "376758cb-3acc-4353-fb1e-dfe0fa526bea"
      },
      "execution_count": 9,
      "outputs": [
        {
          "output_type": "error",
          "ename": "ValueError",
          "evalue": "ignored",
          "traceback": [
            "\u001b[0;31m---------------------------------------------------------------------------\u001b[0m",
            "\u001b[0;31mValueError\u001b[0m                                Traceback (most recent call last)",
            "\u001b[0;32m<ipython-input-9-9010897b8a23>\u001b[0m in \u001b[0;36m<module>\u001b[0;34m\u001b[0m\n\u001b[0;32m----> 1\u001b[0;31m \u001b[0mlay_TT\u001b[0m\u001b[0;34m,\u001b[0m \u001b[0mlay_monhoc\u001b[0m\u001b[0;34m,\u001b[0m \u001b[0mlay_diem\u001b[0m \u001b[0;34m=\u001b[0m \u001b[0mzip\u001b[0m\u001b[0;34m(\u001b[0m\u001b[0;34m*\u001b[0m\u001b[0manh_xa\u001b[0m\u001b[0;34m)\u001b[0m\u001b[0;34m\u001b[0m\u001b[0;34m\u001b[0m\u001b[0m\n\u001b[0m\u001b[1;32m      2\u001b[0m \u001b[0mlay_monhoc\u001b[0m\u001b[0;34m\u001b[0m\u001b[0;34m\u001b[0m\u001b[0m\n",
            "\u001b[0;31mValueError\u001b[0m: not enough values to unpack (expected 3, got 0)"
          ]
        }
      ]
    },
    {
      "cell_type": "code",
      "source": [
        "import itertools\n",
        "tap_sinh = list(itertools.chain(range(4), range(5,10), range(15,20)))\n",
        "tap_sinh"
      ],
      "metadata": {
        "colab": {
          "base_uri": "https://localhost:8080/"
        },
        "id": "23LnK7plDDGO",
        "outputId": "59a96c39-f2f3-47de-c25b-d0c58f078bec"
      },
      "execution_count": 10,
      "outputs": [
        {
          "output_type": "execute_result",
          "data": {
            "text/plain": [
              "[0, 1, 2, 3, 5, 6, 7, 8, 9, 15, 16, 17, 18, 19]"
            ]
          },
          "metadata": {},
          "execution_count": 10
        }
      ]
    },
    {
      "cell_type": "code",
      "source": [
        "list(zip(range(4), range(7,12), reversed(range(11))))"
      ],
      "metadata": {
        "colab": {
          "base_uri": "https://localhost:8080/"
        },
        "id": "RA1jQ89eEJfQ",
        "outputId": "088a6e64-5b3b-493f-995a-c9339b7b42f6"
      },
      "execution_count": 11,
      "outputs": [
        {
          "output_type": "execute_result",
          "data": {
            "text/plain": [
              "[(0, 7, 10), (1, 8, 9), (2, 9, 8), (3, 10, 7)]"
            ]
          },
          "metadata": {},
          "execution_count": 11
        }
      ]
    },
    {
      "cell_type": "code",
      "source": [
        "#2.1 Dinh nghia Symbol va cac phep toan hinh thuc (symbolic)"
      ],
      "metadata": {
        "id": "aZsXfapmEJbt"
      },
      "execution_count": null,
      "outputs": []
    },
    {
      "cell_type": "code",
      "source": [
        "from sympy import Symbol\n",
        "x = Symbol('x')\n",
        "f = x+x+x+2\n",
        "f"
      ],
      "metadata": {
        "colab": {
          "base_uri": "https://localhost:8080/",
          "height": 38
        },
        "id": "IRmZhx5TEJVL",
        "outputId": "f84fb27c-b08d-4934-e29d-54c44f5abda2"
      },
      "execution_count": 12,
      "outputs": [
        {
          "output_type": "execute_result",
          "data": {
            "text/plain": [
              "3*x + 2"
            ],
            "text/latex": "$\\displaystyle 3 x + 2$"
          },
          "metadata": {},
          "execution_count": 12
        }
      ]
    },
    {
      "cell_type": "code",
      "source": [
        "a = Symbol('Noi')\n",
        "b = Symbol('Chim')\n",
        "3*b + 7*a"
      ],
      "metadata": {
        "colab": {
          "base_uri": "https://localhost:8080/",
          "height": 38
        },
        "id": "RK0Qy2YrEJMH",
        "outputId": "dd3ed0e5-2e55-4372-bf90-c7395634fd4f"
      },
      "execution_count": 13,
      "outputs": [
        {
          "output_type": "execute_result",
          "data": {
            "text/plain": [
              "3*Chim + 7*Noi"
            ],
            "text/latex": "$\\displaystyle 3 Chim + 7 Noi$"
          },
          "metadata": {},
          "execution_count": 13
        }
      ]
    },
    {
      "cell_type": "code",
      "source": [
        "a = Symbol('Noi')\n",
        "b = Symbol('Chim')\n",
        "a.name"
      ],
      "metadata": {
        "colab": {
          "base_uri": "https://localhost:8080/",
          "height": 37
        },
        "id": "uh2uvOvMFXPn",
        "outputId": "45e0e66d-3038-482f-9166-e23670599669"
      },
      "execution_count": 14,
      "outputs": [
        {
          "output_type": "execute_result",
          "data": {
            "text/plain": [
              "'Noi'"
            ],
            "application/vnd.google.colaboratory.intrinsic+json": {
              "type": "string"
            }
          },
          "metadata": {},
          "execution_count": 14
        }
      ]
    },
    {
      "cell_type": "code",
      "source": [
        "b.name"
      ],
      "metadata": {
        "colab": {
          "base_uri": "https://localhost:8080/",
          "height": 37
        },
        "id": "sv89RXjRFXLc",
        "outputId": "787aecda-00fd-416d-f1e2-4d2d003cfff2"
      },
      "execution_count": 15,
      "outputs": [
        {
          "output_type": "execute_result",
          "data": {
            "text/plain": [
              "'Chim'"
            ],
            "application/vnd.google.colaboratory.intrinsic+json": {
              "type": "string"
            }
          },
          "metadata": {},
          "execution_count": 15
        }
      ]
    },
    {
      "cell_type": "code",
      "source": [
        "x = Symbol('x')\n",
        "y = Symbol('y')\n",
        "z = Symbol('z')"
      ],
      "metadata": {
        "id": "4tvKHrG_FXHU"
      },
      "execution_count": 16,
      "outputs": []
    },
    {
      "cell_type": "code",
      "source": [
        "from sympy import symbols \n",
        "a,b,c = symbols('a,b,c')"
      ],
      "metadata": {
        "id": "C_wuvl7QFXDU"
      },
      "execution_count": 17,
      "outputs": []
    },
    {
      "cell_type": "code",
      "source": [
        "from sympy import Symbol\n",
        "x = Symbol('x')\n",
        "y = Symbol('y')\n",
        "s = x*y + y*x\n",
        "s"
      ],
      "metadata": {
        "colab": {
          "base_uri": "https://localhost:8080/",
          "height": 38
        },
        "id": "tCb7fUmNFW_d",
        "outputId": "1e863cd0-9b08-4f1c-cd12-bc8e8b10811d"
      },
      "execution_count": 18,
      "outputs": [
        {
          "output_type": "execute_result",
          "data": {
            "text/plain": [
              "2*x*y"
            ],
            "text/latex": "$\\displaystyle 2 x y$"
          },
          "metadata": {},
          "execution_count": 18
        }
      ]
    },
    {
      "cell_type": "code",
      "source": [
        "p = x*(x+2*x)\n",
        "p"
      ],
      "metadata": {
        "colab": {
          "base_uri": "https://localhost:8080/",
          "height": 38
        },
        "id": "y6UkUqx3FW66",
        "outputId": "90076210-24ad-459b-acc7-bf69e3501a4f"
      },
      "execution_count": 19,
      "outputs": [
        {
          "output_type": "execute_result",
          "data": {
            "text/plain": [
              "3*x**2"
            ],
            "text/latex": "$\\displaystyle 3 x^{2}$"
          },
          "metadata": {},
          "execution_count": 19
        }
      ]
    },
    {
      "cell_type": "code",
      "source": [
        "p = (x+2)*(y+3)\n",
        "p\n",
        "(x + 2)*(y + 3)\n",
        "p = (x+2)*(y+3) + (x+2)*(x-3)\n",
        "p"
      ],
      "metadata": {
        "colab": {
          "base_uri": "https://localhost:8080/",
          "height": 38
        },
        "id": "68T_vOtyGvIX",
        "outputId": "3e26aabb-f915-4479-fe7e-9baf20097355"
      },
      "execution_count": 20,
      "outputs": [
        {
          "output_type": "execute_result",
          "data": {
            "text/plain": [
              "(x - 3)*(x + 2) + (x + 2)*(y + 3)"
            ],
            "text/latex": "$\\displaystyle \\left(x - 3\\right) \\left(x + 2\\right) + \\left(x + 2\\right) \\left(y + 3\\right)$"
          },
          "metadata": {},
          "execution_count": 20
        }
      ]
    },
    {
      "cell_type": "code",
      "source": [
        "p = x*(-x+2*x-x)\n",
        "p"
      ],
      "metadata": {
        "colab": {
          "base_uri": "https://localhost:8080/",
          "height": 37
        },
        "id": "g--VaLcsGvCp",
        "outputId": "496065cf-9b22-4318-958c-f8f3cf463c59"
      },
      "execution_count": 21,
      "outputs": [
        {
          "output_type": "execute_result",
          "data": {
            "text/plain": [
              "0"
            ],
            "text/latex": "$\\displaystyle 0$"
          },
          "metadata": {},
          "execution_count": 21
        }
      ]
    },
    {
      "cell_type": "code",
      "source": [
        "p = (x+2)*(y+3)\n",
        "p.expand()"
      ],
      "metadata": {
        "colab": {
          "base_uri": "https://localhost:8080/",
          "height": 38
        },
        "id": "7rtX-pOHGu9p",
        "outputId": "f6b86ef3-bd0d-47c4-d485-6256b798d82b"
      },
      "execution_count": 22,
      "outputs": [
        {
          "output_type": "execute_result",
          "data": {
            "text/plain": [
              "x*y + 3*x + 2*y + 6"
            ],
            "text/latex": "$\\displaystyle x y + 3 x + 2 y + 6$"
          },
          "metadata": {},
          "execution_count": 22
        }
      ]
    },
    {
      "cell_type": "code",
      "source": [
        "#2.2.1 Dat nhan tu chung va khai trien bieu thuc"
      ],
      "metadata": {
        "id": "g22IJs6OGu4t"
      },
      "execution_count": null,
      "outputs": []
    },
    {
      "cell_type": "code",
      "source": [
        "from sympy import factor\n",
        "bieuthuc = x**3 - y**3\n",
        "factor(bieuthuc)"
      ],
      "metadata": {
        "colab": {
          "base_uri": "https://localhost:8080/",
          "height": 39
        },
        "id": "rZcv132zGux_",
        "outputId": "d2e0344c-1ca2-4be6-c7ac-80dca7275533"
      },
      "execution_count": 23,
      "outputs": [
        {
          "output_type": "execute_result",
          "data": {
            "text/plain": [
              "(x - y)*(x**2 + x*y + y**2)"
            ],
            "text/latex": "$\\displaystyle \\left(x - y\\right) \\left(x^{2} + x y + y^{2}\\right)$"
          },
          "metadata": {},
          "execution_count": 23
        }
      ]
    },
    {
      "cell_type": "code",
      "source": [
        " from sympy import expand\n",
        "bieuthuc = (x - y)*(x**2 + x*y + y**2)\n",
        "expand(bieuthuc)"
      ],
      "metadata": {
        "colab": {
          "base_uri": "https://localhost:8080/",
          "height": 38
        },
        "id": "fRMFia6pGutQ",
        "outputId": "e5f622fd-4a70-4244-cdb4-38e53e776f39"
      },
      "execution_count": 24,
      "outputs": [
        {
          "output_type": "execute_result",
          "data": {
            "text/plain": [
              "x**3 - y**3"
            ],
            "text/latex": "$\\displaystyle x^{3} - y^{3}$"
          },
          "metadata": {},
          "execution_count": 24
        }
      ]
    },
    {
      "cell_type": "code",
      "source": [
        "#2.2.3 Thay the gia tri"
      ],
      "metadata": {
        "id": "gqr0ZR8AGuiq"
      },
      "execution_count": null,
      "outputs": []
    },
    {
      "cell_type": "code",
      "source": [
        "from sympy import Symbol\n",
        "x = Symbol('x')\n",
        "y = Symbol('y')\n",
        "bieuthuc = x*x - x*y + y*y\n",
        "bieuthuc"
      ],
      "metadata": {
        "colab": {
          "base_uri": "https://localhost:8080/",
          "height": 38
        },
        "id": "OjIiXYGAIP4n",
        "outputId": "3ccb466f-957b-41fb-c3fa-fec4ac32778b"
      },
      "execution_count": 25,
      "outputs": [
        {
          "output_type": "execute_result",
          "data": {
            "text/plain": [
              "x**2 - x*y + y**2"
            ],
            "text/latex": "$\\displaystyle x^{2} - x y + y^{2}$"
          },
          "metadata": {},
          "execution_count": 25
        }
      ]
    },
    {
      "cell_type": "code",
      "source": [
        "giatri = bieuthuc.subs({x:3, y:2})\n",
        "giatri"
      ],
      "metadata": {
        "colab": {
          "base_uri": "https://localhost:8080/",
          "height": 37
        },
        "id": "mAQMurPKIPyi",
        "outputId": "d96080ab-0c5e-4ca3-f07a-e0d457d55339"
      },
      "execution_count": 26,
      "outputs": [
        {
          "output_type": "execute_result",
          "data": {
            "text/plain": [
              "7"
            ],
            "text/latex": "$\\displaystyle 7$"
          },
          "metadata": {},
          "execution_count": 26
        }
      ]
    },
    {
      "cell_type": "code",
      "source": [
        "#Thuc hanh:\n",
        "#Tinh huong 1\n",
        "giatri = bieuthuc.subs({x:3, y:x})\n",
        "giatri"
      ],
      "metadata": {
        "colab": {
          "base_uri": "https://localhost:8080/",
          "height": 38
        },
        "id": "BYaW4X-AIPri",
        "outputId": "a9b3ddb1-3aa5-4b5c-e50a-ca1f93f4aa92"
      },
      "execution_count": 29,
      "outputs": [
        {
          "output_type": "execute_result",
          "data": {
            "text/plain": [
              "x**2 - 3*x + 9"
            ],
            "text/latex": "$\\displaystyle x^{2} - 3 x + 9$"
          },
          "metadata": {},
          "execution_count": 29
        }
      ]
    },
    {
      "cell_type": "code",
      "source": [
        "#Tinh huong 2\n",
        "giatri = bieuthuc.subs({x:y, y:3})\n",
        "giatri"
      ],
      "metadata": {
        "colab": {
          "base_uri": "https://localhost:8080/",
          "height": 37
        },
        "id": "s5VcVnleIPnb",
        "outputId": "e9743868-6680-437e-f0cf-198bd238fa85"
      },
      "execution_count": 30,
      "outputs": [
        {
          "output_type": "execute_result",
          "data": {
            "text/plain": [
              "9"
            ],
            "text/latex": "$\\displaystyle 9$"
          },
          "metadata": {},
          "execution_count": 30
        }
      ]
    },
    {
      "cell_type": "code",
      "source": [
        "#Tinh huong 3\n",
        "giatri = bieuthuc.subs({y:x}).subs({x:3})\n",
        "giatri"
      ],
      "metadata": {
        "colab": {
          "base_uri": "https://localhost:8080/",
          "height": 37
        },
        "id": "zlkD60msIPY-",
        "outputId": "76e01610-a079-4eb5-f767-a115def84416"
      },
      "execution_count": 31,
      "outputs": [
        {
          "output_type": "execute_result",
          "data": {
            "text/plain": [
              "9"
            ],
            "text/latex": "$\\displaystyle 9$"
          },
          "metadata": {},
          "execution_count": 31
        }
      ]
    },
    {
      "cell_type": "code",
      "source": [
        "from sympy import Symbol\n",
        "x = Symbol('x')\n",
        "y = Symbol('y')\n",
        "bieuthuc = x*x - x*y + y*y\n",
        "bieuthuc\n",
        "bieuthuc_moi=bieuthuc.subs({x:1-y})\n",
        "bieuthuc_moi"
      ],
      "metadata": {
        "colab": {
          "base_uri": "https://localhost:8080/",
          "height": 39
        },
        "id": "4J4KnjB0IPPC",
        "outputId": "158c7057-847c-4c69-f054-23eba3302a28"
      },
      "execution_count": 37,
      "outputs": [
        {
          "output_type": "execute_result",
          "data": {
            "text/plain": [
              "y**2 - y*(1 - y) + (1 - y)**2"
            ],
            "text/latex": "$\\displaystyle y^{2} - y \\left(1 - y\\right) + \\left(1 - y\\right)^{2}$"
          },
          "metadata": {},
          "execution_count": 37
        }
      ]
    },
    {
      "cell_type": "code",
      "source": [
        "from sympy import simplify\n",
        "dongian = simplify(bieuthuc_moi)\n",
        "dongian"
      ],
      "metadata": {
        "colab": {
          "base_uri": "https://localhost:8080/",
          "height": 38
        },
        "id": "68Jm9hENI7wJ",
        "outputId": "237cc6a8-2567-41d4-f563-9cc0f338810b"
      },
      "execution_count": 38,
      "outputs": [
        {
          "output_type": "execute_result",
          "data": {
            "text/plain": [
              "3*y**2 - 3*y + 1"
            ],
            "text/latex": "$\\displaystyle 3 y^{2} - 3 y + 1$"
          },
          "metadata": {},
          "execution_count": 38
        }
      ]
    },
    {
      "cell_type": "code",
      "source": [
        "from sympy import Symbol\n",
        "from sympy import sin, cos \n",
        "x = Symbol('x')\n",
        "y = Symbol('y')\n",
        "bt = sin(x)*cos(y) + cos(x)*sin(y)\n",
        "bt_moi = simplify(bt)\n",
        "bt_moi"
      ],
      "metadata": {
        "colab": {
          "base_uri": "https://localhost:8080/",
          "height": 38
        },
        "id": "XLsUVYzpI7d2",
        "outputId": "eafc5082-0e00-44bf-9feb-83aae9d20e5a"
      },
      "execution_count": 41,
      "outputs": [
        {
          "output_type": "execute_result",
          "data": {
            "text/plain": [
              "sin(x + y)"
            ],
            "text/latex": "$\\displaystyle \\sin{\\left(x + y \\right)}$"
          },
          "metadata": {},
          "execution_count": 41
        }
      ]
    },
    {
      "cell_type": "code",
      "source": [
        "#3.1 Mot so lenh co ban numpy xu ly vecto\n",
        "import numpy as np\n",
        "from numpy import *"
      ],
      "metadata": {
        "id": "HUBOGlLiI7Xk"
      },
      "execution_count": 51,
      "outputs": []
    },
    {
      "cell_type": "code",
      "source": [
        "vec1 = np.array([1., 3., 5.])\n",
        "vec1 * 2"
      ],
      "metadata": {
        "colab": {
          "base_uri": "https://localhost:8080/"
        },
        "id": "OvzUkc-5I7RY",
        "outputId": "5573e68d-5cd7-45d8-ceab-10039527110b"
      },
      "execution_count": 44,
      "outputs": [
        {
          "output_type": "execute_result",
          "data": {
            "text/plain": [
              "array([ 2.,  6., 10.])"
            ]
          },
          "metadata": {},
          "execution_count": 44
        }
      ]
    },
    {
      "cell_type": "code",
      "source": [
        "vec1 * vec1"
      ],
      "metadata": {
        "colab": {
          "base_uri": "https://localhost:8080/"
        },
        "id": "zdjxyzBcI7K9",
        "outputId": "23521d11-4daf-4a41-efec-f52f763d43e7"
      },
      "execution_count": 45,
      "outputs": [
        {
          "output_type": "execute_result",
          "data": {
            "text/plain": [
              "array([ 1.,  9., 25.])"
            ]
          },
          "metadata": {},
          "execution_count": 45
        }
      ]
    },
    {
      "cell_type": "code",
      "source": [
        "vec1 /2"
      ],
      "metadata": {
        "colab": {
          "base_uri": "https://localhost:8080/"
        },
        "id": "ydAiOZckI7Ez",
        "outputId": "45418e8d-5d7e-4a9e-fa88-ba00433cce74"
      },
      "execution_count": 46,
      "outputs": [
        {
          "output_type": "execute_result",
          "data": {
            "text/plain": [
              "array([0.5, 1.5, 2.5])"
            ]
          },
          "metadata": {},
          "execution_count": 46
        }
      ]
    },
    {
      "cell_type": "code",
      "source": [
        "vec1 + vec1"
      ],
      "metadata": {
        "colab": {
          "base_uri": "https://localhost:8080/"
        },
        "id": "LoW0J6JUKQi9",
        "outputId": "8077ae28-10ab-4c64-fa10-e1599cbacffa"
      },
      "execution_count": 47,
      "outputs": [
        {
          "output_type": "execute_result",
          "data": {
            "text/plain": [
              "array([ 2.,  6., 10.])"
            ]
          },
          "metadata": {},
          "execution_count": 47
        }
      ]
    },
    {
      "cell_type": "code",
      "source": [
        "vec2 = array([2., 4.]) \n",
        "vec1 + vec2"
      ],
      "metadata": {
        "colab": {
          "base_uri": "https://localhost:8080/",
          "height": 181
        },
        "id": "VyRceyYBKTsO",
        "outputId": "76125b10-e075-479c-ea3a-b4a72e6b6d9a"
      },
      "execution_count": 53,
      "outputs": [
        {
          "output_type": "error",
          "ename": "ValueError",
          "evalue": "ignored",
          "traceback": [
            "\u001b[0;31m---------------------------------------------------------------------------\u001b[0m",
            "\u001b[0;31mValueError\u001b[0m                                Traceback (most recent call last)",
            "\u001b[0;32m<ipython-input-53-196b68c3b1e2>\u001b[0m in \u001b[0;36m<module>\u001b[0;34m\u001b[0m\n\u001b[1;32m      1\u001b[0m \u001b[0mvec2\u001b[0m \u001b[0;34m=\u001b[0m \u001b[0marray\u001b[0m\u001b[0;34m(\u001b[0m\u001b[0;34m[\u001b[0m\u001b[0;36m2.\u001b[0m\u001b[0;34m,\u001b[0m \u001b[0;36m4.\u001b[0m\u001b[0;34m]\u001b[0m\u001b[0;34m)\u001b[0m\u001b[0;34m\u001b[0m\u001b[0;34m\u001b[0m\u001b[0m\n\u001b[0;32m----> 2\u001b[0;31m \u001b[0mvec1\u001b[0m \u001b[0;34m+\u001b[0m \u001b[0mvec2\u001b[0m\u001b[0;34m\u001b[0m\u001b[0;34m\u001b[0m\u001b[0m\n\u001b[0m",
            "\u001b[0;31mValueError\u001b[0m: operands could not be broadcast together with shapes (3,) (2,) "
          ]
        }
      ]
    },
    {
      "cell_type": "code",
      "source": [
        "vec3 = array([2., 4., 6.])\n",
        "vec1 + vec3"
      ],
      "metadata": {
        "colab": {
          "base_uri": "https://localhost:8080/"
        },
        "id": "81j--E92KTjr",
        "outputId": "c0f74a82-6624-4644-f7b8-1ca47b3af676"
      },
      "execution_count": 54,
      "outputs": [
        {
          "output_type": "execute_result",
          "data": {
            "text/plain": [
              "array([ 3.,  7., 11.])"
            ]
          },
          "metadata": {},
          "execution_count": 54
        }
      ]
    },
    {
      "cell_type": "code",
      "source": [
        "vec1 / vec3"
      ],
      "metadata": {
        "colab": {
          "base_uri": "https://localhost:8080/"
        },
        "id": "LZxZS3ZiKTeu",
        "outputId": "4c4ad860-102b-49b0-a7ed-73ceb66afde4"
      },
      "execution_count": 55,
      "outputs": [
        {
          "output_type": "execute_result",
          "data": {
            "text/plain": [
              "array([0.5       , 0.75      , 0.83333333])"
            ]
          },
          "metadata": {},
          "execution_count": 55
        }
      ]
    },
    {
      "cell_type": "code",
      "source": [
        "vec1 * vec3"
      ],
      "metadata": {
        "colab": {
          "base_uri": "https://localhost:8080/"
        },
        "id": "N70PqL19KTaU",
        "outputId": "78fb54b4-80bf-415a-9d4c-8ba240fd046a"
      },
      "execution_count": 56,
      "outputs": [
        {
          "output_type": "execute_result",
          "data": {
            "text/plain": [
              "array([ 2., 12., 30.])"
            ]
          },
          "metadata": {},
          "execution_count": 56
        }
      ]
    },
    {
      "cell_type": "code",
      "source": [
        "2* vec1 + 5* vec3"
      ],
      "metadata": {
        "colab": {
          "base_uri": "https://localhost:8080/"
        },
        "id": "2tcWiRwTKTVk",
        "outputId": "79d0f33e-8f43-4140-deca-0b268b2f6b20"
      },
      "execution_count": 57,
      "outputs": [
        {
          "output_type": "execute_result",
          "data": {
            "text/plain": [
              "array([12., 26., 40.])"
            ]
          },
          "metadata": {},
          "execution_count": 57
        }
      ]
    },
    {
      "cell_type": "code",
      "source": [],
      "metadata": {
        "id": "dN7i83QTKTQ_"
      },
      "execution_count": null,
      "outputs": []
    },
    {
      "cell_type": "code",
      "source": [],
      "metadata": {
        "id": "mfXadll-KTMd"
      },
      "execution_count": null,
      "outputs": []
    },
    {
      "cell_type": "code",
      "source": [],
      "metadata": {
        "id": "FqP8j3tWKTIS"
      },
      "execution_count": null,
      "outputs": []
    },
    {
      "cell_type": "code",
      "source": [],
      "metadata": {
        "id": "Z3s1qbBIKTEo"
      },
      "execution_count": null,
      "outputs": []
    }
  ]
}