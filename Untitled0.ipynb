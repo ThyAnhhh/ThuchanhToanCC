{
  "nbformat": 4,
  "nbformat_minor": 0,
  "metadata": {
    "colab": {
      "name": "Untitled0.ipynb",
      "provenance": [],
      "collapsed_sections": [],
      "authorship_tag": "ABX9TyOwyj16qFOjsHCTWz8365St",
      "include_colab_link": true
    },
    "kernelspec": {
      "name": "python3",
      "display_name": "Python 3"
    },
    "language_info": {
      "name": "python"
    }
  },
  "cells": [
    {
      "cell_type": "markdown",
      "metadata": {
        "id": "view-in-github",
        "colab_type": "text"
      },
      "source": [
        "<a href=\"https://colab.research.google.com/github/ThyAnhhh/ThuchanhToanCC/blob/main/Untitled0.ipynb\" target=\"_parent\"><img src=\"https://colab.research.google.com/assets/colab-badge.svg\" alt=\"Open In Colab\"/></a>"
      ]
    },
    {
      "cell_type": "markdown",
      "source": [
        "Buổi 1 - Bài tập chương 1"
      ],
      "metadata": {
        "id": "KB_kRM9NEUcP"
      }
    },
    {
      "cell_type": "markdown",
      "source": [
        "Bài 1:"
      ],
      "metadata": {
        "id": "TFZ3xTlGEjtf"
      }
    },
    {
      "cell_type": "code",
      "source": [
        "3.000000000001 == 3.0"
      ],
      "metadata": {
        "colab": {
          "base_uri": "https://localhost:8080/"
        },
        "id": "B8c4L023EalO",
        "outputId": "4dad7c84-f9ff-4621-f092-03b9d272e184"
      },
      "execution_count": 8,
      "outputs": [
        {
          "output_type": "execute_result",
          "data": {
            "text/plain": [
              "False"
            ]
          },
          "metadata": {},
          "execution_count": 8
        }
      ]
    },
    {
      "cell_type": "code",
      "source": [
        "3.0000000000000001 == 3.0"
      ],
      "metadata": {
        "colab": {
          "base_uri": "https://localhost:8080/"
        },
        "id": "15YbLpDfFF79",
        "outputId": "907aa84e-fc42-4c34-ca9e-e89611972c41"
      },
      "execution_count": 9,
      "outputs": [
        {
          "output_type": "execute_result",
          "data": {
            "text/plain": [
              "True"
            ]
          },
          "metadata": {},
          "execution_count": 9
        }
      ]
    },
    {
      "cell_type": "code",
      "source": [
        "a = 3.1; b = 3.0; i = -1\n",
        "while (a != b):\n",
        "  print (a, \" != \", b)\n",
        "  a_new = a - 0.9 * 10 ** (i)\n",
        "  if (a_new != a):\n",
        "    a = a_new\n",
        "    i = i - 1\n",
        "  else: \n",
        "    print (i)\n",
        "    a = b"
      ],
      "metadata": {
        "colab": {
          "base_uri": "https://localhost:8080/"
        },
        "id": "7agCezsBFKPK",
        "outputId": "99bebb13-10b0-471d-e08a-3444af8e07dc"
      },
      "execution_count": 12,
      "outputs": [
        {
          "output_type": "stream",
          "name": "stdout",
          "text": [
            "3.1  !=  3.0\n",
            "3.0100000000000002  !=  3.0\n",
            "3.0010000000000003  !=  3.0\n",
            "3.0001  !=  3.0\n",
            "3.00001  !=  3.0\n",
            "3.000001  !=  3.0\n",
            "3.0000001000000003  !=  3.0\n",
            "3.0000000100000004  !=  3.0\n",
            "3.0000000010000005  !=  3.0\n",
            "3.0000000001000005  !=  3.0\n",
            "3.0000000000100004  !=  3.0\n",
            "3.0000000000010005  !=  3.0\n",
            "3.0000000000001004  !=  3.0\n",
            "3.00000000000001  !=  3.0\n",
            "3.0000000000000013  !=  3.0\n",
            "3.0000000000000004  !=  3.0\n",
            "-16\n"
          ]
        }
      ]
    },
    {
      "cell_type": "markdown",
      "source": [
        "Bài 2:"
      ],
      "metadata": {
        "id": "quC-pl7ONiQV"
      }
    },
    {
      "cell_type": "code",
      "source": [
        "a = True\n",
        "b = False\n",
        "1/0\n",
        "if ( a== b) and (1/0 > 0):\n",
        "  print('a=b')\n",
        "else:\n",
        "  print('a khác b')"
      ],
      "metadata": {
        "id": "GO26Nc-BNj9Q"
      },
      "execution_count": null,
      "outputs": []
    },
    {
      "cell_type": "code",
      "source": [
        "a = True\n",
        "b = False\n",
        "if (1/0 > 0) and (a == b):\n",
        "  print('a=b')\n",
        "else:\n",
        "  print('a khác b')"
      ],
      "metadata": {
        "id": "QQShobRjQjR2"
      },
      "execution_count": null,
      "outputs": []
    }
  ]
}