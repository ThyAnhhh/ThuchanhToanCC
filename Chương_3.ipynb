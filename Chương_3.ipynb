{
  "nbformat": 4,
  "nbformat_minor": 0,
  "metadata": {
    "colab": {
      "provenance": [],
      "collapsed_sections": [],
      "authorship_tag": "ABX9TyMmRDNnPTJk/6lfndOk6sjL",
      "include_colab_link": true
    },
    "kernelspec": {
      "name": "python3",
      "display_name": "Python 3"
    },
    "language_info": {
      "name": "python"
    }
  },
  "cells": [
    {
      "cell_type": "markdown",
      "metadata": {
        "id": "view-in-github",
        "colab_type": "text"
      },
      "source": [
        "<a href=\"https://colab.research.google.com/github/ThyAnhhh/ThuchanhToanCC/blob/main/Ch%C6%B0%C6%A1ng_3.ipynb\" target=\"_parent\"><img src=\"https://colab.research.google.com/assets/colab-badge.svg\" alt=\"Open In Colab\"/></a>"
      ]
    },
    {
      "cell_type": "code",
      "execution_count": null,
      "metadata": {
        "id": "oXLodmLy-oP1"
      },
      "outputs": [],
      "source": [
        "#MSSV: 2174802010828\n",
        "#Họ và tên: Tạ Huỳnh Thy Anh\n",
        "#Chương 3: Ma trận và hệ phương trình tuyến tính"
      ]
    },
    {
      "cell_type": "code",
      "source": [],
      "metadata": {
        "id": "hyukr1ki_PKh"
      },
      "execution_count": null,
      "outputs": []
    }
  ]
}