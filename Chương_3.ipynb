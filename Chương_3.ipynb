{
  "nbformat": 4,
  "nbformat_minor": 0,
  "metadata": {
    "colab": {
      "provenance": [],
      "collapsed_sections": [],
      "authorship_tag": "ABX9TyPw2yv1bf0sSgqezwsGYQNB",
      "include_colab_link": true
    },
    "kernelspec": {
      "name": "python3",
      "display_name": "Python 3"
    },
    "language_info": {
      "name": "python"
    }
  },
  "cells": [
    {
      "cell_type": "markdown",
      "metadata": {
        "id": "view-in-github",
        "colab_type": "text"
      },
      "source": [
        "<a href=\"https://colab.research.google.com/github/ThyAnhhh/ThuchanhToanCC/blob/main/Ch%C6%B0%C6%A1ng_3.ipynb\" target=\"_parent\"><img src=\"https://colab.research.google.com/assets/colab-badge.svg\" alt=\"Open In Colab\"/></a>"
      ]
    },
    {
      "cell_type": "code",
      "execution_count": null,
      "metadata": {
        "id": "oXLodmLy-oP1"
      },
      "outputs": [],
      "source": [
        "#MSSV: 2174802010828\n",
        "#Họ và tên: Tạ Huỳnh Thy Anh\n",
        "#Chương 3: Ma trận và hệ phương trình tuyến tính"
      ]
    },
    {
      "cell_type": "code",
      "source": [
        "#1. Tóm tắt một số phép xử lý ma trận của Numpy với Scipy\n",
        "#1.1 Một số phép xử lý ma trận của Numpy với Scipy"
      ],
      "metadata": {
        "id": "hyukr1ki_PKh"
      },
      "execution_count": null,
      "outputs": []
    },
    {
      "cell_type": "code",
      "source": [
        "from scipy import linalg\n",
        "import numpy as np\n",
        "a = np.array([1, 2, 3])\n",
        "b = np.array([(1+9j, 2j, 3j), (4j, 5j, 6j)])\n",
        "c = np.array([[ (0.5, 1.5, 10), (3,2,1) ] , [(6,5,4), (7,8,9)]])"
      ],
      "metadata": {
        "id": "h0K1RoI8Brqs"
      },
      "execution_count": 4,
      "outputs": []
    },
    {
      "cell_type": "code",
      "source": [
        "A = np.matrix(np.random.random( (2,2) ) )\n",
        "B = np.asmatrix(b)\n",
        "C = np.mat(np.random.random( (10,5) ) )\n",
        "D = np.mat([ [4, 3], [2, 6] ])\n",
        "F = np.eye(3, k=1)"
      ],
      "metadata": {
        "id": "ml3Ejou5B-Aa"
      },
      "execution_count": 7,
      "outputs": []
    },
    {
      "cell_type": "code",
      "source": [
        "F = np.eye(3, k=0)\n",
        "F = np.eye(3, k=-1)"
      ],
      "metadata": {
        "id": "xWv7VupICMaW"
      },
      "execution_count": 9,
      "outputs": []
    },
    {
      "cell_type": "code",
      "source": [
        "F"
      ],
      "metadata": {
        "colab": {
          "base_uri": "https://localhost:8080/"
        },
        "id": "gdYVRi-LCUmF",
        "outputId": "649fdcab-575c-44e8-8068-6ce99619ed04"
      },
      "execution_count": 10,
      "outputs": [
        {
          "output_type": "execute_result",
          "data": {
            "text/plain": [
              "array([[0., 0., 0.],\n",
              "       [1., 0., 0.],\n",
              "       [0., 1., 0.]])"
            ]
          },
          "metadata": {},
          "execution_count": 10
        }
      ]
    },
    {
      "cell_type": "code",
      "source": [
        "np.linalg.matrix_rank(C)"
      ],
      "metadata": {
        "colab": {
          "base_uri": "https://localhost:8080/"
        },
        "id": "4I7ReYPeCTxN",
        "outputId": "16e269a6-b2a6-4a6b-f0e4-ddd6d2183964"
      },
      "execution_count": 13,
      "outputs": [
        {
          "output_type": "execute_result",
          "data": {
            "text/plain": [
              "5"
            ]
          },
          "metadata": {},
          "execution_count": 13
        }
      ]
    },
    {
      "cell_type": "code",
      "source": [
        "A.I"
      ],
      "metadata": {
        "colab": {
          "base_uri": "https://localhost:8080/"
        },
        "id": "jR_V6GX0DDzi",
        "outputId": "f0ef17a3-299b-4056-de92-58fbb87d5027"
      },
      "execution_count": 14,
      "outputs": [
        {
          "output_type": "execute_result",
          "data": {
            "text/plain": [
              "matrix([[-4.49697941,  4.92246174],\n",
              "        [ 7.89793228, -6.27042244]])"
            ]
          },
          "metadata": {},
          "execution_count": 14
        }
      ]
    },
    {
      "cell_type": "code",
      "source": [
        " linalg.inv(A)"
      ],
      "metadata": {
        "colab": {
          "base_uri": "https://localhost:8080/"
        },
        "id": "H-aJ7JaKDG2E",
        "outputId": "3393993d-16f2-412d-bf67-64d99e7af916"
      },
      "execution_count": 15,
      "outputs": [
        {
          "output_type": "execute_result",
          "data": {
            "text/plain": [
              "array([[-4.49697941,  4.92246174],\n",
              "       [ 7.89793228, -6.27042244]])"
            ]
          },
          "metadata": {},
          "execution_count": 15
        }
      ]
    },
    {
      "cell_type": "code",
      "source": [
        "linalg.det(A)"
      ],
      "metadata": {
        "colab": {
          "base_uri": "https://localhost:8080/"
        },
        "id": "Kyc4hkR5DJiC",
        "outputId": "f8d75842-91cc-4d28-caa3-79896d29e004"
      },
      "execution_count": 16,
      "outputs": [
        {
          "output_type": "execute_result",
          "data": {
            "text/plain": [
              "-0.09363901797684503"
            ]
          },
          "metadata": {},
          "execution_count": 16
        }
      ]
    },
    {
      "cell_type": "code",
      "source": [
        "A.T"
      ],
      "metadata": {
        "colab": {
          "base_uri": "https://localhost:8080/"
        },
        "id": "OOXYy82yDMnk",
        "outputId": "710349d0-4104-4e47-b71f-97f316a7510c"
      },
      "execution_count": 17,
      "outputs": [
        {
          "output_type": "execute_result",
          "data": {
            "text/plain": [
              "matrix([[0.5871562 , 0.73955462],\n",
              "        [0.46093448, 0.42109274]])"
            ]
          },
          "metadata": {},
          "execution_count": 17
        }
      ]
    },
    {
      "cell_type": "code",
      "source": [
        "A.H"
      ],
      "metadata": {
        "colab": {
          "base_uri": "https://localhost:8080/"
        },
        "id": "C7xv-FuxDPfT",
        "outputId": "b40609d0-84c3-475a-fa61-437fbfdaff79"
      },
      "execution_count": 18,
      "outputs": [
        {
          "output_type": "execute_result",
          "data": {
            "text/plain": [
              "matrix([[0.5871562 , 0.73955462],\n",
              "        [0.46093448, 0.42109274]])"
            ]
          },
          "metadata": {},
          "execution_count": 18
        }
      ]
    },
    {
      "cell_type": "code",
      "source": [
        "linalg.solve(A, b)"
      ],
      "metadata": {
        "colab": {
          "base_uri": "https://localhost:8080/"
        },
        "id": "7dEznG0eDR8l",
        "outputId": "3eae7de6-6e65-4e3f-86a0-2b37be2d719e"
      },
      "execution_count": 19,
      "outputs": [
        {
          "output_type": "execute_result",
          "data": {
            "text/plain": [
              "array([[-4.49697941-20.78296768j,  0.        +15.61834991j,\n",
              "         0.        +16.04383225j],\n",
              "       [ 7.89793228+45.99970075j,  0.        -15.55624765j,\n",
              "         0.        -13.92873781j]])"
            ]
          },
          "metadata": {},
          "execution_count": 19
        }
      ]
    },
    {
      "cell_type": "code",
      "source": [
        "E = np.mat(a).T"
      ],
      "metadata": {
        "id": "0Fgb5nZHDU4w"
      },
      "execution_count": 23,
      "outputs": []
    },
    {
      "cell_type": "code",
      "source": [
        "linalg.lstsq(F, E)"
      ],
      "metadata": {
        "colab": {
          "base_uri": "https://localhost:8080/"
        },
        "id": "-LdW1WJVDXtJ",
        "outputId": "6f3212d6-e3db-4696-e40b-1bcf4afaf90f"
      },
      "execution_count": 22,
      "outputs": [
        {
          "output_type": "execute_result",
          "data": {
            "text/plain": [
              "(array([[2.],\n",
              "        [3.],\n",
              "        [0.]]), array([], dtype=float64), 2, array([1., 1., 0.]))"
            ]
          },
          "metadata": {},
          "execution_count": 22
        }
      ]
    },
    {
      "cell_type": "code",
      "source": [
        "np.add(A, D)"
      ],
      "metadata": {
        "colab": {
          "base_uri": "https://localhost:8080/"
        },
        "id": "Ds1Zfs7gDjuu",
        "outputId": "c17cd4c3-51be-49c1-92f2-db7036e4eb18"
      },
      "execution_count": 24,
      "outputs": [
        {
          "output_type": "execute_result",
          "data": {
            "text/plain": [
              "matrix([[4.5871562 , 3.46093448],\n",
              "        [2.73955462, 6.42109274]])"
            ]
          },
          "metadata": {},
          "execution_count": 24
        }
      ]
    },
    {
      "cell_type": "code",
      "source": [
        "np.subtract(A, D)"
      ],
      "metadata": {
        "colab": {
          "base_uri": "https://localhost:8080/"
        },
        "id": "RdVoZqc7DnUY",
        "outputId": "5d23a689-2d1b-4dda-96c8-27da4e4445ff"
      },
      "execution_count": 25,
      "outputs": [
        {
          "output_type": "execute_result",
          "data": {
            "text/plain": [
              "matrix([[-3.4128438 , -2.53906552],\n",
              "        [-1.26044538, -5.57890726]])"
            ]
          },
          "metadata": {},
          "execution_count": 25
        }
      ]
    },
    {
      "cell_type": "code",
      "source": [
        "np.divide(A, D)"
      ],
      "metadata": {
        "colab": {
          "base_uri": "https://localhost:8080/"
        },
        "id": "2uTV3y0FDpym",
        "outputId": "afdaba2d-369f-4dae-baab-6a4eacabfd0c"
      },
      "execution_count": 26,
      "outputs": [
        {
          "output_type": "execute_result",
          "data": {
            "text/plain": [
              "matrix([[0.14678905, 0.15364483],\n",
              "        [0.36977731, 0.07018212]])"
            ]
          },
          "metadata": {},
          "execution_count": 26
        }
      ]
    },
    {
      "cell_type": "code",
      "source": [
        "A @ D"
      ],
      "metadata": {
        "colab": {
          "base_uri": "https://localhost:8080/"
        },
        "id": "idoNaBeUDrsy",
        "outputId": "cd4046dc-4168-499f-f7a2-732d60450d9c"
      },
      "execution_count": 27,
      "outputs": [
        {
          "output_type": "execute_result",
          "data": {
            "text/plain": [
              "matrix([[3.27049377, 4.5270755 ],\n",
              "        [3.80040396, 4.74522028]])"
            ]
          },
          "metadata": {},
          "execution_count": 27
        }
      ]
    },
    {
      "cell_type": "code",
      "source": [
        "np.multiply(D, A)"
      ],
      "metadata": {
        "colab": {
          "base_uri": "https://localhost:8080/"
        },
        "id": "03pPO7EHDuIa",
        "outputId": "95cd0f53-0224-4ad3-a9e5-7b23059f764d"
      },
      "execution_count": 28,
      "outputs": [
        {
          "output_type": "execute_result",
          "data": {
            "text/plain": [
              "matrix([[2.3486248 , 1.38280345],\n",
              "        [1.47910925, 2.52655641]])"
            ]
          },
          "metadata": {},
          "execution_count": 28
        }
      ]
    },
    {
      "cell_type": "code",
      "source": [
        "np.dot(A, D)"
      ],
      "metadata": {
        "colab": {
          "base_uri": "https://localhost:8080/"
        },
        "id": "CxhJrfmHDwN3",
        "outputId": "98ccff1f-d369-4012-8425-e0e5be33eded"
      },
      "execution_count": 29,
      "outputs": [
        {
          "output_type": "execute_result",
          "data": {
            "text/plain": [
              "matrix([[3.27049377, 4.5270755 ],\n",
              "        [3.80040396, 4.74522028]])"
            ]
          },
          "metadata": {},
          "execution_count": 29
        }
      ]
    },
    {
      "cell_type": "code",
      "source": [
        "np.vdot(A, D)"
      ],
      "metadata": {
        "colab": {
          "base_uri": "https://localhost:8080/"
        },
        "id": "28QQR2N7Dy4o",
        "outputId": "02fa3731-270a-42d1-8ca0-ec41f41940b3"
      },
      "execution_count": 30,
      "outputs": [
        {
          "output_type": "execute_result",
          "data": {
            "text/plain": [
              "matrix([[2.3486248]])"
            ]
          },
          "metadata": {},
          "execution_count": 30
        }
      ]
    },
    {
      "cell_type": "code",
      "source": [
        "linalg.expm(A)"
      ],
      "metadata": {
        "colab": {
          "base_uri": "https://localhost:8080/"
        },
        "id": "OhEZ9DNqD1ql",
        "outputId": "4e893f58-b7be-42d2-9782-8163a63bc1a4"
      },
      "execution_count": 31,
      "outputs": [
        {
          "output_type": "execute_result",
          "data": {
            "text/plain": [
              "array([[2.09742694, 0.8081004 ],\n",
              "       [1.29657122, 1.80628805]])"
            ]
          },
          "metadata": {},
          "execution_count": 31
        }
      ]
    },
    {
      "cell_type": "code",
      "source": [
        "linalg.logm(A)"
      ],
      "metadata": {
        "colab": {
          "base_uri": "https://localhost:8080/"
        },
        "id": "ITFXCJDlD4_X",
        "outputId": "dd94acb4-0945-4a7f-b8a2-c35ad4b52eae"
      },
      "execution_count": 32,
      "outputs": [
        {
          "output_type": "execute_result",
          "data": {
            "text/plain": [
              "array([[-1.00479905+1.34963389j,  0.99565441-1.22774017j],\n",
              "       [ 1.59749562-1.9698698j , -1.36350907+1.79195876j]])"
            ]
          },
          "metadata": {},
          "execution_count": 32
        }
      ]
    },
    {
      "cell_type": "code",
      "source": [
        "#4. Bài toán ứng dụng 1 \n",
        "#Căn bản về mật mã học, mã hoá thông tin, mật khẩu"
      ],
      "metadata": {
        "id": "uXpp9OFGFHW9"
      },
      "execution_count": null,
      "outputs": []
    },
    {
      "cell_type": "code",
      "source": [
        "from scipy import linalg\n",
        "import numpy as np"
      ],
      "metadata": {
        "id": "F89ozquzFUqV"
      },
      "execution_count": 37,
      "outputs": []
    },
    {
      "cell_type": "code",
      "source": [
        "E = np.array([[1,-2,2],[-1,1,3],[1,-1,-4]])\n",
        "E"
      ],
      "metadata": {
        "colab": {
          "base_uri": "https://localhost:8080/"
        },
        "id": "WWNOdho9F1hx",
        "outputId": "f2f7e119-8dd4-40c5-ba4c-fc0f2a2fbaca"
      },
      "execution_count": 38,
      "outputs": [
        {
          "output_type": "execute_result",
          "data": {
            "text/plain": [
              "array([[ 1, -2,  2],\n",
              "       [-1,  1,  3],\n",
              "       [ 1, -1, -4]])"
            ]
          },
          "metadata": {},
          "execution_count": 38
        }
      ]
    },
    {
      "cell_type": "code",
      "source": [
        "KHO = np.matrix([13,11,17])\n",
        "kq_KHO = KHO.dot(E)\n",
        "kq_KHO"
      ],
      "metadata": {
        "colab": {
          "base_uri": "https://localhost:8080/"
        },
        "id": "uZECID6tGNT7",
        "outputId": "b5a028e5-deff-484a-aa29-cd9a767c2eb0"
      },
      "execution_count": 51,
      "outputs": [
        {
          "output_type": "execute_result",
          "data": {
            "text/plain": [
              "matrix([[ 19, -32,  -9]])"
            ]
          },
          "metadata": {},
          "execution_count": 51
        }
      ]
    },
    {
      "cell_type": "code",
      "source": [
        "A_H = np.matrix([1,0,11])\n",
        "kq_A_H = A_H.dot(E)\n",
        "kq_A_H"
      ],
      "metadata": {
        "colab": {
          "base_uri": "https://localhost:8080/"
        },
        "id": "kaIUlCdhG2ji",
        "outputId": "13dad064-7643-47da-9cdf-1b0d58eef966"
      },
      "execution_count": 52,
      "outputs": [
        {
          "output_type": "execute_result",
          "data": {
            "text/plain": [
              "matrix([[ 12, -13, -42]])"
            ]
          },
          "metadata": {},
          "execution_count": 52
        }
      ]
    },
    {
      "cell_type": "code",
      "source": [
        "O_C = np.matrix([17,34,5])\n",
        "kq_O_C = O_C.dot(E)\n",
        "kq_O_C"
      ],
      "metadata": {
        "colab": {
          "base_uri": "https://localhost:8080/"
        },
        "id": "D20wcFHYHAbn",
        "outputId": "572b3a11-1ead-4562-9e1c-32e7a88e514e"
      },
      "execution_count": 53,
      "outputs": [
        {
          "output_type": "execute_result",
          "data": {
            "text/plain": [
              "matrix([[-12,  -5, 116]])"
            ]
          },
          "metadata": {},
          "execution_count": 53
        }
      ]
    },
    {
      "cell_type": "code",
      "source": [
        "_DƯ = np.matrix([0,6,26])\n",
        "kq_DƯ = _DƯ.dot(E)\n",
        "kq_DƯ"
      ],
      "metadata": {
        "colab": {
          "base_uri": "https://localhost:8080/"
        },
        "id": "1kdoJW6rHKRy",
        "outputId": "150d0d62-024b-4394-ca8a-a1214d389e2a"
      },
      "execution_count": 64,
      "outputs": [
        {
          "output_type": "execute_result",
          "data": {
            "text/plain": [
              "matrix([[ 20, -20, -86]])"
            ]
          },
          "metadata": {},
          "execution_count": 64
        }
      ]
    },
    {
      "cell_type": "code",
      "source": [
        "L = np.matrix([33,0,14])\n",
        "kq_L = L.dot(E)\n",
        "kq_L"
      ],
      "metadata": {
        "colab": {
          "base_uri": "https://localhost:8080/"
        },
        "id": "U-wWEeNKHlmX",
        "outputId": "07ef4aed-02df-4a1e-abe9-038d78f59e43"
      },
      "execution_count": 55,
      "outputs": [
        {
          "output_type": "execute_result",
          "data": {
            "text/plain": [
              "matrix([[ 47, -80,  10]])"
            ]
          },
          "metadata": {},
          "execution_count": 55
        }
      ]
    },
    {
      "cell_type": "code",
      "source": [
        "IÊ = np.matrix([12,9,34])\n",
        "kq_IÊ = IÊ.dot(E)\n",
        "kq_IÊ"
      ],
      "metadata": {
        "colab": {
          "base_uri": "https://localhost:8080/"
        },
        "id": "wbG1YCljH-hu",
        "outputId": "46157821-49ae-490d-c389-facd1b5e4af0"
      },
      "execution_count": 56,
      "outputs": [
        {
          "output_type": "execute_result",
          "data": {
            "text/plain": [
              "matrix([[ 37, -49, -85]])"
            ]
          },
          "metadata": {},
          "execution_count": 56
        }
      ]
    },
    {
      "cell_type": "code",
      "source": [
        "U = np.matrix([25,35,35])\n",
        "kq_U = U.dot(E)\n",
        "kq_U"
      ],
      "metadata": {
        "colab": {
          "base_uri": "https://localhost:8080/"
        },
        "id": "tgx75WqSMNWt",
        "outputId": "168c0e50-cda9-4ba1-bfd5-f0467fdb7486"
      },
      "execution_count": 57,
      "outputs": [
        {
          "output_type": "execute_result",
          "data": {
            "text/plain": [
              "matrix([[ 25, -50,  15]])"
            ]
          },
          "metadata": {},
          "execution_count": 57
        }
      ]
    },
    {
      "cell_type": "code",
      "source": [
        "E_ = linalg.inv(E)\n",
        "E_"
      ],
      "metadata": {
        "colab": {
          "base_uri": "https://localhost:8080/"
        },
        "id": "Z3wdYKxkMWbJ",
        "outputId": "d32e4add-944f-4df8-9282-5c19a97f624b"
      },
      "execution_count": 58,
      "outputs": [
        {
          "output_type": "execute_result",
          "data": {
            "text/plain": [
              "array([[ -1., -10.,  -8.],\n",
              "       [ -1.,  -6.,  -5.],\n",
              "       [  0.,  -1.,  -1.]])"
            ]
          },
          "metadata": {},
          "execution_count": 58
        }
      ]
    },
    {
      "cell_type": "code",
      "source": [
        "#Giải mã"
      ],
      "metadata": {
        "id": "LR3XY9tVMcH-"
      },
      "execution_count": null,
      "outputs": []
    },
    {
      "cell_type": "code",
      "source": [
        "kq_KHO.dot(E_)"
      ],
      "metadata": {
        "colab": {
          "base_uri": "https://localhost:8080/"
        },
        "id": "yji_1iTGMg6I",
        "outputId": "2b3ebd7c-d478-4b9b-8210-4bacaa759276"
      },
      "execution_count": 60,
      "outputs": [
        {
          "output_type": "execute_result",
          "data": {
            "text/plain": [
              "matrix([[13., 11., 17.]])"
            ]
          },
          "metadata": {},
          "execution_count": 60
        }
      ]
    },
    {
      "cell_type": "code",
      "source": [
        "kq_A_H.dot(E_)"
      ],
      "metadata": {
        "colab": {
          "base_uri": "https://localhost:8080/"
        },
        "id": "jwPeZdr4MnC4",
        "outputId": "d8f6fdad-65d1-4151-8ff8-df5365055d61"
      },
      "execution_count": 61,
      "outputs": [
        {
          "output_type": "execute_result",
          "data": {
            "text/plain": [
              "matrix([[ 1.,  0., 11.]])"
            ]
          },
          "metadata": {},
          "execution_count": 61
        }
      ]
    },
    {
      "cell_type": "code",
      "source": [
        "kq_O_C.dot(E_)"
      ],
      "metadata": {
        "colab": {
          "base_uri": "https://localhost:8080/"
        },
        "id": "0s7qIo9jMzG7",
        "outputId": "03c0eb0c-4fd4-42d4-d56b-1fa30546123d"
      },
      "execution_count": 62,
      "outputs": [
        {
          "output_type": "execute_result",
          "data": {
            "text/plain": [
              "matrix([[17., 34.,  5.]])"
            ]
          },
          "metadata": {},
          "execution_count": 62
        }
      ]
    },
    {
      "cell_type": "code",
      "source": [
        "kq_DƯ.dot(E_)"
      ],
      "metadata": {
        "colab": {
          "base_uri": "https://localhost:8080/"
        },
        "id": "7eoIPPo-M22Q",
        "outputId": "22a06b26-70f3-46d3-f661-c1453348bb52"
      },
      "execution_count": 65,
      "outputs": [
        {
          "output_type": "execute_result",
          "data": {
            "text/plain": [
              "matrix([[ 0.,  6., 26.]])"
            ]
          },
          "metadata": {},
          "execution_count": 65
        }
      ]
    },
    {
      "cell_type": "code",
      "source": [
        "kq_L.dot(E_)"
      ],
      "metadata": {
        "colab": {
          "base_uri": "https://localhost:8080/"
        },
        "id": "G4pPhjq4NCJr",
        "outputId": "d3e4663e-8a2a-4e97-fb4d-36fbe450894a"
      },
      "execution_count": 66,
      "outputs": [
        {
          "output_type": "execute_result",
          "data": {
            "text/plain": [
              "matrix([[33.,  0., 14.]])"
            ]
          },
          "metadata": {},
          "execution_count": 66
        }
      ]
    },
    {
      "cell_type": "code",
      "source": [
        "kq_IÊ.dot(E_)"
      ],
      "metadata": {
        "colab": {
          "base_uri": "https://localhost:8080/"
        },
        "id": "_9IRBzmHNGJe",
        "outputId": "71588434-ca3e-46d4-d4b2-c063b6350901"
      },
      "execution_count": 67,
      "outputs": [
        {
          "output_type": "execute_result",
          "data": {
            "text/plain": [
              "matrix([[12.,  9., 34.]])"
            ]
          },
          "metadata": {},
          "execution_count": 67
        }
      ]
    },
    {
      "cell_type": "code",
      "source": [
        "kq_U.dot(E_)"
      ],
      "metadata": {
        "colab": {
          "base_uri": "https://localhost:8080/"
        },
        "id": "7TyqIDg4NK3E",
        "outputId": "7d10b2f0-a52e-4781-d62b-4b7a10b1ae49"
      },
      "execution_count": 68,
      "outputs": [
        {
          "output_type": "execute_result",
          "data": {
            "text/plain": [
              "matrix([[25., 35., 35.]])"
            ]
          },
          "metadata": {},
          "execution_count": 68
        }
      ]
    },
    {
      "cell_type": "code",
      "source": [
        "#Bài tập chương 1\n",
        "#Câu 1: Hãy viết chương trình bằng Python hoặc sử dụng thư viện numpy/sympy để"
      ],
      "metadata": {
        "id": "iAVmdor0NR0K"
      },
      "execution_count": null,
      "outputs": []
    },
    {
      "cell_type": "code",
      "source": [
        "#a. Tự chọn một ma trận khả nghịch 3x3. Sinh viên \n",
        "#chứng minh ma trận đó khả nghịch (tồn tại ma trận nghịch đảo)"
      ],
      "metadata": {
        "id": "jAWM95mgNcKZ"
      },
      "execution_count": null,
      "outputs": []
    },
    {
      "cell_type": "code",
      "source": [
        "from scipy import linalg\n",
        "import numpy as np"
      ],
      "metadata": {
        "id": "Oj37zN2WN9Wi"
      },
      "execution_count": 69,
      "outputs": []
    },
    {
      "cell_type": "code",
      "source": [
        "A = np.array([[1,-2,1],[-1,2,1],[1,-1,4]])\n",
        "A"
      ],
      "metadata": {
        "colab": {
          "base_uri": "https://localhost:8080/"
        },
        "id": "qPbW0CC3OD5v",
        "outputId": "f5a1e813-1439-4f8a-ec24-e60198af3814"
      },
      "execution_count": 88,
      "outputs": [
        {
          "output_type": "execute_result",
          "data": {
            "text/plain": [
              "array([[ 1, -2,  1],\n",
              "       [-1,  2,  1],\n",
              "       [ 1, -1,  4]])"
            ]
          },
          "metadata": {},
          "execution_count": 88
        }
      ]
    },
    {
      "cell_type": "code",
      "source": [
        "A_ = linalg.inv(A)\n",
        "A_"
      ],
      "metadata": {
        "colab": {
          "base_uri": "https://localhost:8080/"
        },
        "id": "qOhiU_b3Or9F",
        "outputId": "9bca66d6-3fa3-4219-f402-0ae689202e09"
      },
      "execution_count": 89,
      "outputs": [
        {
          "output_type": "execute_result",
          "data": {
            "text/plain": [
              "array([[-4.5, -3.5,  2. ],\n",
              "       [-2.5, -1.5,  1. ],\n",
              "       [ 0.5,  0.5,  0. ]])"
            ]
          },
          "metadata": {},
          "execution_count": 89
        }
      ]
    },
    {
      "cell_type": "code",
      "source": [
        "#b. Nhập họ và tên hoặc mã số sinh viên (của sinh viên).\n",
        "#c. Mã hóa họ và tên hoặc mã số sinh viên \n",
        "#d. Thực hiện giải mã với ma trận được chọn.\n",
        "# T  A  .  H  U  Y  '  N  H  T  H  Y  A  N  H\n",
        "# 24 01 34 11 25 29 31 16 11 24 11 29 01 16 11"
      ],
      "metadata": {
        "id": "Zy8Fg2H6PR37"
      },
      "execution_count": null,
      "outputs": []
    },
    {
      "cell_type": "code",
      "source": [
        "TA = np.matrix([24,1,34])\n",
        "kq1 = TA.dot(A)\n",
        "kq1"
      ],
      "metadata": {
        "colab": {
          "base_uri": "https://localhost:8080/"
        },
        "id": "ylbBcDB4Q8vY",
        "outputId": "95990de8-ce7e-4d05-b329-59afec7de952"
      },
      "execution_count": 108,
      "outputs": [
        {
          "output_type": "execute_result",
          "data": {
            "text/plain": [
              "matrix([[ 57, -80, 161]])"
            ]
          },
          "metadata": {},
          "execution_count": 108
        }
      ]
    },
    {
      "cell_type": "code",
      "source": [
        "HUY = np.matrix([11,25,29])\n",
        "kq2 = HUY.dot(A)\n",
        "kq2"
      ],
      "metadata": {
        "colab": {
          "base_uri": "https://localhost:8080/"
        },
        "id": "CX83LvJeRwN-",
        "outputId": "2fce7a0d-b76c-429d-a286-73bd94f83b39"
      },
      "execution_count": 109,
      "outputs": [
        {
          "output_type": "execute_result",
          "data": {
            "text/plain": [
              "matrix([[ 15,  -1, 152]])"
            ]
          },
          "metadata": {},
          "execution_count": 109
        }
      ]
    },
    {
      "cell_type": "code",
      "source": [
        "NH = np.matrix([31,16,11])\n",
        "kq3 = NH.dot(A)\n",
        "kq3"
      ],
      "metadata": {
        "colab": {
          "base_uri": "https://localhost:8080/"
        },
        "id": "8HFZWTbBR7-H",
        "outputId": "11c0db40-2c4a-45e3-b70c-b4933051403d"
      },
      "execution_count": 110,
      "outputs": [
        {
          "output_type": "execute_result",
          "data": {
            "text/plain": [
              "matrix([[ 26, -41,  91]])"
            ]
          },
          "metadata": {},
          "execution_count": 110
        }
      ]
    },
    {
      "cell_type": "code",
      "source": [
        "THY = np.matrix([24,11,29])\n",
        "kq4 = THY.dot(A)\n",
        "kq4"
      ],
      "metadata": {
        "colab": {
          "base_uri": "https://localhost:8080/"
        },
        "id": "ynX-8Ei1SKM-",
        "outputId": "e1c7bd2f-8a33-40eb-a5a0-defcc2832ab5"
      },
      "execution_count": 111,
      "outputs": [
        {
          "output_type": "execute_result",
          "data": {
            "text/plain": [
              "matrix([[ 42, -55, 151]])"
            ]
          },
          "metadata": {},
          "execution_count": 111
        }
      ]
    },
    {
      "cell_type": "code",
      "source": [
        "ANH = np.matrix([1,16,11])\n",
        "kq5 = ANH.dot(A)\n",
        "kq5"
      ],
      "metadata": {
        "colab": {
          "base_uri": "https://localhost:8080/"
        },
        "id": "E-Rem3MJSUuA",
        "outputId": "6f15985e-926e-4edb-8951-2a9bb0031ed9"
      },
      "execution_count": 112,
      "outputs": [
        {
          "output_type": "execute_result",
          "data": {
            "text/plain": [
              "matrix([[-4, 19, 61]])"
            ]
          },
          "metadata": {},
          "execution_count": 112
        }
      ]
    },
    {
      "cell_type": "code",
      "source": [
        "#Giai ma"
      ],
      "metadata": {
        "id": "EUfQonGFShNy"
      },
      "execution_count": null,
      "outputs": []
    },
    {
      "cell_type": "code",
      "source": [
        "kq1.dot(A_)"
      ],
      "metadata": {
        "colab": {
          "base_uri": "https://localhost:8080/"
        },
        "id": "iRYIDUqcSjkM",
        "outputId": "8ad7a42b-83d0-4503-ad51-d7622fb84a7b"
      },
      "execution_count": 114,
      "outputs": [
        {
          "output_type": "execute_result",
          "data": {
            "text/plain": [
              "matrix([[24.,  1., 34.]])"
            ]
          },
          "metadata": {},
          "execution_count": 114
        }
      ]
    },
    {
      "cell_type": "code",
      "source": [
        "kq2.dot(A_)"
      ],
      "metadata": {
        "colab": {
          "base_uri": "https://localhost:8080/"
        },
        "id": "Fauo9Z38SoYZ",
        "outputId": "121af58f-7337-49a0-c824-4c814a354dd1"
      },
      "execution_count": 113,
      "outputs": [
        {
          "output_type": "execute_result",
          "data": {
            "text/plain": [
              "matrix([[11., 25., 29.]])"
            ]
          },
          "metadata": {},
          "execution_count": 113
        }
      ]
    },
    {
      "cell_type": "code",
      "source": [
        "kq3.dot(A_)"
      ],
      "metadata": {
        "colab": {
          "base_uri": "https://localhost:8080/"
        },
        "id": "a1YVqjYwSrwj",
        "outputId": "12543c0b-68c0-4669-8cd7-7e6f46942f85"
      },
      "execution_count": 115,
      "outputs": [
        {
          "output_type": "execute_result",
          "data": {
            "text/plain": [
              "matrix([[31., 16., 11.]])"
            ]
          },
          "metadata": {},
          "execution_count": 115
        }
      ]
    },
    {
      "cell_type": "code",
      "source": [
        "kq4.dot(A_)"
      ],
      "metadata": {
        "colab": {
          "base_uri": "https://localhost:8080/"
        },
        "id": "jcZ6H_rVSuWp",
        "outputId": "eade731c-a646-4cf6-d641-14e386514644"
      },
      "execution_count": 116,
      "outputs": [
        {
          "output_type": "execute_result",
          "data": {
            "text/plain": [
              "matrix([[24., 11., 29.]])"
            ]
          },
          "metadata": {},
          "execution_count": 116
        }
      ]
    },
    {
      "cell_type": "code",
      "source": [
        "kq5.dot(A_)"
      ],
      "metadata": {
        "colab": {
          "base_uri": "https://localhost:8080/"
        },
        "id": "Nau58M9kSxBO",
        "outputId": "94e208e4-4775-49d2-89e9-3a73cd6e3c4e"
      },
      "execution_count": 117,
      "outputs": [
        {
          "output_type": "execute_result",
          "data": {
            "text/plain": [
              "matrix([[ 1., 16., 11.]])"
            ]
          },
          "metadata": {},
          "execution_count": 117
        }
      ]
    }
  ]
}