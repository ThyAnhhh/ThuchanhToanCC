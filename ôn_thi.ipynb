{
  "nbformat": 4,
  "nbformat_minor": 0,
  "metadata": {
    "colab": {
      "name": "ôn thi.ipynb",
      "provenance": [],
      "authorship_tag": "ABX9TyOx54NAhWOv070gCtdcQg8O",
      "include_colab_link": true
    },
    "kernelspec": {
      "name": "python3",
      "display_name": "Python 3"
    },
    "language_info": {
      "name": "python"
    }
  },
  "cells": [
    {
      "cell_type": "markdown",
      "metadata": {
        "id": "view-in-github",
        "colab_type": "text"
      },
      "source": [
        "<a href=\"https://colab.research.google.com/github/ThyAnhhh/ThuchanhToanCC/blob/main/%C3%B4n_thi.ipynb\" target=\"_parent\"><img src=\"https://colab.research.google.com/assets/colab-badge.svg\" alt=\"Open In Colab\"/></a>"
      ]
    },
    {
      "cell_type": "markdown",
      "source": [
        "#Câu 2:"
      ],
      "metadata": {
        "id": "qdOWb09DWtPE"
      }
    },
    {
      "cell_type": "markdown",
      "source": [
        "a.Chương trình đệ quy tính toán dãy Fibonacci:\n"
      ],
      "metadata": {
        "id": "e9T9ik5YW1HC"
      }
    },
    {
      "cell_type": "code",
      "execution_count": 7,
      "metadata": {
        "id": "XrM4yvWPWjJW"
      },
      "outputs": [],
      "source": [
        "def fibo(n):\n",
        "  if n == 0:\n",
        "    return 0\n",
        "  if n == 1:\n",
        "    return 1\n",
        "    return fibo(n-1) + fibo(n-2)"
      ]
    },
    {
      "cell_type": "markdown",
      "source": [
        "b.\t[Hàm Lambda] Hàm số tính toán số tiền phải đóng thuế khi mua xe tại TP.HCM biết rằng phương pháp tính như nhau áp dụng cho cả nước và giả sử TPHCM tính thuế 1.2% giá trị xe, giả định giá xe là 1 tỉ đồng."
      ],
      "metadata": {
        "id": "wGZw5IJKX2NT"
      }
    },
    {
      "cell_type": "code",
      "source": [
        "def thue(phan_tram): return lambda x:x*phan_tram\n",
        "hcm = thue(0.012)\n",
        "hcm(1000000000)"
      ],
      "metadata": {
        "colab": {
          "base_uri": "https://localhost:8080/"
        },
        "id": "AYlUes4_X_ms",
        "outputId": "9872f4b8-b3e1-48a0-c84a-abb95d5bd526"
      },
      "execution_count": 8,
      "outputs": [
        {
          "output_type": "execute_result",
          "data": {
            "text/plain": [
              "12000000.0"
            ]
          },
          "metadata": {},
          "execution_count": 8
        }
      ]
    },
    {
      "cell_type": "markdown",
      "source": [
        "c.[Hàm Lambda] Cài đặt phương pháp hình thang để tính tích phân cho 1 hàm. Cho ví dụ tính toán hàm y=2x trên đoạn [1,2]."
      ],
      "metadata": {
        "id": "Qc3aqLK_YTvX"
      }
    },
    {
      "cell_type": "code",
      "source": [
        "hinhthang = lambda f,a,b: (b-a)*(f(a)+f(b))/2\n",
        "def hai_x(x):\n",
        "  return 2*x\n",
        "hinhthang(hai_x,1,2)"
      ],
      "metadata": {
        "colab": {
          "base_uri": "https://localhost:8080/"
        },
        "id": "S-N5shBWYTJj",
        "outputId": "fb026fce-8b8e-4ce5-f957-368285a84ec8"
      },
      "execution_count": 10,
      "outputs": [
        {
          "output_type": "execute_result",
          "data": {
            "text/plain": [
              "3.0"
            ]
          },
          "metadata": {},
          "execution_count": 10
        }
      ]
    },
    {
      "cell_type": "markdown",
      "source": [
        "#Câu 3"
      ],
      "metadata": {
        "id": "INZ0ZyFzZAFU"
      }
    },
    {
      "cell_type": "markdown",
      "source": [
        "a.Giải phương trình: u*sin(theta)-gt=0 theo t. Với u, t, g và góc theta là các biến\n",
        "**Sử dụng hàm SOLVE để giải phương trình**"
      ],
      "metadata": {
        "id": "66rkLaMLZCSr"
      }
    },
    {
      "cell_type": "code",
      "source": [
        "from sympy import sin, solve, Symbol"
      ],
      "metadata": {
        "id": "vx3hARLpZPI-"
      },
      "execution_count": 11,
      "outputs": []
    },
    {
      "cell_type": "code",
      "source": [
        "u = Symbol('u')\n",
        "t = Symbol('t')\n",
        "g = Symbol('g')\n",
        "theta = Symbol('theta')"
      ],
      "metadata": {
        "id": "Dg8FFNINZiHf"
      },
      "execution_count": 12,
      "outputs": []
    },
    {
      "cell_type": "code",
      "source": [
        "solve(u*sin(theta)-g*t,t)"
      ],
      "metadata": {
        "colab": {
          "base_uri": "https://localhost:8080/"
        },
        "id": "gnrxiyevZr2l",
        "outputId": "af8d43ea-d47e-4baf-dbce-8e6558f8d961"
      },
      "execution_count": 17,
      "outputs": [
        {
          "output_type": "execute_result",
          "data": {
            "text/plain": [
              "[u*sin(theta)/g]"
            ]
          },
          "metadata": {},
          "execution_count": 17
        }
      ]
    },
    {
      "cell_type": "markdown",
      "source": [
        "b.Tìm các cực trị của hàm số y=x^5-30x^3+50x được định nghĩa trên miền x[-5,5]\n",
        "\n",
        "**Cực trị của hàm số là các nghiệm của đạo hàm bậc 1 của hàm số đó**"
      ],
      "metadata": {
        "id": "GuS2vl8xZ76t"
      }
    },
    {
      "cell_type": "code",
      "source": [
        "from sympy import Symbol, solve, Derivative"
      ],
      "metadata": {
        "id": "uP5GSUWpamoN"
      },
      "execution_count": 18,
      "outputs": []
    },
    {
      "cell_type": "code",
      "source": [
        "x = Symbol('x')\n",
        "f = x**5 - 30*x**3 + 50*x\n",
        "d1 = Derivative(f,x).doit()\n",
        "d1\n",
        "#Các lệnh trên, tính đạo hàm bậc 1 của hàm f là d1."
      ],
      "metadata": {
        "colab": {
          "base_uri": "https://localhost:8080/",
          "height": 38
        },
        "id": "0JLu6rfXayOY",
        "outputId": "3ef1792b-e2a9-4c22-e3c6-5153a3058b32"
      },
      "execution_count": 23,
      "outputs": [
        {
          "output_type": "execute_result",
          "data": {
            "text/plain": [
              "5*x**4 - 90*x**2 + 50"
            ],
            "text/latex": "$\\displaystyle 5 x^{4} - 90 x^{2} + 50$"
          },
          "metadata": {},
          "execution_count": 23
        }
      ]
    },
    {
      "cell_type": "code",
      "source": [
        "#Giải pt d1 = 0 để tìm tập hợp các điểm cực trị:\n",
        "cuctri = solve(d1)\n",
        "print(cuctri)"
      ],
      "metadata": {
        "colab": {
          "base_uri": "https://localhost:8080/"
        },
        "id": "E9_rgR-AbEfa",
        "outputId": "eee32ebb-6745-45fc-cd09-170264b15704"
      },
      "execution_count": 22,
      "outputs": [
        {
          "output_type": "stream",
          "name": "stdout",
          "text": [
            "[-sqrt(9 - sqrt(71)), sqrt(9 - sqrt(71)), -sqrt(sqrt(71) + 9), sqrt(sqrt(71) + 9)]\n"
          ]
        }
      ]
    },
    {
      "cell_type": "markdown",
      "source": [
        "#Câu 4: Tính giới hạn"
      ],
      "metadata": {
        "id": "_H_tW18ZbcRV"
      }
    },
    {
      "cell_type": "markdown",
      "source": [
        "a. lim x -> 00    1/x"
      ],
      "metadata": {
        "id": "y-1r51TYbtrT"
      }
    },
    {
      "cell_type": "code",
      "source": [
        "from sympy import Limit, Symbol, S"
      ],
      "metadata": {
        "id": "SyKYmhzCbe2_"
      },
      "execution_count": 23,
      "outputs": []
    },
    {
      "cell_type": "code",
      "source": [
        "x = Symbol('x')\n",
        "Limit(1/x, x, S.Infinity)"
      ],
      "metadata": {
        "colab": {
          "base_uri": "https://localhost:8080/",
          "height": 52
        },
        "id": "PLeJ24Exb_mg",
        "outputId": "d59ce10e-ee27-49d5-8d2b-fe574405e062"
      },
      "execution_count": 26,
      "outputs": [
        {
          "output_type": "execute_result",
          "data": {
            "text/plain": [
              "Limit(1/x, x, oo, dir='-')"
            ],
            "text/latex": "$\\displaystyle \\lim_{x \\to \\infty} \\frac{1}{x}$"
          },
          "metadata": {},
          "execution_count": 26
        }
      ]
    },
    {
      "cell_type": "code",
      "source": [
        "gioihan = Limit(1/x, x, S.Infinity)\n",
        "gioihan.doit()"
      ],
      "metadata": {
        "colab": {
          "base_uri": "https://localhost:8080/",
          "height": 37
        },
        "id": "uBwiudVncHn8",
        "outputId": "03d1c32b-19b4-4ca2-bd67-17b4f5282c87"
      },
      "execution_count": 28,
      "outputs": [
        {
          "output_type": "execute_result",
          "data": {
            "text/plain": [
              "0"
            ],
            "text/latex": "$\\displaystyle 0$"
          },
          "metadata": {},
          "execution_count": 28
        }
      ]
    },
    {
      "cell_type": "markdown",
      "source": [
        "b. Tính giới hạn trái và phải của 1/x khi x -> 0"
      ],
      "metadata": {
        "id": "amj_yK3RcZ18"
      }
    },
    {
      "cell_type": "code",
      "source": [
        "Limit(1/x,x,0,dir='-').doit()"
      ],
      "metadata": {
        "colab": {
          "base_uri": "https://localhost:8080/",
          "height": 37
        },
        "id": "j-AJ7UqHcfnr",
        "outputId": "ac17314f-0b71-4534-ca2e-3e819ea7da58"
      },
      "execution_count": 29,
      "outputs": [
        {
          "output_type": "execute_result",
          "data": {
            "text/plain": [
              "-oo"
            ],
            "text/latex": "$\\displaystyle -\\infty$"
          },
          "metadata": {},
          "execution_count": 29
        }
      ]
    },
    {
      "cell_type": "code",
      "source": [
        "Limit(1/x,x,0,dir='+').doit()"
      ],
      "metadata": {
        "colab": {
          "base_uri": "https://localhost:8080/",
          "height": 37
        },
        "id": "03XN2M5CcoHQ",
        "outputId": "aaa65ff2-1579-43a9-840c-3401d0f4a7d3"
      },
      "execution_count": 30,
      "outputs": [
        {
          "output_type": "execute_result",
          "data": {
            "text/plain": [
              "oo"
            ],
            "text/latex": "$\\displaystyle \\infty$"
          },
          "metadata": {},
          "execution_count": 30
        }
      ]
    },
    {
      "cell_type": "markdown",
      "source": [
        "c.lim x->0  sin(x)/x"
      ],
      "metadata": {
        "id": "MjfKWlOnc3J9"
      }
    },
    {
      "cell_type": "code",
      "source": [
        "from sympy import Symbol, sin\n",
        "Limit(sin(x)/x,x,0).doit()"
      ],
      "metadata": {
        "colab": {
          "base_uri": "https://localhost:8080/",
          "height": 37
        },
        "id": "r4aukB1Uc8aY",
        "outputId": "2a63daeb-b6a7-427d-e20c-421363d0f06a"
      },
      "execution_count": 32,
      "outputs": [
        {
          "output_type": "execute_result",
          "data": {
            "text/plain": [
              "1"
            ],
            "text/latex": "$\\displaystyle 1$"
          },
          "metadata": {},
          "execution_count": 32
        }
      ]
    },
    {
      "cell_type": "markdown",
      "source": [
        "d. lim x->00  x*sin(1/x)"
      ],
      "metadata": {
        "id": "qGAZhsSSdJD1"
      }
    },
    {
      "cell_type": "code",
      "source": [
        "from sympy import Symbol, sin\n",
        "Limit(x*sin(1/x),x,S.Infinity).doit()"
      ],
      "metadata": {
        "colab": {
          "base_uri": "https://localhost:8080/",
          "height": 37
        },
        "id": "sRnrzE-TdRZq",
        "outputId": "e1aba348-5e08-4ed3-9939-3515f4ab7b28"
      },
      "execution_count": 35,
      "outputs": [
        {
          "output_type": "execute_result",
          "data": {
            "text/plain": [
              "1"
            ],
            "text/latex": "$\\displaystyle 1$"
          },
          "metadata": {},
          "execution_count": 35
        }
      ]
    },
    {
      "cell_type": "markdown",
      "source": [
        "#Câu 5: Tính đạo hàm"
      ],
      "metadata": {
        "id": "O6PjG5Ru9grz"
      }
    },
    {
      "cell_type": "markdown",
      "source": [
        "a. f = (x^3 + x^2 +x) * (x^2 + x)"
      ],
      "metadata": {
        "id": "cRtUrqNw9iJ9"
      }
    },
    {
      "cell_type": "code",
      "source": [
        "from sympy import Derivative, Symbol\n",
        "x = Symbol('x')\n",
        "f = (x**3 + x**2 +x) * (x**2 +2)\n",
        "Derivative(f,x).doit()"
      ],
      "metadata": {
        "colab": {
          "base_uri": "https://localhost:8080/",
          "height": 39
        },
        "id": "-rn4vwGA9wBI",
        "outputId": "6a85cb53-7656-49d8-fc6c-f8c918623b2e"
      },
      "execution_count": 3,
      "outputs": [
        {
          "output_type": "execute_result",
          "data": {
            "text/plain": [
              "2*x*(x**3 + x**2 + x) + (x**2 + 2)*(3*x**2 + 2*x + 1)"
            ],
            "text/latex": "$\\displaystyle 2 x \\left(x^{3} + x^{2} + x\\right) + \\left(x^{2} + 2\\right) \\left(3 x^{2} + 2 x + 1\\right)$"
          },
          "metadata": {},
          "execution_count": 3
        }
      ]
    },
    {
      "cell_type": "markdown",
      "source": [
        "b. f(x) = sin(x)cos(x)"
      ],
      "metadata": {
        "id": "aNIgAdhh-p6z"
      }
    },
    {
      "cell_type": "code",
      "source": [
        "import sympy\n",
        "x = Symbol('x')\n",
        "f = sympy.sin(x)*sympy.cos(x)\n",
        "Derivative(f,x).doit()"
      ],
      "metadata": {
        "colab": {
          "base_uri": "https://localhost:8080/",
          "height": 38
        },
        "id": "9gB-ZaMi-0Z5",
        "outputId": "6a4e8305-de73-4922-ddef-a67d98e3cce3"
      },
      "execution_count": 10,
      "outputs": [
        {
          "output_type": "execute_result",
          "data": {
            "text/plain": [
              "-sin(x)**2 + cos(x)**2"
            ],
            "text/latex": "$\\displaystyle - \\sin^{2}{\\left(x \\right)} + \\cos^{2}{\\left(x \\right)}$"
          },
          "metadata": {},
          "execution_count": 10
        }
      ]
    },
    {
      "cell_type": "code",
      "source": [
        "import sympy\n",
        "x = Symbol('x')\n",
        "f = sympy.sin(2*x)\n",
        "Derivative(f,x).doit()"
      ],
      "metadata": {
        "colab": {
          "base_uri": "https://localhost:8080/",
          "height": 38
        },
        "id": "tSM-ICki_VU5",
        "outputId": "d44107bb-8242-400f-a95e-d89a6a278f95"
      },
      "execution_count": 12,
      "outputs": [
        {
          "output_type": "execute_result",
          "data": {
            "text/plain": [
              "2*cos(2*x)"
            ],
            "text/latex": "$\\displaystyle 2 \\cos{\\left(2 x \\right)}$"
          },
          "metadata": {},
          "execution_count": 12
        }
      ]
    },
    {
      "cell_type": "markdown",
      "source": [
        "#Câu 6: Tính tích phân"
      ],
      "metadata": {
        "id": "0BJWKAThAYzN"
      }
    },
    {
      "cell_type": "markdown",
      "source": [
        "a. Tính tích phân kxdx với k là một hằng số"
      ],
      "metadata": {
        "id": "-jLQ-EhEAedn"
      }
    },
    {
      "cell_type": "code",
      "source": [
        "from sympy import Symbol, Integral\n",
        "x = Symbol('x')\n",
        "k = Symbol('k')\n",
        "Integral(k*x,x).doit()"
      ],
      "metadata": {
        "colab": {
          "base_uri": "https://localhost:8080/",
          "height": 55
        },
        "id": "THke46x9AlcC",
        "outputId": "707dd5cc-ce11-4ca6-de40-95e5aaae1799"
      },
      "execution_count": 15,
      "outputs": [
        {
          "output_type": "execute_result",
          "data": {
            "text/plain": [
              "k*x**2/2"
            ],
            "text/latex": "$\\displaystyle \\frac{k x^{2}}{2}$"
          },
          "metadata": {},
          "execution_count": 15
        }
      ]
    },
    {
      "cell_type": "markdown",
      "source": [
        "#Câu 7: Đồ thị"
      ],
      "metadata": {
        "id": "EzlK-uZ-Ek-O"
      }
    },
    {
      "cell_type": "markdown",
      "source": [
        "a. x_number = [1,6,8] và y_number = [2,5,9]"
      ],
      "metadata": {
        "id": "FGM3TiG9En47"
      }
    },
    {
      "cell_type": "code",
      "source": [
        "x_number = [1,6,8]\n",
        "y_number = [2,5,9]\n",
        "from pylab import plot, show\n",
        "plot(x_number, y_number)\n",
        "show()"
      ],
      "metadata": {
        "colab": {
          "base_uri": "https://localhost:8080/",
          "height": 265
        },
        "id": "_dhrjI33FxRt",
        "outputId": "0d1ac104-82ca-4cdb-8134-c1ef0d213381"
      },
      "execution_count": 18,
      "outputs": [
        {
          "output_type": "display_data",
          "data": {
            "text/plain": [
              "<Figure size 432x288 with 1 Axes>"
            ],
            "image/png": "[encoded data removed]"
          },
          "metadata": {
            "needs_background": "light"
          }
        }
      ]
    },
    {
      "cell_type": "markdown",
      "source": [
        "b.\tLượng mưa tại TP trong 6 tháng đầu, biết lượng mưa của TPHCM cả năm là: hcm_rain = [13.8, 4.1, 10.5, 50.4, 218.4, 311.7, 293.7, 269.8, 327.1, 266.7, 116.5, 48.3] và months là 12 tháng trong năm."
      ],
      "metadata": {
        "id": "I_btSV1CGSXS"
      }
    },
    {
      "cell_type": "code",
      "source": [
        "from pylab import plot, show\n",
        "hcm_rain = [13.8, 4.1, 10.5, 50.4, 218.4, 311.7]\n",
        "months = range(1,7)\n",
        "plot(months, hcm_rain, marker = 'o', color = 'b')"
      ],
      "metadata": {
        "colab": {
          "base_uri": "https://localhost:8080/",
          "height": 282
        },
        "id": "caOIyK9HGTin",
        "outputId": "e7183dea-5c71-4c78-8467-d325816535cc"
      },
      "execution_count": 21,
      "outputs": [
        {
          "output_type": "execute_result",
          "data": {
            "text/plain": [
              "[<matplotlib.lines.Line2D at 0x7fd6370a9dd0>]"
            ]
          },
          "metadata": {},
          "execution_count": 21
        },
        {
          "output_type": "display_data",
          "data": {
            "text/plain": [
              "<Figure size 432x288 with 1 Axes>"
            ],
            "image/png": "[encoded data removed]"
          },
          "metadata": {
            "needs_background": "light"
          }
        }
      ]
    },
    {
      "cell_type": "markdown",
      "source": [
        ""
      ],
      "metadata": {
        "id": "MPzHToErII5d"
      }
    }
  ]
}